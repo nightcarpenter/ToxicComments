{
 "cells": [
  {
   "cell_type": "markdown",
   "metadata": {},
   "source": [
    "# Разработка модели, выявляющей токсичные комментарии"
   ]
  },
  {
   "cell_type": "markdown",
   "metadata": {},
   "source": [
    "**Цель проекта**\n",
    "\n",
    "Построение модели, способной классифицировать комментарии на позитивные и негативные со значением метрики качества *F1* не меньше 0.75. \n",
    "\n",
    "**Этапы работы**\n",
    "\n",
    "1. Разведочный анализ.\n",
    "2. Лемматизация, удаление стоп-слов.\n",
    "3. Векторизация с помощью TF-IDF.\n",
    "4. Построение модели. \n",
    "5. Выводы.\n",
    "\n",
    "**Описание данных**\n",
    "\n",
    "Данные находятся в файле `toxic_comments.csv`. Столбец *text* в нём содержит текст комментария, а *toxic* — целевой признак."
   ]
  },
  {
   "cell_type": "markdown",
   "metadata": {
    "tags": []
   },
   "source": [
    "## Импорт библиотек"
   ]
  },
  {
   "cell_type": "code",
   "execution_count": 1,
   "metadata": {},
   "outputs": [],
   "source": [
    "import pandas as pd\n",
    "import numpy as np\n",
    "from tqdm import notebook\n",
    "from matplotlib import pyplot as plt\n",
    "import seaborn as sns\n",
    "\n",
    "import warnings\n",
    "import logging\n",
    "\n",
    "import spacy\n",
    "import re\n",
    "import nltk"
   ]
  },
  {
   "cell_type": "code",
   "execution_count": 2,
   "metadata": {},
   "outputs": [],
   "source": [
    "# Импортируем библиотеку imbalanced-learn, для сэмплирования\n",
    "try:\n",
    "    from imblearn.under_sampling import RandomUnderSampler\n",
    "    from imblearn.pipeline import Pipeline\n",
    "except:\n",
    "    !pip install scikit-learn --upgrade -q\n",
    "    !pip install imbalanced-learn --upgrade -q\n",
    "    from imblearn.under_sampling import RandomUnderSampler\n",
    "    from imblearn.pipeline import Pipeline"
   ]
  },
  {
   "cell_type": "code",
   "execution_count": 3,
   "metadata": {},
   "outputs": [],
   "source": [
    "# Импортируем модули из sklearn\n",
    "from sklearn.model_selection import train_test_split, cross_val_score, StratifiedKFold\n",
    "from sklearn.linear_model import LogisticRegression\n",
    "from sklearn.neighbors import KNeighborsClassifier\n",
    "from sklearn.metrics import f1_score\n",
    "from sklearn.feature_extraction.text import TfidfVectorizer\n",
    "from sklearn.datasets import make_classification\n",
    "from sklearn.base import BaseEstimator, ClassifierMixin"
   ]
  },
  {
   "cell_type": "code",
   "execution_count": 4,
   "metadata": {},
   "outputs": [],
   "source": [
    "# Импортируем библиотеку optuna, для гиперпараметров, (если она не установлена, устанавливаем)\n",
    "try:\n",
    "    import optuna\n",
    "except:\n",
    "    !pip install optuna -q\n",
    "    import optuna"
   ]
  },
  {
   "cell_type": "code",
   "execution_count": 5,
   "metadata": {},
   "outputs": [],
   "source": [
    "# Загрузка английской модели spacy\n",
    "nlp = spacy.load(\"en_core_web_sm\")\n",
    "\n",
    "# Загрузка списка стоп-слов\n",
    "nltk.download('stopwords', quiet=True)\n",
    "stop_words = set(nltk.corpus.stopwords.words('english'))"
   ]
  },
  {
   "cell_type": "code",
   "execution_count": 6,
   "metadata": {},
   "outputs": [],
   "source": [
    "# Убираем необязательные предупреждения\n",
    "warnings.filterwarnings('ignore')\n",
    "\n",
    "# Настраиваем отображение всех строк таблицы\n",
    "pd.set_option('display.max_rows', 100)\n",
    "pd.set_option('display.max_columns', 100)\n",
    "\n",
    "# Задаём стандартне параметры для графиков\n",
    "plt.rcParams['figure.figsize'] = (13, 5)\n",
    "plt.rcParams.update({'font.size':'12'})\n",
    "\n",
    "# Устанавливаем уровень логирования для transformers на ERROR, чтобы скрыть предупреждения\n",
    "logging.getLogger(\"transformers\").setLevel(logging.ERROR)\n",
    "\n",
    "# Скрываем журнал с триалами\n",
    "optuna.logging.set_verbosity(optuna.logging.WARNING)"
   ]
  },
  {
   "cell_type": "code",
   "execution_count": 7,
   "metadata": {},
   "outputs": [],
   "source": [
    "RANDOM_STATE = 42"
   ]
  },
  {
   "cell_type": "markdown",
   "metadata": {},
   "source": [
    "## Функции и классы"
   ]
  },
  {
   "cell_type": "markdown",
   "metadata": {},
   "source": [
    "### Класс для TF-IDF"
   ]
  },
  {
   "cell_type": "code",
   "execution_count": 8,
   "metadata": {},
   "outputs": [],
   "source": [
    "class TfIdf:\n",
    "    def __init__(self):\n",
    "        self.vectorizer = TfidfVectorizer(\n",
    "            min_df=2,\n",
    "            max_df=0.7,\n",
    "            stop_words='english',\n",
    "            sublinear_tf=True\n",
    "        )\n",
    "\n",
    "    def fit_transform(self, corpus):\n",
    "        tf_idf_corpus = self.vectorizer.fit_transform(corpus)\n",
    "        return tf_idf_corpus\n",
    "\n",
    "    def transform(self, corpus):\n",
    "        tf_idf_corpus = self.vectorizer.transform(corpus)\n",
    "        return tf_idf_corpus"
   ]
  },
  {
   "cell_type": "markdown",
   "metadata": {},
   "source": [
    "### Класс для добавления порогового значения в пайплайн"
   ]
  },
  {
   "cell_type": "code",
   "execution_count": 9,
   "metadata": {},
   "outputs": [],
   "source": [
    "class ThresholdLogisticRegression(BaseEstimator, ClassifierMixin):\n",
    "    def __init__(self, model, threshold=0.5):\n",
    "        self.model = model\n",
    "        self.threshold = threshold\n",
    "    \n",
    "    def fit(self, X, y):\n",
    "        self.model.fit(X, y)\n",
    "        return self\n",
    "    \n",
    "    def predict_proba(self, X):\n",
    "        return self.model.predict_proba(X)\n",
    "    \n",
    "    def predict(self, X):\n",
    "        proba = self.predict_proba(X)[:, 1]\n",
    "        return (proba >= self.threshold).astype(int)"
   ]
  },
  {
   "cell_type": "markdown",
   "metadata": {},
   "source": [
    "### Функция для лемматизации и исключения стоп-слов"
   ]
  },
  {
   "cell_type": "code",
   "execution_count": 10,
   "metadata": {},
   "outputs": [],
   "source": [
    "def lemmatize_texts(texts):\n",
    "    lemmatized_texts = []\n",
    "    \n",
    "    for text in notebook.tqdm(texts, desc=\"Transforming\"):\n",
    "        # Обработка текста\n",
    "        doc = nlp(text.lower())\n",
    "\n",
    "        # Извлечение лемм\n",
    "        lemmas = [token.lemma_ for token in doc]\n",
    "\n",
    "        # Фильтрация лемм, исключая стоп-слова\n",
    "        lemmas_no_stopwords = [lemma for lemma in lemmas if lemma not in stop_words]\n",
    "\n",
    "        # Удаление знаков препинания и нежелательных символов\n",
    "        cleaned_lemmas = [re.sub(r'[^a-zA-Z\\s]', '', lemma) for lemma in lemmas_no_stopwords]\n",
    "\n",
    "        # Удаление слов \"talk\" и \"UTC\"\n",
    "        final_lemmas = [lemma for lemma in cleaned_lemmas if lemma not in ['talk', 'utc']]\n",
    "\n",
    "        # Преобразование списка лемм в строку и удаление лишних пробелов\n",
    "        processed_text = \" \".join(final_lemmas).split()\n",
    "        processed_text = \" \".join(processed_text)\n",
    "        \n",
    "        # Если строка пустая, заменяем её на emptyplaceholder\n",
    "        if not processed_text:\n",
    "            processed_text = \"emptyplaceholder\"\n",
    "\n",
    "        lemmatized_texts.append(processed_text)\n",
    "\n",
    "    return np.array(lemmatized_texts)"
   ]
  },
  {
   "cell_type": "markdown",
   "metadata": {},
   "source": [
    "### Функции для нахождения лучшего порогового значения"
   ]
  },
  {
   "cell_type": "code",
   "execution_count": 11,
   "metadata": {},
   "outputs": [],
   "source": [
    "def get_best_threshold(model, X, y):\n",
    "    y_pred_proba = model.predict_proba(X)[:,1]\n",
    "        \n",
    "    y_pred = pd.DataFrame({'proba': y_pred_proba})\n",
    " \n",
    "    therhold_list = []\n",
    "    f1_metric_list = []\n",
    "    for i in np.arange(0.1, 0.9, 0.01):\n",
    "        therhold_list.append(i)\n",
    "        y_pred['pred'] = y_pred['proba'].apply(lambda x: 0 if x < i else 1)\n",
    "        f1_metric = f1_score(y, y_pred['pred'])\n",
    "        f1_metric_list.append(f1_metric)\n",
    " \n",
    "    threshold_pred_df = pd.DataFrame({'threhold': therhold_list, \n",
    "                                    'f1_metric': f1_metric_list})\n",
    "\n",
    "    best_threshold_pred_df = (\n",
    "        threshold_pred_df[threshold_pred_df['f1_metric'] == threshold_pred_df['f1_metric'].max()]\n",
    "        .reset_index(drop=True)\n",
    "    )\n",
    "    \n",
    "    best_threshold = best_threshold_pred_df.loc[0, 'threhold']\n",
    "    return best_threshold"
   ]
  },
  {
   "cell_type": "code",
   "execution_count": 12,
   "metadata": {},
   "outputs": [],
   "source": [
    "def stratified_and_get_threshold(model, X_train, y_train, n_splits=5):\n",
    "    skf = StratifiedKFold(n_splits=n_splits, shuffle=True, random_state=RANDOM_STATE)\n",
    "    \n",
    "    thresholds = []\n",
    "    for fold_idx, (train_index, val_index) in notebook.tqdm(\n",
    "        enumerate(skf.split(X_train, y_train)), total=n_splits, desc='Search'):\n",
    "        # Выделяем текущий фолд как валидационную выборку\n",
    "        X_val_treshold = X_train[val_index]\n",
    "        y_val_treshold = y_train[val_index]\n",
    "\n",
    "        # Оставшиеся фолды составляют обучающую выборку\n",
    "        X_train_treshold = X_train[train_index]\n",
    "        y_train_treshold = y_train[train_index]\n",
    "        \n",
    "        # Обучаем модель\n",
    "        model.fit(X_train_treshold, y_train_treshold)\n",
    "        \n",
    "        # Получаем лучшее пороговое значение и сохраняем в список\n",
    "        threshold = get_best_threshold(model, X_val_treshold, y_val_treshold)\n",
    "        thresholds.append(threshold)\n",
    "    \n",
    "    # Возвращаем среднее пороговое значение по кроссвалидации\n",
    "    best_threshold = np.array(thresholds).mean()\n",
    "    return best_threshold"
   ]
  },
  {
   "cell_type": "markdown",
   "metadata": {},
   "source": [
    "## Загрузка данных"
   ]
  },
  {
   "cell_type": "code",
   "execution_count": 13,
   "metadata": {},
   "outputs": [
    {
     "name": "stdout",
     "output_type": "stream",
     "text": [
      "Данные были успешно загружены из файла, размер датасета: (159292, 3)\n"
     ]
    }
   ],
   "source": [
    "try:\n",
    "    data = pd.read_csv('/datasets/toxic_comments.csv')\n",
    "    print(f'Данные были успешно загружены, с сайта, размер датасета: {data.shape}')\n",
    "except:\n",
    "    data = pd.read_csv('datasets\\\\toxic_comments.csv')\n",
    "    print(f'Данные были успешно загружены из файла, размер датасета: {data.shape}')"
   ]
  },
  {
   "cell_type": "code",
   "execution_count": 14,
   "metadata": {
    "scrolled": true
   },
   "outputs": [
    {
     "data": {
      "text/html": [
       "<div>\n",
       "<style scoped>\n",
       "    .dataframe tbody tr th:only-of-type {\n",
       "        vertical-align: middle;\n",
       "    }\n",
       "\n",
       "    .dataframe tbody tr th {\n",
       "        vertical-align: top;\n",
       "    }\n",
       "\n",
       "    .dataframe thead th {\n",
       "        text-align: right;\n",
       "    }\n",
       "</style>\n",
       "<table border=\"1\" class=\"dataframe\">\n",
       "  <thead>\n",
       "    <tr style=\"text-align: right;\">\n",
       "      <th></th>\n",
       "      <th>Unnamed: 0</th>\n",
       "      <th>text</th>\n",
       "      <th>toxic</th>\n",
       "    </tr>\n",
       "  </thead>\n",
       "  <tbody>\n",
       "    <tr>\n",
       "      <th>150047</th>\n",
       "      <td>150203</td>\n",
       "      <td>\"* Template talk:R help#\"\"Like\"\" a /doc page\\n\"</td>\n",
       "      <td>0</td>\n",
       "    </tr>\n",
       "  </tbody>\n",
       "</table>\n",
       "</div>"
      ],
      "text/plain": [
       "        Unnamed: 0                                             text  toxic\n",
       "150047      150203  \"* Template talk:R help#\"\"Like\"\" a /doc page\\n\"      0"
      ]
     },
     "execution_count": 14,
     "metadata": {},
     "output_type": "execute_result"
    }
   ],
   "source": [
    "data.sample(1)"
   ]
  },
  {
   "cell_type": "markdown",
   "metadata": {},
   "source": [
    "Удалим лишнюю колонку."
   ]
  },
  {
   "cell_type": "code",
   "execution_count": 15,
   "metadata": {
    "scrolled": true
   },
   "outputs": [
    {
     "data": {
      "text/html": [
       "<div>\n",
       "<style scoped>\n",
       "    .dataframe tbody tr th:only-of-type {\n",
       "        vertical-align: middle;\n",
       "    }\n",
       "\n",
       "    .dataframe tbody tr th {\n",
       "        vertical-align: top;\n",
       "    }\n",
       "\n",
       "    .dataframe thead th {\n",
       "        text-align: right;\n",
       "    }\n",
       "</style>\n",
       "<table border=\"1\" class=\"dataframe\">\n",
       "  <thead>\n",
       "    <tr style=\"text-align: right;\">\n",
       "      <th></th>\n",
       "      <th>text</th>\n",
       "      <th>toxic</th>\n",
       "    </tr>\n",
       "  </thead>\n",
       "  <tbody>\n",
       "    <tr>\n",
       "      <th>67335</th>\n",
       "      <td>New CEO. \\n\\n(Already put this on the Talk: Ja...</td>\n",
       "      <td>0</td>\n",
       "    </tr>\n",
       "  </tbody>\n",
       "</table>\n",
       "</div>"
      ],
      "text/plain": [
       "                                                    text  toxic\n",
       "67335  New CEO. \\n\\n(Already put this on the Talk: Ja...      0"
      ]
     },
     "execution_count": 15,
     "metadata": {},
     "output_type": "execute_result"
    }
   ],
   "source": [
    "data = data[['text', 'toxic']]\n",
    "data.sample(1)"
   ]
  },
  {
   "cell_type": "markdown",
   "metadata": {},
   "source": [
    "**Посмотрим пример текста.**"
   ]
  },
  {
   "cell_type": "code",
   "execution_count": 16,
   "metadata": {},
   "outputs": [
    {
     "data": {
      "text/plain": [
       "\"Your vandalism to the Matt Shirvington article has been reverted.  Please don't do it again, or you will be banned.\""
      ]
     },
     "execution_count": 16,
     "metadata": {},
     "output_type": "execute_result"
    }
   ],
   "source": [
    "data.loc[7, 'text']"
   ]
  },
  {
   "cell_type": "markdown",
   "metadata": {},
   "source": [
    "**Посмотрим распределение целевого признака.**"
   ]
  },
  {
   "cell_type": "code",
   "execution_count": 17,
   "metadata": {},
   "outputs": [
    {
     "data": {
      "image/png": "[encoded data removed]",
      "text/plain": [
       "<Figure size 1300x500 with 1 Axes>"
      ]
     },
     "metadata": {},
     "output_type": "display_data"
    }
   ],
   "source": [
    "data['toxic'].value_counts().plot.pie(autopct='%1.1f%%')\n",
    "plt.title('Баланс классов целевого признака')\n",
    "plt.show()"
   ]
  },
  {
   "cell_type": "markdown",
   "metadata": {},
   "source": [
    "**Вывод:**\n",
    "\n",
    "- Данные были загружены, данные соответствуют описанию.\n",
    "- Токичных комментариев всего 10% от общего числа."
   ]
  },
  {
   "cell_type": "markdown",
   "metadata": {},
   "source": [
    "## Подготовка данных"
   ]
  },
  {
   "cell_type": "markdown",
   "metadata": {},
   "source": [
    "**Сразу раздем датасет на тренировочную и тестовую выборки**"
   ]
  },
  {
   "cell_type": "code",
   "execution_count": 18,
   "metadata": {},
   "outputs": [
    {
     "name": "stdout",
     "output_type": "stream",
     "text": [
      "Размер тренировочной выборки: 127433\n",
      "Размер тестовой выборки: 31859\n"
     ]
    }
   ],
   "source": [
    "# Разделение данных на тренировочную и тестовую выборки с сохранением соотношения классов\n",
    "train_text, test_text = train_test_split(\n",
    "    data, \n",
    "    test_size=0.2, \n",
    "    random_state=RANDOM_STATE, \n",
    "    stratify=data['toxic']\n",
    ")\n",
    "\n",
    "# Проверяем результат\n",
    "print(f\"Размер тренировочной выборки: {len(train_text)}\")\n",
    "print(f\"Размер тестовой выборки: {len(test_text)}\")"
   ]
  },
  {
   "cell_type": "markdown",
   "metadata": {},
   "source": [
    "**Разбиваем выборки на features и target.**"
   ]
  },
  {
   "cell_type": "code",
   "execution_count": 19,
   "metadata": {},
   "outputs": [
    {
     "name": "stdout",
     "output_type": "stream",
     "text": [
      "(127433,)\n",
      "(127433,)\n"
     ]
    }
   ],
   "source": [
    "X_train_text = train_text['text'].values\n",
    "y_train = train_text['toxic'].values\n",
    "\n",
    "print(X_train_text.shape)\n",
    "print(y_train.shape)"
   ]
  },
  {
   "cell_type": "code",
   "execution_count": 20,
   "metadata": {},
   "outputs": [
    {
     "name": "stdout",
     "output_type": "stream",
     "text": [
      "(31859,)\n",
      "(31859,)\n"
     ]
    }
   ],
   "source": [
    "X_test_text = test_text['text'].values\n",
    "y_test = test_text['toxic'].values\n",
    "\n",
    "print(X_test_text.shape)\n",
    "print(y_test.shape)"
   ]
  },
  {
   "cell_type": "markdown",
   "metadata": {},
   "source": [
    "**Лемматизируем выборки и исключаем стоп-слова.**"
   ]
  },
  {
   "cell_type": "code",
   "execution_count": 21,
   "metadata": {
    "scrolled": true
   },
   "outputs": [
    {
     "data": {
      "application/vnd.jupyter.widget-view+json": {
       "model_id": "46b13c983b0947d0a9f6c316019d5127",
       "version_major": 2,
       "version_minor": 0
      },
      "text/plain": [
       "Transforming:   0%|          | 0/127433 [00:00<?, ?it/s]"
      ]
     },
     "metadata": {},
     "output_type": "display_data"
    },
    {
     "data": {
      "text/plain": [
       "(127433,)"
      ]
     },
     "execution_count": 21,
     "metadata": {},
     "output_type": "execute_result"
    }
   ],
   "source": [
    "X_train_text = lemmatize_texts(X_train_text)\n",
    "X_train_text.shape"
   ]
  },
  {
   "cell_type": "code",
   "execution_count": 22,
   "metadata": {
    "scrolled": true
   },
   "outputs": [
    {
     "data": {
      "application/vnd.jupyter.widget-view+json": {
       "model_id": "1c298ee27b024ebebd88a1f6fd39c932",
       "version_major": 2,
       "version_minor": 0
      },
      "text/plain": [
       "Transforming:   0%|          | 0/31859 [00:00<?, ?it/s]"
      ]
     },
     "metadata": {},
     "output_type": "display_data"
    },
    {
     "data": {
      "text/plain": [
       "(31859,)"
      ]
     },
     "execution_count": 22,
     "metadata": {},
     "output_type": "execute_result"
    }
   ],
   "source": [
    "X_test_text = lemmatize_texts(X_test_text)\n",
    "X_test_text.shape"
   ]
  },
  {
   "cell_type": "markdown",
   "metadata": {},
   "source": [
    "**Смотрим и убираем дубоикаты из тренировочной выборки.**"
   ]
  },
  {
   "cell_type": "code",
   "execution_count": 23,
   "metadata": {},
   "outputs": [
    {
     "name": "stdout",
     "output_type": "stream",
     "text": [
      "Количество дубликатов: 1450\n"
     ]
    }
   ],
   "source": [
    "train_text = pd.DataFrame({'features': X_train_text, 'target': y_train})\n",
    "print(\"Количество дубликатов:\", train_text.duplicated().sum())"
   ]
  },
  {
   "cell_type": "code",
   "execution_count": 24,
   "metadata": {
    "scrolled": true
   },
   "outputs": [
    {
     "name": "stdout",
     "output_type": "stream",
     "text": [
      "Количество дубликатов: 0\n"
     ]
    }
   ],
   "source": [
    "train_text = train_text.drop_duplicates().reset_index(drop=True)\n",
    "print(\"Количество дубликатов:\", train_text.duplicated().sum())"
   ]
  },
  {
   "cell_type": "code",
   "execution_count": 25,
   "metadata": {},
   "outputs": [
    {
     "name": "stdout",
     "output_type": "stream",
     "text": [
      "(125983,)\n",
      "(125983,)\n"
     ]
    }
   ],
   "source": [
    "X_train_text = np.array(train_text['features'])\n",
    "y_train = np.array(train_text['target'])\n",
    "print(X_train_text.shape)\n",
    "print(y_train.shape)"
   ]
  },
  {
   "cell_type": "markdown",
   "metadata": {},
   "source": [
    "**Конвертируем лемматизированный текст в разряженную числовую матрицу.**"
   ]
  },
  {
   "cell_type": "code",
   "execution_count": 26,
   "metadata": {},
   "outputs": [],
   "source": [
    "words_vectoriser = TfIdf()"
   ]
  },
  {
   "cell_type": "code",
   "execution_count": 27,
   "metadata": {},
   "outputs": [
    {
     "data": {
      "text/plain": [
       "(125983, 52807)"
      ]
     },
     "execution_count": 27,
     "metadata": {},
     "output_type": "execute_result"
    }
   ],
   "source": [
    "X_train = words_vectoriser.fit_transform(X_train_text)\n",
    "X_train.shape"
   ]
  },
  {
   "cell_type": "code",
   "execution_count": 28,
   "metadata": {},
   "outputs": [
    {
     "data": {
      "text/plain": [
       "(31859, 52807)"
      ]
     },
     "execution_count": 28,
     "metadata": {},
     "output_type": "execute_result"
    }
   ],
   "source": [
    "X_test = words_vectoriser.transform(X_test_text)\n",
    "X_test.shape"
   ]
  },
  {
   "cell_type": "markdown",
   "metadata": {},
   "source": [
    "## Обучение моделей"
   ]
  },
  {
   "cell_type": "markdown",
   "metadata": {},
   "source": [
    "**Подбираем параметры и тестируем LogisticRegression.**"
   ]
  },
  {
   "cell_type": "code",
   "execution_count": 29,
   "metadata": {},
   "outputs": [
    {
     "data": {
      "application/vnd.jupyter.widget-view+json": {
       "model_id": "4ff2e324994f4e77a6214a1f8197bd7b",
       "version_major": 2,
       "version_minor": 0
      },
      "text/plain": [
       "  0%|          | 0/5 [00:00<?, ?it/s]"
      ]
     },
     "metadata": {},
     "output_type": "display_data"
    },
    {
     "data": {
      "text/html": [
       "<style>#sk-container-id-1 {\n",
       "  /* Definition of color scheme common for light and dark mode */\n",
       "  --sklearn-color-text: black;\n",
       "  --sklearn-color-line: gray;\n",
       "  /* Definition of color scheme for unfitted estimators */\n",
       "  --sklearn-color-unfitted-level-0: #fff5e6;\n",
       "  --sklearn-color-unfitted-level-1: #f6e4d2;\n",
       "  --sklearn-color-unfitted-level-2: #ffe0b3;\n",
       "  --sklearn-color-unfitted-level-3: chocolate;\n",
       "  /* Definition of color scheme for fitted estimators */\n",
       "  --sklearn-color-fitted-level-0: #f0f8ff;\n",
       "  --sklearn-color-fitted-level-1: #d4ebff;\n",
       "  --sklearn-color-fitted-level-2: #b3dbfd;\n",
       "  --sklearn-color-fitted-level-3: cornflowerblue;\n",
       "\n",
       "  /* Specific color for light theme */\n",
       "  --sklearn-color-text-on-default-background: var(--sg-text-color, var(--theme-code-foreground, var(--jp-content-font-color1, black)));\n",
       "  --sklearn-color-background: var(--sg-background-color, var(--theme-background, var(--jp-layout-color0, white)));\n",
       "  --sklearn-color-border-box: var(--sg-text-color, var(--theme-code-foreground, var(--jp-content-font-color1, black)));\n",
       "  --sklearn-color-icon: #696969;\n",
       "\n",
       "  @media (prefers-color-scheme: dark) {\n",
       "    /* Redefinition of color scheme for dark theme */\n",
       "    --sklearn-color-text-on-default-background: var(--sg-text-color, var(--theme-code-foreground, var(--jp-content-font-color1, white)));\n",
       "    --sklearn-color-background: var(--sg-background-color, var(--theme-background, var(--jp-layout-color0, #111)));\n",
       "    --sklearn-color-border-box: var(--sg-text-color, var(--theme-code-foreground, var(--jp-content-font-color1, white)));\n",
       "    --sklearn-color-icon: #878787;\n",
       "  }\n",
       "}\n",
       "\n",
       "#sk-container-id-1 {\n",
       "  color: var(--sklearn-color-text);\n",
       "}\n",
       "\n",
       "#sk-container-id-1 pre {\n",
       "  padding: 0;\n",
       "}\n",
       "\n",
       "#sk-container-id-1 input.sk-hidden--visually {\n",
       "  border: 0;\n",
       "  clip: rect(1px 1px 1px 1px);\n",
       "  clip: rect(1px, 1px, 1px, 1px);\n",
       "  height: 1px;\n",
       "  margin: -1px;\n",
       "  overflow: hidden;\n",
       "  padding: 0;\n",
       "  position: absolute;\n",
       "  width: 1px;\n",
       "}\n",
       "\n",
       "#sk-container-id-1 div.sk-dashed-wrapped {\n",
       "  border: 1px dashed var(--sklearn-color-line);\n",
       "  margin: 0 0.4em 0.5em 0.4em;\n",
       "  box-sizing: border-box;\n",
       "  padding-bottom: 0.4em;\n",
       "  background-color: var(--sklearn-color-background);\n",
       "}\n",
       "\n",
       "#sk-container-id-1 div.sk-container {\n",
       "  /* jupyter's `normalize.less` sets `[hidden] { display: none; }`\n",
       "     but bootstrap.min.css set `[hidden] { display: none !important; }`\n",
       "     so we also need the `!important` here to be able to override the\n",
       "     default hidden behavior on the sphinx rendered scikit-learn.org.\n",
       "     See: https://github.com/scikit-learn/scikit-learn/issues/21755 */\n",
       "  display: inline-block !important;\n",
       "  position: relative;\n",
       "}\n",
       "\n",
       "#sk-container-id-1 div.sk-text-repr-fallback {\n",
       "  display: none;\n",
       "}\n",
       "\n",
       "div.sk-parallel-item,\n",
       "div.sk-serial,\n",
       "div.sk-item {\n",
       "  /* draw centered vertical line to link estimators */\n",
       "  background-image: linear-gradient(var(--sklearn-color-text-on-default-background), var(--sklearn-color-text-on-default-background));\n",
       "  background-size: 2px 100%;\n",
       "  background-repeat: no-repeat;\n",
       "  background-position: center center;\n",
       "}\n",
       "\n",
       "/* Parallel-specific style estimator block */\n",
       "\n",
       "#sk-container-id-1 div.sk-parallel-item::after {\n",
       "  content: \"\";\n",
       "  width: 100%;\n",
       "  border-bottom: 2px solid var(--sklearn-color-text-on-default-background);\n",
       "  flex-grow: 1;\n",
       "}\n",
       "\n",
       "#sk-container-id-1 div.sk-parallel {\n",
       "  display: flex;\n",
       "  align-items: stretch;\n",
       "  justify-content: center;\n",
       "  background-color: var(--sklearn-color-background);\n",
       "  position: relative;\n",
       "}\n",
       "\n",
       "#sk-container-id-1 div.sk-parallel-item {\n",
       "  display: flex;\n",
       "  flex-direction: column;\n",
       "}\n",
       "\n",
       "#sk-container-id-1 div.sk-parallel-item:first-child::after {\n",
       "  align-self: flex-end;\n",
       "  width: 50%;\n",
       "}\n",
       "\n",
       "#sk-container-id-1 div.sk-parallel-item:last-child::after {\n",
       "  align-self: flex-start;\n",
       "  width: 50%;\n",
       "}\n",
       "\n",
       "#sk-container-id-1 div.sk-parallel-item:only-child::after {\n",
       "  width: 0;\n",
       "}\n",
       "\n",
       "/* Serial-specific style estimator block */\n",
       "\n",
       "#sk-container-id-1 div.sk-serial {\n",
       "  display: flex;\n",
       "  flex-direction: column;\n",
       "  align-items: center;\n",
       "  background-color: var(--sklearn-color-background);\n",
       "  padding-right: 1em;\n",
       "  padding-left: 1em;\n",
       "}\n",
       "\n",
       "\n",
       "/* Toggleable style: style used for estimator/Pipeline/ColumnTransformer box that is\n",
       "clickable and can be expanded/collapsed.\n",
       "- Pipeline and ColumnTransformer use this feature and define the default style\n",
       "- Estimators will overwrite some part of the style using the `sk-estimator` class\n",
       "*/\n",
       "\n",
       "/* Pipeline and ColumnTransformer style (default) */\n",
       "\n",
       "#sk-container-id-1 div.sk-toggleable {\n",
       "  /* Default theme specific background. It is overwritten whether we have a\n",
       "  specific estimator or a Pipeline/ColumnTransformer */\n",
       "  background-color: var(--sklearn-color-background);\n",
       "}\n",
       "\n",
       "/* Toggleable label */\n",
       "#sk-container-id-1 label.sk-toggleable__label {\n",
       "  cursor: pointer;\n",
       "  display: block;\n",
       "  width: 100%;\n",
       "  margin-bottom: 0;\n",
       "  padding: 0.5em;\n",
       "  box-sizing: border-box;\n",
       "  text-align: center;\n",
       "}\n",
       "\n",
       "#sk-container-id-1 label.sk-toggleable__label-arrow:before {\n",
       "  /* Arrow on the left of the label */\n",
       "  content: \"▸\";\n",
       "  float: left;\n",
       "  margin-right: 0.25em;\n",
       "  color: var(--sklearn-color-icon);\n",
       "}\n",
       "\n",
       "#sk-container-id-1 label.sk-toggleable__label-arrow:hover:before {\n",
       "  color: var(--sklearn-color-text);\n",
       "}\n",
       "\n",
       "/* Toggleable content - dropdown */\n",
       "\n",
       "#sk-container-id-1 div.sk-toggleable__content {\n",
       "  max-height: 0;\n",
       "  max-width: 0;\n",
       "  overflow: hidden;\n",
       "  text-align: left;\n",
       "  /* unfitted */\n",
       "  background-color: var(--sklearn-color-unfitted-level-0);\n",
       "}\n",
       "\n",
       "#sk-container-id-1 div.sk-toggleable__content.fitted {\n",
       "  /* fitted */\n",
       "  background-color: var(--sklearn-color-fitted-level-0);\n",
       "}\n",
       "\n",
       "#sk-container-id-1 div.sk-toggleable__content pre {\n",
       "  margin: 0.2em;\n",
       "  border-radius: 0.25em;\n",
       "  color: var(--sklearn-color-text);\n",
       "  /* unfitted */\n",
       "  background-color: var(--sklearn-color-unfitted-level-0);\n",
       "}\n",
       "\n",
       "#sk-container-id-1 div.sk-toggleable__content.fitted pre {\n",
       "  /* unfitted */\n",
       "  background-color: var(--sklearn-color-fitted-level-0);\n",
       "}\n",
       "\n",
       "#sk-container-id-1 input.sk-toggleable__control:checked~div.sk-toggleable__content {\n",
       "  /* Expand drop-down */\n",
       "  max-height: 200px;\n",
       "  max-width: 100%;\n",
       "  overflow: auto;\n",
       "}\n",
       "\n",
       "#sk-container-id-1 input.sk-toggleable__control:checked~label.sk-toggleable__label-arrow:before {\n",
       "  content: \"▾\";\n",
       "}\n",
       "\n",
       "/* Pipeline/ColumnTransformer-specific style */\n",
       "\n",
       "#sk-container-id-1 div.sk-label input.sk-toggleable__control:checked~label.sk-toggleable__label {\n",
       "  color: var(--sklearn-color-text);\n",
       "  background-color: var(--sklearn-color-unfitted-level-2);\n",
       "}\n",
       "\n",
       "#sk-container-id-1 div.sk-label.fitted input.sk-toggleable__control:checked~label.sk-toggleable__label {\n",
       "  background-color: var(--sklearn-color-fitted-level-2);\n",
       "}\n",
       "\n",
       "/* Estimator-specific style */\n",
       "\n",
       "/* Colorize estimator box */\n",
       "#sk-container-id-1 div.sk-estimator input.sk-toggleable__control:checked~label.sk-toggleable__label {\n",
       "  /* unfitted */\n",
       "  background-color: var(--sklearn-color-unfitted-level-2);\n",
       "}\n",
       "\n",
       "#sk-container-id-1 div.sk-estimator.fitted input.sk-toggleable__control:checked~label.sk-toggleable__label {\n",
       "  /* fitted */\n",
       "  background-color: var(--sklearn-color-fitted-level-2);\n",
       "}\n",
       "\n",
       "#sk-container-id-1 div.sk-label label.sk-toggleable__label,\n",
       "#sk-container-id-1 div.sk-label label {\n",
       "  /* The background is the default theme color */\n",
       "  color: var(--sklearn-color-text-on-default-background);\n",
       "}\n",
       "\n",
       "/* On hover, darken the color of the background */\n",
       "#sk-container-id-1 div.sk-label:hover label.sk-toggleable__label {\n",
       "  color: var(--sklearn-color-text);\n",
       "  background-color: var(--sklearn-color-unfitted-level-2);\n",
       "}\n",
       "\n",
       "/* Label box, darken color on hover, fitted */\n",
       "#sk-container-id-1 div.sk-label.fitted:hover label.sk-toggleable__label.fitted {\n",
       "  color: var(--sklearn-color-text);\n",
       "  background-color: var(--sklearn-color-fitted-level-2);\n",
       "}\n",
       "\n",
       "/* Estimator label */\n",
       "\n",
       "#sk-container-id-1 div.sk-label label {\n",
       "  font-family: monospace;\n",
       "  font-weight: bold;\n",
       "  display: inline-block;\n",
       "  line-height: 1.2em;\n",
       "}\n",
       "\n",
       "#sk-container-id-1 div.sk-label-container {\n",
       "  text-align: center;\n",
       "}\n",
       "\n",
       "/* Estimator-specific */\n",
       "#sk-container-id-1 div.sk-estimator {\n",
       "  font-family: monospace;\n",
       "  border: 1px dotted var(--sklearn-color-border-box);\n",
       "  border-radius: 0.25em;\n",
       "  box-sizing: border-box;\n",
       "  margin-bottom: 0.5em;\n",
       "  /* unfitted */\n",
       "  background-color: var(--sklearn-color-unfitted-level-0);\n",
       "}\n",
       "\n",
       "#sk-container-id-1 div.sk-estimator.fitted {\n",
       "  /* fitted */\n",
       "  background-color: var(--sklearn-color-fitted-level-0);\n",
       "}\n",
       "\n",
       "/* on hover */\n",
       "#sk-container-id-1 div.sk-estimator:hover {\n",
       "  /* unfitted */\n",
       "  background-color: var(--sklearn-color-unfitted-level-2);\n",
       "}\n",
       "\n",
       "#sk-container-id-1 div.sk-estimator.fitted:hover {\n",
       "  /* fitted */\n",
       "  background-color: var(--sklearn-color-fitted-level-2);\n",
       "}\n",
       "\n",
       "/* Specification for estimator info (e.g. \"i\" and \"?\") */\n",
       "\n",
       "/* Common style for \"i\" and \"?\" */\n",
       "\n",
       ".sk-estimator-doc-link,\n",
       "a:link.sk-estimator-doc-link,\n",
       "a:visited.sk-estimator-doc-link {\n",
       "  float: right;\n",
       "  font-size: smaller;\n",
       "  line-height: 1em;\n",
       "  font-family: monospace;\n",
       "  background-color: var(--sklearn-color-background);\n",
       "  border-radius: 1em;\n",
       "  height: 1em;\n",
       "  width: 1em;\n",
       "  text-decoration: none !important;\n",
       "  margin-left: 1ex;\n",
       "  /* unfitted */\n",
       "  border: var(--sklearn-color-unfitted-level-1) 1pt solid;\n",
       "  color: var(--sklearn-color-unfitted-level-1);\n",
       "}\n",
       "\n",
       ".sk-estimator-doc-link.fitted,\n",
       "a:link.sk-estimator-doc-link.fitted,\n",
       "a:visited.sk-estimator-doc-link.fitted {\n",
       "  /* fitted */\n",
       "  border: var(--sklearn-color-fitted-level-1) 1pt solid;\n",
       "  color: var(--sklearn-color-fitted-level-1);\n",
       "}\n",
       "\n",
       "/* On hover */\n",
       "div.sk-estimator:hover .sk-estimator-doc-link:hover,\n",
       ".sk-estimator-doc-link:hover,\n",
       "div.sk-label-container:hover .sk-estimator-doc-link:hover,\n",
       ".sk-estimator-doc-link:hover {\n",
       "  /* unfitted */\n",
       "  background-color: var(--sklearn-color-unfitted-level-3);\n",
       "  color: var(--sklearn-color-background);\n",
       "  text-decoration: none;\n",
       "}\n",
       "\n",
       "div.sk-estimator.fitted:hover .sk-estimator-doc-link.fitted:hover,\n",
       ".sk-estimator-doc-link.fitted:hover,\n",
       "div.sk-label-container:hover .sk-estimator-doc-link.fitted:hover,\n",
       ".sk-estimator-doc-link.fitted:hover {\n",
       "  /* fitted */\n",
       "  background-color: var(--sklearn-color-fitted-level-3);\n",
       "  color: var(--sklearn-color-background);\n",
       "  text-decoration: none;\n",
       "}\n",
       "\n",
       "/* Span, style for the box shown on hovering the info icon */\n",
       ".sk-estimator-doc-link span {\n",
       "  display: none;\n",
       "  z-index: 9999;\n",
       "  position: relative;\n",
       "  font-weight: normal;\n",
       "  right: .2ex;\n",
       "  padding: .5ex;\n",
       "  margin: .5ex;\n",
       "  width: min-content;\n",
       "  min-width: 20ex;\n",
       "  max-width: 50ex;\n",
       "  color: var(--sklearn-color-text);\n",
       "  box-shadow: 2pt 2pt 4pt #999;\n",
       "  /* unfitted */\n",
       "  background: var(--sklearn-color-unfitted-level-0);\n",
       "  border: .5pt solid var(--sklearn-color-unfitted-level-3);\n",
       "}\n",
       "\n",
       ".sk-estimator-doc-link.fitted span {\n",
       "  /* fitted */\n",
       "  background: var(--sklearn-color-fitted-level-0);\n",
       "  border: var(--sklearn-color-fitted-level-3);\n",
       "}\n",
       "\n",
       ".sk-estimator-doc-link:hover span {\n",
       "  display: block;\n",
       "}\n",
       "\n",
       "/* \"?\"-specific style due to the `<a>` HTML tag */\n",
       "\n",
       "#sk-container-id-1 a.estimator_doc_link {\n",
       "  float: right;\n",
       "  font-size: 1rem;\n",
       "  line-height: 1em;\n",
       "  font-family: monospace;\n",
       "  background-color: var(--sklearn-color-background);\n",
       "  border-radius: 1rem;\n",
       "  height: 1rem;\n",
       "  width: 1rem;\n",
       "  text-decoration: none;\n",
       "  /* unfitted */\n",
       "  color: var(--sklearn-color-unfitted-level-1);\n",
       "  border: var(--sklearn-color-unfitted-level-1) 1pt solid;\n",
       "}\n",
       "\n",
       "#sk-container-id-1 a.estimator_doc_link.fitted {\n",
       "  /* fitted */\n",
       "  border: var(--sklearn-color-fitted-level-1) 1pt solid;\n",
       "  color: var(--sklearn-color-fitted-level-1);\n",
       "}\n",
       "\n",
       "/* On hover */\n",
       "#sk-container-id-1 a.estimator_doc_link:hover {\n",
       "  /* unfitted */\n",
       "  background-color: var(--sklearn-color-unfitted-level-3);\n",
       "  color: var(--sklearn-color-background);\n",
       "  text-decoration: none;\n",
       "}\n",
       "\n",
       "#sk-container-id-1 a.estimator_doc_link.fitted:hover {\n",
       "  /* fitted */\n",
       "  background-color: var(--sklearn-color-fitted-level-3);\n",
       "}\n",
       "</style><div id=\"sk-container-id-1\" class=\"sk-top-container\"><div class=\"sk-text-repr-fallback\"><pre>Pipeline(steps=[(&#x27;sampling&#x27;, RandomUnderSampler(random_state=42)),\n",
       "                (&#x27;model&#x27;,\n",
       "                 LogisticRegression(C=3.142880890840109, random_state=42,\n",
       "                                    solver=&#x27;liblinear&#x27;))])</pre><b>In a Jupyter environment, please rerun this cell to show the HTML representation or trust the notebook. <br />On GitHub, the HTML representation is unable to render, please try loading this page with nbviewer.org.</b></div><div class=\"sk-container\" hidden><div class=\"sk-item sk-dashed-wrapped\"><div class=\"sk-label-container\"><div class=\"sk-label fitted sk-toggleable\"><input class=\"sk-toggleable__control sk-hidden--visually\" id=\"sk-estimator-id-1\" type=\"checkbox\" ><label for=\"sk-estimator-id-1\" class=\"sk-toggleable__label fitted sk-toggleable__label-arrow fitted\">&nbsp;Pipeline<span class=\"sk-estimator-doc-link fitted\">i<span>Fitted</span></span></label><div class=\"sk-toggleable__content fitted\"><pre>Pipeline(steps=[(&#x27;sampling&#x27;, RandomUnderSampler(random_state=42)),\n",
       "                (&#x27;model&#x27;,\n",
       "                 LogisticRegression(C=3.142880890840109, random_state=42,\n",
       "                                    solver=&#x27;liblinear&#x27;))])</pre></div> </div></div><div class=\"sk-serial\"><div class=\"sk-item\"><div class=\"sk-estimator fitted sk-toggleable\"><input class=\"sk-toggleable__control sk-hidden--visually\" id=\"sk-estimator-id-2\" type=\"checkbox\" ><label for=\"sk-estimator-id-2\" class=\"sk-toggleable__label fitted sk-toggleable__label-arrow fitted\">RandomUnderSampler</label><div class=\"sk-toggleable__content fitted\"><pre>RandomUnderSampler(random_state=42)</pre></div> </div></div><div class=\"sk-item\"><div class=\"sk-estimator fitted sk-toggleable\"><input class=\"sk-toggleable__control sk-hidden--visually\" id=\"sk-estimator-id-3\" type=\"checkbox\" ><label for=\"sk-estimator-id-3\" class=\"sk-toggleable__label fitted sk-toggleable__label-arrow fitted\">&nbsp;LogisticRegression<a class=\"sk-estimator-doc-link fitted\" rel=\"noreferrer\" target=\"_blank\" href=\"https://scikit-learn.org/1.4/modules/generated/sklearn.linear_model.LogisticRegression.html\">?<span>Documentation for LogisticRegression</span></a></label><div class=\"sk-toggleable__content fitted\"><pre>LogisticRegression(C=3.142880890840109, random_state=42, solver=&#x27;liblinear&#x27;)</pre></div> </div></div></div></div></div></div>"
      ],
      "text/plain": [
       "Pipeline(steps=[('sampling', RandomUnderSampler(random_state=42)),\n",
       "                ('model',\n",
       "                 LogisticRegression(C=3.142880890840109, random_state=42,\n",
       "                                    solver='liblinear'))])"
      ]
     },
     "execution_count": 29,
     "metadata": {},
     "output_type": "execute_result"
    }
   ],
   "source": [
    "# Определение функции для подбора гиперпараметров\n",
    "def objective(trial):\n",
    "    params = {\n",
    "        'penalty': trial.suggest_categorical('penalty', ['l2']),\n",
    "        'C': trial.suggest_float('C', 0.01, 10.0, log=True),\n",
    "        'solver': trial.suggest_categorical('solver', ['liblinear', 'lbfgs']),\n",
    "    }\n",
    "    \n",
    "    # Создание пайплайна, включающего ресэмплинг и модель\n",
    "    pipeline = Pipeline([\n",
    "        ('sampling', RandomUnderSampler(random_state=RANDOM_STATE)),\n",
    "        ('model', LogisticRegression(**params, random_state=RANDOM_STATE))\n",
    "    ])\n",
    "    \n",
    "    # Кросс-валидация пайплайна\n",
    "    cv_results = cross_val_score(pipeline, X_train, y_train, cv=5, scoring='roc_auc')\n",
    "    auc = cv_results.mean()\n",
    "    \n",
    "    return auc\n",
    "\n",
    "# Инициализация и запуск Optuna\n",
    "study = optuna.create_study(direction='maximize', sampler=optuna.samplers.TPESampler(seed=RANDOM_STATE))\n",
    "study.optimize(objective, n_trials=5, show_progress_bar=True)\n",
    "\n",
    "# Обучение пайплайна с лучшими гиперпараметрами на всех данных\n",
    "best_params = study.best_params\n",
    "\n",
    "# Создаём модель\n",
    "logistic_model = LogisticRegression(**best_params, random_state=RANDOM_STATE)\n",
    "\n",
    "# Создаём пайплайн\n",
    "pipeline = Pipeline([\n",
    "    ('sampling', RandomUnderSampler(random_state=RANDOM_STATE)),\n",
    "    ('model', logistic_model)\n",
    "])\n",
    "\n",
    "pipeline.fit(X_train, y_train)"
   ]
  },
  {
   "cell_type": "markdown",
   "metadata": {},
   "source": [
    "**Подбираем оптимальное пороговое значение.**"
   ]
  },
  {
   "cell_type": "code",
   "execution_count": 30,
   "metadata": {},
   "outputs": [
    {
     "data": {
      "application/vnd.jupyter.widget-view+json": {
       "model_id": "8471c21e0ea340a08ee55393f819ea2c",
       "version_major": 2,
       "version_minor": 0
      },
      "text/plain": [
       "Search:   0%|          | 0/5 [00:00<?, ?it/s]"
      ]
     },
     "metadata": {},
     "output_type": "display_data"
    },
    {
     "name": "stdout",
     "output_type": "stream",
     "text": [
      "Оптимальный порог для максимизации метрики F1: 0.7200\n"
     ]
    }
   ],
   "source": [
    "best_threshold = stratified_and_get_threshold(pipeline, X_train, y_train)\n",
    "print(f'Оптимальный порог для максимизации метрики F1: {best_threshold:.4f}')"
   ]
  },
  {
   "cell_type": "markdown",
   "metadata": {},
   "source": [
    "**Добавляем пороговое значение в пайплайн.**"
   ]
  },
  {
   "cell_type": "code",
   "execution_count": 31,
   "metadata": {},
   "outputs": [],
   "source": [
    "# Создаём модель с новым пороговым значением\n",
    "threshold_model = ThresholdLogisticRegression(\n",
    "    model=logistic_model,\n",
    "    threshold=best_threshold\n",
    ")\n",
    "\n",
    "# Создаём итоговый пайплайн с моделью, учитывающей оптимальное пороговое значение\n",
    "final_pipe = Pipeline([\n",
    "    ('sampling', RandomUnderSampler(random_state=RANDOM_STATE)),\n",
    "    ('model', threshold_model)\n",
    "])"
   ]
  },
  {
   "cell_type": "markdown",
   "metadata": {},
   "source": [
    "**Тестируем итоговый пайплайн на тренировочной выборке.**"
   ]
  },
  {
   "cell_type": "code",
   "execution_count": 32,
   "metadata": {},
   "outputs": [
    {
     "name": "stdout",
     "output_type": "stream",
     "text": [
      "Метрика f1 на тестовой выборке: 0.7739\n"
     ]
    }
   ],
   "source": [
    "final_pipe.fit(X_train, y_train)\n",
    "preds = final_pipe.predict(X_test)\n",
    "score = f1_score(y_test, preds)\n",
    "print(f'Метрика f1 на тестовой выборке: {score:.4f}')"
   ]
  },
  {
   "cell_type": "markdown",
   "metadata": {},
   "source": [
    "## Выводы"
   ]
  },
  {
   "cell_type": "markdown",
   "metadata": {},
   "source": [
    "Была разработана модель, определяющая токсичность комментариев. \n",
    "\n",
    "Метрика F1 на тестовой выборке равна 0.77, что удовлетворяет требованию заказчика (минималоьный порог 0.75).\n",
    "\n",
    "Предобработка текстов состоит из 2 этапов:\n",
    "- лемматизация текстов, удаление стоп-слов\n",
    "- векторизация лемматизированных текстов методом TF-IDF\n",
    "\n",
    "Процесс лемматизации может занимать достаточно продолжительное время (около получаса на тренировочной выборке)."
   ]
  }
 ],
 "metadata": {
  "ExecuteTimeLog": [
   {
    "duration": 1394,
    "start_time": "2024-08-20T14:07:46.559Z"
   },
   {
    "duration": 4,
    "start_time": "2024-08-20T14:08:15.240Z"
   },
   {
    "duration": 83,
    "start_time": "2024-08-20T14:10:07.446Z"
   },
   {
    "duration": 84,
    "start_time": "2024-08-20T14:10:33.959Z"
   },
   {
    "duration": 52,
    "start_time": "2024-08-20T14:10:59.165Z"
   },
   {
    "duration": 3746,
    "start_time": "2024-08-20T14:11:49.573Z"
   },
   {
    "duration": 12,
    "start_time": "2024-08-20T14:12:12.181Z"
   },
   {
    "duration": 6,
    "start_time": "2024-08-20T14:12:16.981Z"
   },
   {
    "duration": 11,
    "start_time": "2024-08-20T14:12:35.129Z"
   },
   {
    "duration": 6,
    "start_time": "2024-08-20T14:12:53.447Z"
   },
   {
    "duration": 7,
    "start_time": "2024-08-20T14:13:16.980Z"
   },
   {
    "duration": 11,
    "start_time": "2024-08-20T14:13:26.869Z"
   },
   {
    "duration": 11,
    "start_time": "2024-08-20T14:13:53.031Z"
   },
   {
    "duration": 2,
    "start_time": "2024-08-20T14:13:59.517Z"
   },
   {
    "duration": 11,
    "start_time": "2024-08-20T14:14:02.092Z"
   },
   {
    "duration": 3,
    "start_time": "2024-08-20T14:14:07.769Z"
   },
   {
    "duration": 12,
    "start_time": "2024-08-20T14:14:09.923Z"
   },
   {
    "duration": 2,
    "start_time": "2024-08-20T14:14:13.850Z"
   },
   {
    "duration": 13,
    "start_time": "2024-08-20T14:14:16.140Z"
   },
   {
    "duration": 2,
    "start_time": "2024-08-20T14:14:22.605Z"
   },
   {
    "duration": 11,
    "start_time": "2024-08-20T14:14:24.474Z"
   },
   {
    "duration": 3,
    "start_time": "2024-08-20T14:14:28.819Z"
   },
   {
    "duration": 11,
    "start_time": "2024-08-20T14:14:31.308Z"
   },
   {
    "duration": 2,
    "start_time": "2024-08-20T14:14:38.266Z"
   },
   {
    "duration": 11,
    "start_time": "2024-08-20T14:14:41.009Z"
   },
   {
    "duration": 1232,
    "start_time": "2024-08-20T14:16:42.510Z"
   },
   {
    "duration": 10,
    "start_time": "2024-08-20T14:16:43.743Z"
   },
   {
    "duration": 1074,
    "start_time": "2024-08-20T14:16:43.754Z"
   },
   {
    "duration": 23,
    "start_time": "2024-08-20T14:16:44.830Z"
   },
   {
    "duration": 130,
    "start_time": "2024-08-20T14:16:44.856Z"
   },
   {
    "duration": 10,
    "start_time": "2024-08-20T14:16:56.307Z"
   },
   {
    "duration": 14,
    "start_time": "2024-08-20T14:17:03.178Z"
   },
   {
    "duration": 4,
    "start_time": "2024-08-20T14:18:38.310Z"
   },
   {
    "duration": 10,
    "start_time": "2024-08-20T14:19:50.098Z"
   },
   {
    "duration": 19,
    "start_time": "2024-08-20T14:20:34.705Z"
   },
   {
    "duration": 12,
    "start_time": "2024-08-20T14:24:51.641Z"
   },
   {
    "duration": 11,
    "start_time": "2024-08-20T14:25:00.597Z"
   },
   {
    "duration": 12,
    "start_time": "2024-08-20T14:25:08.880Z"
   },
   {
    "duration": 90,
    "start_time": "2024-08-20T14:26:37.853Z"
   },
   {
    "duration": 9,
    "start_time": "2024-08-20T14:29:46.823Z"
   },
   {
    "duration": 1705,
    "start_time": "2024-08-20T14:30:14.683Z"
   },
   {
    "duration": 1736,
    "start_time": "2024-08-20T14:30:18.259Z"
   },
   {
    "duration": 54,
    "start_time": "2024-08-20T16:00:37.250Z"
   },
   {
    "duration": 2590,
    "start_time": "2024-08-20T16:01:02.992Z"
   },
   {
    "duration": 3,
    "start_time": "2024-08-20T16:01:05.584Z"
   },
   {
    "duration": 1235,
    "start_time": "2024-08-20T16:01:05.588Z"
   },
   {
    "duration": 14,
    "start_time": "2024-08-20T16:01:06.825Z"
   },
   {
    "duration": 18,
    "start_time": "2024-08-20T16:01:06.841Z"
   },
   {
    "duration": 93,
    "start_time": "2024-08-20T16:01:06.861Z"
   },
   {
    "duration": 6400,
    "start_time": "2024-08-20T16:01:06.956Z"
   },
   {
    "duration": 277,
    "start_time": "2024-08-20T16:01:55.517Z"
   },
   {
    "duration": 2445,
    "start_time": "2024-08-20T16:02:03.503Z"
   },
   {
    "duration": 138,
    "start_time": "2024-08-20T16:02:05.951Z"
   },
   {
    "duration": 0,
    "start_time": "2024-08-20T16:02:06.091Z"
   },
   {
    "duration": 0,
    "start_time": "2024-08-20T16:02:06.093Z"
   },
   {
    "duration": 0,
    "start_time": "2024-08-20T16:02:06.094Z"
   },
   {
    "duration": 0,
    "start_time": "2024-08-20T16:02:06.095Z"
   },
   {
    "duration": 0,
    "start_time": "2024-08-20T16:02:06.096Z"
   },
   {
    "duration": 0,
    "start_time": "2024-08-20T16:02:06.097Z"
   },
   {
    "duration": 2419,
    "start_time": "2024-08-20T16:02:42.164Z"
   },
   {
    "duration": 8241,
    "start_time": "2024-08-20T16:02:44.585Z"
   },
   {
    "duration": 3,
    "start_time": "2024-08-20T16:02:52.828Z"
   },
   {
    "duration": 26,
    "start_time": "2024-08-20T16:02:52.833Z"
   },
   {
    "duration": 902,
    "start_time": "2024-08-20T16:02:52.861Z"
   },
   {
    "duration": 14,
    "start_time": "2024-08-20T16:02:53.764Z"
   },
   {
    "duration": 19,
    "start_time": "2024-08-20T16:02:53.779Z"
   },
   {
    "duration": 110,
    "start_time": "2024-08-20T16:02:53.799Z"
   },
   {
    "duration": 3917,
    "start_time": "2024-08-20T16:02:53.910Z"
   },
   {
    "duration": 2349,
    "start_time": "2024-08-20T16:07:10.035Z"
   },
   {
    "duration": 40,
    "start_time": "2024-08-20T16:07:12.386Z"
   },
   {
    "duration": 136,
    "start_time": "2024-08-20T16:07:12.427Z"
   },
   {
    "duration": 0,
    "start_time": "2024-08-20T16:07:12.564Z"
   },
   {
    "duration": 0,
    "start_time": "2024-08-20T16:07:12.566Z"
   },
   {
    "duration": 0,
    "start_time": "2024-08-20T16:07:12.567Z"
   },
   {
    "duration": 0,
    "start_time": "2024-08-20T16:07:12.568Z"
   },
   {
    "duration": 0,
    "start_time": "2024-08-20T16:07:12.569Z"
   },
   {
    "duration": 0,
    "start_time": "2024-08-20T16:07:12.570Z"
   },
   {
    "duration": 2338,
    "start_time": "2024-08-20T16:08:01.026Z"
   },
   {
    "duration": 39,
    "start_time": "2024-08-20T16:08:03.365Z"
   },
   {
    "duration": 4,
    "start_time": "2024-08-20T16:08:03.405Z"
   },
   {
    "duration": 13,
    "start_time": "2024-08-20T16:08:03.411Z"
   },
   {
    "duration": 912,
    "start_time": "2024-08-20T16:08:03.426Z"
   },
   {
    "duration": 19,
    "start_time": "2024-08-20T16:08:04.340Z"
   },
   {
    "duration": 18,
    "start_time": "2024-08-20T16:08:04.360Z"
   },
   {
    "duration": 110,
    "start_time": "2024-08-20T16:08:04.379Z"
   },
   {
    "duration": 3980,
    "start_time": "2024-08-20T16:08:04.490Z"
   },
   {
    "duration": 2478,
    "start_time": "2024-08-20T16:10:12.776Z"
   },
   {
    "duration": 273,
    "start_time": "2024-08-20T16:19:32.701Z"
   },
   {
    "duration": 81,
    "start_time": "2024-08-20T16:19:50.040Z"
   },
   {
    "duration": 54,
    "start_time": "2024-08-20T16:19:54.954Z"
   },
   {
    "duration": 55,
    "start_time": "2024-08-20T16:21:04.115Z"
   },
   {
    "duration": 53,
    "start_time": "2024-08-20T16:21:26.839Z"
   },
   {
    "duration": 2230,
    "start_time": "2024-08-20T16:24:44.435Z"
   },
   {
    "duration": 187,
    "start_time": "2024-08-20T16:24:47.144Z"
   },
   {
    "duration": 2490,
    "start_time": "2024-08-20T16:39:21.854Z"
   },
   {
    "duration": 53,
    "start_time": "2024-08-20T16:39:24.346Z"
   },
   {
    "duration": 40,
    "start_time": "2024-08-20T16:39:24.400Z"
   },
   {
    "duration": 11,
    "start_time": "2024-08-20T16:39:24.442Z"
   },
   {
    "duration": 3,
    "start_time": "2024-08-20T16:39:24.455Z"
   },
   {
    "duration": 885,
    "start_time": "2024-08-20T16:39:24.460Z"
   },
   {
    "duration": 16,
    "start_time": "2024-08-20T16:39:25.346Z"
   },
   {
    "duration": 64,
    "start_time": "2024-08-20T16:39:25.364Z"
   },
   {
    "duration": 94,
    "start_time": "2024-08-20T16:39:25.429Z"
   },
   {
    "duration": 65,
    "start_time": "2024-08-20T16:39:25.525Z"
   },
   {
    "duration": 1818,
    "start_time": "2024-08-20T16:39:25.592Z"
   },
   {
    "duration": 2540,
    "start_time": "2024-08-20T16:40:52.683Z"
   },
   {
    "duration": 47,
    "start_time": "2024-08-20T16:40:55.225Z"
   },
   {
    "duration": 41,
    "start_time": "2024-08-20T16:40:55.273Z"
   },
   {
    "duration": 5,
    "start_time": "2024-08-20T16:40:55.315Z"
   },
   {
    "duration": 2,
    "start_time": "2024-08-20T16:40:55.322Z"
   },
   {
    "duration": 842,
    "start_time": "2024-08-20T16:40:55.326Z"
   },
   {
    "duration": 14,
    "start_time": "2024-08-20T16:40:56.170Z"
   },
   {
    "duration": 47,
    "start_time": "2024-08-20T16:40:56.186Z"
   },
   {
    "duration": 97,
    "start_time": "2024-08-20T16:40:56.235Z"
   },
   {
    "duration": 63,
    "start_time": "2024-08-20T16:40:56.334Z"
   },
   {
    "duration": 1685,
    "start_time": "2024-08-20T16:40:56.399Z"
   },
   {
    "duration": 2562,
    "start_time": "2024-08-20T16:42:14.614Z"
   },
   {
    "duration": 54,
    "start_time": "2024-08-20T16:42:17.178Z"
   },
   {
    "duration": 42,
    "start_time": "2024-08-20T16:42:17.235Z"
   },
   {
    "duration": 4,
    "start_time": "2024-08-20T16:42:17.279Z"
   },
   {
    "duration": 16,
    "start_time": "2024-08-20T16:42:17.285Z"
   },
   {
    "duration": 831,
    "start_time": "2024-08-20T16:42:17.302Z"
   },
   {
    "duration": 20,
    "start_time": "2024-08-20T16:42:18.135Z"
   },
   {
    "duration": 18,
    "start_time": "2024-08-20T16:42:18.156Z"
   },
   {
    "duration": 105,
    "start_time": "2024-08-20T16:42:18.176Z"
   },
   {
    "duration": 55,
    "start_time": "2024-08-20T16:42:18.283Z"
   },
   {
    "duration": 1587,
    "start_time": "2024-08-20T16:42:18.339Z"
   },
   {
    "duration": 9,
    "start_time": "2024-08-20T16:42:19.928Z"
   },
   {
    "duration": 371,
    "start_time": "2024-08-20T16:42:19.938Z"
   },
   {
    "duration": 2444,
    "start_time": "2024-08-20T16:42:20.312Z"
   },
   {
    "duration": 362,
    "start_time": "2024-08-20T16:42:22.757Z"
   },
   {
    "duration": 347,
    "start_time": "2024-08-20T16:46:50.656Z"
   },
   {
    "duration": 2506,
    "start_time": "2024-08-20T16:47:21.924Z"
   },
   {
    "duration": 50,
    "start_time": "2024-08-20T16:47:24.431Z"
   },
   {
    "duration": 42,
    "start_time": "2024-08-20T16:47:24.483Z"
   },
   {
    "duration": 5,
    "start_time": "2024-08-20T16:47:24.527Z"
   },
   {
    "duration": 4,
    "start_time": "2024-08-20T16:47:24.534Z"
   },
   {
    "duration": 815,
    "start_time": "2024-08-20T16:47:24.539Z"
   },
   {
    "duration": 13,
    "start_time": "2024-08-20T16:47:25.356Z"
   },
   {
    "duration": 32,
    "start_time": "2024-08-20T16:47:25.370Z"
   },
   {
    "duration": 96,
    "start_time": "2024-08-20T16:47:25.404Z"
   },
   {
    "duration": 63,
    "start_time": "2024-08-20T16:47:25.502Z"
   },
   {
    "duration": 1572,
    "start_time": "2024-08-20T16:47:25.566Z"
   },
   {
    "duration": 9,
    "start_time": "2024-08-20T16:47:27.140Z"
   },
   {
    "duration": 876,
    "start_time": "2024-08-20T16:47:27.153Z"
   },
   {
    "duration": 2296,
    "start_time": "2024-08-20T16:47:28.032Z"
   },
   {
    "duration": 339,
    "start_time": "2024-08-20T16:47:30.330Z"
   },
   {
    "duration": 42,
    "start_time": "2024-08-20T16:48:53.426Z"
   },
   {
    "duration": 41,
    "start_time": "2024-08-20T16:49:14.403Z"
   },
   {
    "duration": 308,
    "start_time": "2024-08-20T16:53:57.611Z"
   },
   {
    "duration": 2198,
    "start_time": "2024-08-20T16:54:11.081Z"
   },
   {
    "duration": 45,
    "start_time": "2024-08-20T16:54:13.280Z"
   },
   {
    "duration": 36,
    "start_time": "2024-08-20T16:54:13.327Z"
   },
   {
    "duration": 4,
    "start_time": "2024-08-20T16:54:13.365Z"
   },
   {
    "duration": 59,
    "start_time": "2024-08-20T16:54:13.370Z"
   },
   {
    "duration": 822,
    "start_time": "2024-08-20T16:54:13.431Z"
   },
   {
    "duration": 13,
    "start_time": "2024-08-20T16:54:14.255Z"
   },
   {
    "duration": 20,
    "start_time": "2024-08-20T16:54:14.270Z"
   },
   {
    "duration": 103,
    "start_time": "2024-08-20T16:54:14.291Z"
   },
   {
    "duration": 65,
    "start_time": "2024-08-20T16:54:14.396Z"
   },
   {
    "duration": 1511,
    "start_time": "2024-08-20T16:54:14.462Z"
   },
   {
    "duration": 9,
    "start_time": "2024-08-20T16:54:15.975Z"
   },
   {
    "duration": 1671,
    "start_time": "2024-08-20T16:54:15.985Z"
   },
   {
    "duration": 2215,
    "start_time": "2024-08-20T16:54:17.658Z"
   },
   {
    "duration": 327,
    "start_time": "2024-08-20T16:54:19.875Z"
   },
   {
    "duration": 2256,
    "start_time": "2024-08-20T16:54:40.635Z"
   },
   {
    "duration": 48,
    "start_time": "2024-08-20T16:54:42.892Z"
   },
   {
    "duration": 36,
    "start_time": "2024-08-20T16:54:42.942Z"
   },
   {
    "duration": 4,
    "start_time": "2024-08-20T16:54:42.979Z"
   },
   {
    "duration": 23,
    "start_time": "2024-08-20T16:54:42.985Z"
   },
   {
    "duration": 828,
    "start_time": "2024-08-20T16:54:43.009Z"
   },
   {
    "duration": 19,
    "start_time": "2024-08-20T16:54:43.839Z"
   },
   {
    "duration": 19,
    "start_time": "2024-08-20T16:54:43.860Z"
   },
   {
    "duration": 105,
    "start_time": "2024-08-20T16:54:43.881Z"
   },
   {
    "duration": 56,
    "start_time": "2024-08-20T16:54:43.988Z"
   },
   {
    "duration": 1607,
    "start_time": "2024-08-20T16:54:44.054Z"
   },
   {
    "duration": 11,
    "start_time": "2024-08-20T16:54:45.663Z"
   },
   {
    "duration": 17056,
    "start_time": "2024-08-20T16:54:45.675Z"
   },
   {
    "duration": 2288,
    "start_time": "2024-08-20T16:55:02.733Z"
   },
   {
    "duration": 347,
    "start_time": "2024-08-20T16:55:05.023Z"
   },
   {
    "duration": 2259,
    "start_time": "2024-08-20T16:55:31.228Z"
   },
   {
    "duration": 48,
    "start_time": "2024-08-20T16:55:33.489Z"
   },
   {
    "duration": 36,
    "start_time": "2024-08-20T16:55:33.539Z"
   },
   {
    "duration": 4,
    "start_time": "2024-08-20T16:55:33.577Z"
   },
   {
    "duration": 19,
    "start_time": "2024-08-20T16:55:33.583Z"
   },
   {
    "duration": 825,
    "start_time": "2024-08-20T16:55:33.603Z"
   },
   {
    "duration": 23,
    "start_time": "2024-08-20T16:55:34.430Z"
   },
   {
    "duration": 18,
    "start_time": "2024-08-20T16:55:34.455Z"
   },
   {
    "duration": 100,
    "start_time": "2024-08-20T16:55:34.475Z"
   },
   {
    "duration": 66,
    "start_time": "2024-08-20T16:55:34.576Z"
   },
   {
    "duration": 1564,
    "start_time": "2024-08-20T16:55:34.643Z"
   },
   {
    "duration": 11,
    "start_time": "2024-08-20T16:55:36.209Z"
   },
   {
    "duration": 32209,
    "start_time": "2024-08-20T16:55:36.221Z"
   },
   {
    "duration": 2232,
    "start_time": "2024-08-20T16:56:08.432Z"
   },
   {
    "duration": 353,
    "start_time": "2024-08-20T16:56:10.665Z"
   },
   {
    "duration": 2299,
    "start_time": "2024-08-20T16:56:39.802Z"
   },
   {
    "duration": 46,
    "start_time": "2024-08-20T16:56:42.103Z"
   },
   {
    "duration": 36,
    "start_time": "2024-08-20T16:56:42.151Z"
   },
   {
    "duration": 4,
    "start_time": "2024-08-20T16:56:42.188Z"
   },
   {
    "duration": 14,
    "start_time": "2024-08-20T16:56:42.194Z"
   },
   {
    "duration": 828,
    "start_time": "2024-08-20T16:56:42.210Z"
   },
   {
    "duration": 19,
    "start_time": "2024-08-20T16:56:43.039Z"
   },
   {
    "duration": 17,
    "start_time": "2024-08-20T16:56:43.060Z"
   },
   {
    "duration": 101,
    "start_time": "2024-08-20T16:56:43.079Z"
   },
   {
    "duration": 79,
    "start_time": "2024-08-20T16:56:43.182Z"
   },
   {
    "duration": 1607,
    "start_time": "2024-08-20T16:56:43.263Z"
   },
   {
    "duration": 13,
    "start_time": "2024-08-20T16:56:44.871Z"
   },
   {
    "duration": 84513,
    "start_time": "2024-08-20T16:56:44.886Z"
   },
   {
    "duration": 66,
    "start_time": "2024-08-20T17:39:16.666Z"
   },
   {
    "duration": 11,
    "start_time": "2024-08-20T17:39:35.604Z"
   },
   {
    "duration": 2365,
    "start_time": "2024-08-20T17:39:46.192Z"
   },
   {
    "duration": 47,
    "start_time": "2024-08-20T17:39:48.559Z"
   },
   {
    "duration": 132,
    "start_time": "2024-08-20T17:39:48.608Z"
   },
   {
    "duration": 3,
    "start_time": "2024-08-20T17:39:48.742Z"
   },
   {
    "duration": 31,
    "start_time": "2024-08-20T17:39:48.748Z"
   },
   {
    "duration": 1151,
    "start_time": "2024-08-20T17:39:48.781Z"
   },
   {
    "duration": 13,
    "start_time": "2024-08-20T17:39:49.933Z"
   },
   {
    "duration": 24,
    "start_time": "2024-08-20T17:39:49.947Z"
   },
   {
    "duration": 88,
    "start_time": "2024-08-20T17:39:49.972Z"
   },
   {
    "duration": 55,
    "start_time": "2024-08-20T17:39:50.061Z"
   },
   {
    "duration": 1836,
    "start_time": "2024-08-20T17:39:50.117Z"
   },
   {
    "duration": 12,
    "start_time": "2024-08-20T17:39:51.954Z"
   },
   {
    "duration": 7864,
    "start_time": "2024-08-20T17:39:51.967Z"
   },
   {
    "duration": 4657,
    "start_time": "2024-08-20T17:39:59.833Z"
   },
   {
    "duration": 2351,
    "start_time": "2024-08-20T19:35:56.016Z"
   },
   {
    "duration": 49,
    "start_time": "2024-08-20T19:35:58.369Z"
   },
   {
    "duration": 41,
    "start_time": "2024-08-20T19:35:58.419Z"
   },
   {
    "duration": 3,
    "start_time": "2024-08-20T19:35:58.461Z"
   },
   {
    "duration": 5,
    "start_time": "2024-08-20T19:35:58.466Z"
   },
   {
    "duration": 853,
    "start_time": "2024-08-20T19:35:58.472Z"
   },
   {
    "duration": 13,
    "start_time": "2024-08-20T19:35:59.326Z"
   },
   {
    "duration": 24,
    "start_time": "2024-08-20T19:35:59.341Z"
   },
   {
    "duration": 95,
    "start_time": "2024-08-20T19:35:59.366Z"
   },
   {
    "duration": 54,
    "start_time": "2024-08-20T19:35:59.463Z"
   },
   {
    "duration": 1640,
    "start_time": "2024-08-20T19:35:59.518Z"
   },
   {
    "duration": 10,
    "start_time": "2024-08-20T19:36:01.160Z"
   },
   {
    "duration": 7973,
    "start_time": "2024-08-20T19:36:01.171Z"
   },
   {
    "duration": 2562,
    "start_time": "2024-08-20T19:36:09.146Z"
   },
   {
    "duration": 2281,
    "start_time": "2024-08-20T19:36:54.824Z"
   },
   {
    "duration": 50,
    "start_time": "2024-08-20T19:36:57.107Z"
   },
   {
    "duration": 167,
    "start_time": "2024-08-20T19:36:57.158Z"
   },
   {
    "duration": 4,
    "start_time": "2024-08-20T19:36:57.327Z"
   },
   {
    "duration": 3,
    "start_time": "2024-08-20T19:36:57.334Z"
   },
   {
    "duration": 1125,
    "start_time": "2024-08-20T19:36:57.338Z"
   },
   {
    "duration": 13,
    "start_time": "2024-08-20T19:36:58.464Z"
   },
   {
    "duration": 20,
    "start_time": "2024-08-20T19:36:58.478Z"
   },
   {
    "duration": 92,
    "start_time": "2024-08-20T19:36:58.500Z"
   },
   {
    "duration": 67,
    "start_time": "2024-08-20T19:36:58.594Z"
   },
   {
    "duration": 1720,
    "start_time": "2024-08-20T19:36:58.663Z"
   },
   {
    "duration": 10,
    "start_time": "2024-08-20T19:37:00.385Z"
   },
   {
    "duration": 7941,
    "start_time": "2024-08-20T19:37:00.396Z"
   },
   {
    "duration": 4415,
    "start_time": "2024-08-20T19:37:08.339Z"
   },
   {
    "duration": 2299,
    "start_time": "2024-08-20T19:51:20.151Z"
   },
   {
    "duration": 180,
    "start_time": "2024-08-20T19:51:22.451Z"
   },
   {
    "duration": 0,
    "start_time": "2024-08-20T19:51:22.633Z"
   },
   {
    "duration": 0,
    "start_time": "2024-08-20T19:51:22.634Z"
   },
   {
    "duration": 0,
    "start_time": "2024-08-20T19:51:22.635Z"
   },
   {
    "duration": 0,
    "start_time": "2024-08-20T19:51:22.636Z"
   },
   {
    "duration": 0,
    "start_time": "2024-08-20T19:51:22.637Z"
   },
   {
    "duration": 0,
    "start_time": "2024-08-20T19:51:22.638Z"
   },
   {
    "duration": 0,
    "start_time": "2024-08-20T19:51:22.653Z"
   },
   {
    "duration": 0,
    "start_time": "2024-08-20T19:51:22.653Z"
   },
   {
    "duration": 0,
    "start_time": "2024-08-20T19:51:22.654Z"
   },
   {
    "duration": 0,
    "start_time": "2024-08-20T19:51:22.655Z"
   },
   {
    "duration": 0,
    "start_time": "2024-08-20T19:51:22.656Z"
   },
   {
    "duration": 0,
    "start_time": "2024-08-20T19:51:22.657Z"
   },
   {
    "duration": 0,
    "start_time": "2024-08-20T19:51:22.658Z"
   },
   {
    "duration": 0,
    "start_time": "2024-08-20T19:51:22.659Z"
   },
   {
    "duration": 0,
    "start_time": "2024-08-20T19:51:22.660Z"
   },
   {
    "duration": 2,
    "start_time": "2024-08-20T19:51:55.380Z"
   },
   {
    "duration": 2274,
    "start_time": "2024-08-20T19:53:16.501Z"
   },
   {
    "duration": 43,
    "start_time": "2024-08-20T19:53:18.777Z"
   },
   {
    "duration": 120821,
    "start_time": "2024-08-20T19:53:18.821Z"
   },
   {
    "duration": 0,
    "start_time": "2024-08-20T19:55:19.645Z"
   },
   {
    "duration": 0,
    "start_time": "2024-08-20T19:55:19.646Z"
   },
   {
    "duration": 0,
    "start_time": "2024-08-20T19:55:19.653Z"
   },
   {
    "duration": 0,
    "start_time": "2024-08-20T19:55:19.653Z"
   },
   {
    "duration": 0,
    "start_time": "2024-08-20T19:55:19.655Z"
   },
   {
    "duration": 0,
    "start_time": "2024-08-20T19:55:19.656Z"
   },
   {
    "duration": 0,
    "start_time": "2024-08-20T19:55:19.657Z"
   },
   {
    "duration": 0,
    "start_time": "2024-08-20T19:55:19.658Z"
   },
   {
    "duration": 0,
    "start_time": "2024-08-20T19:55:19.659Z"
   },
   {
    "duration": 0,
    "start_time": "2024-08-20T19:55:19.660Z"
   },
   {
    "duration": 0,
    "start_time": "2024-08-20T19:55:19.661Z"
   },
   {
    "duration": 0,
    "start_time": "2024-08-20T19:55:19.662Z"
   },
   {
    "duration": 0,
    "start_time": "2024-08-20T19:55:19.663Z"
   },
   {
    "duration": 0,
    "start_time": "2024-08-20T19:55:19.664Z"
   },
   {
    "duration": 0,
    "start_time": "2024-08-20T19:55:19.665Z"
   },
   {
    "duration": 2391,
    "start_time": "2024-08-20T19:57:44.438Z"
   },
   {
    "duration": 92,
    "start_time": "2024-08-20T19:57:46.831Z"
   },
   {
    "duration": 120,
    "start_time": "2024-08-20T19:57:46.925Z"
   },
   {
    "duration": 148,
    "start_time": "2024-08-20T19:57:47.047Z"
   },
   {
    "duration": 6,
    "start_time": "2024-08-20T19:57:47.198Z"
   },
   {
    "duration": 3,
    "start_time": "2024-08-20T19:57:47.206Z"
   },
   {
    "duration": 1139,
    "start_time": "2024-08-20T19:57:47.210Z"
   },
   {
    "duration": 14,
    "start_time": "2024-08-20T19:57:48.351Z"
   },
   {
    "duration": 36,
    "start_time": "2024-08-20T19:57:48.367Z"
   },
   {
    "duration": 87,
    "start_time": "2024-08-20T19:57:48.405Z"
   },
   {
    "duration": 59,
    "start_time": "2024-08-20T19:57:48.494Z"
   },
   {
    "duration": 159,
    "start_time": "2024-08-20T19:57:48.555Z"
   },
   {
    "duration": 0,
    "start_time": "2024-08-20T19:57:48.715Z"
   },
   {
    "duration": 0,
    "start_time": "2024-08-20T19:57:48.716Z"
   },
   {
    "duration": 0,
    "start_time": "2024-08-20T19:57:48.717Z"
   },
   {
    "duration": 0,
    "start_time": "2024-08-20T19:57:48.718Z"
   },
   {
    "duration": 0,
    "start_time": "2024-08-20T19:57:48.719Z"
   },
   {
    "duration": 0,
    "start_time": "2024-08-20T19:57:48.720Z"
   },
   {
    "duration": 103,
    "start_time": "2024-08-20T19:58:51.663Z"
   },
   {
    "duration": 102,
    "start_time": "2024-08-20T19:59:20.559Z"
   },
   {
    "duration": 183,
    "start_time": "2024-08-20T19:59:28.743Z"
   },
   {
    "duration": 90,
    "start_time": "2024-08-20T19:59:49.823Z"
   },
   {
    "duration": 2329,
    "start_time": "2024-08-20T20:00:50.978Z"
   },
   {
    "duration": 70,
    "start_time": "2024-08-20T20:00:53.309Z"
   },
   {
    "duration": 106,
    "start_time": "2024-08-20T20:00:53.381Z"
   },
   {
    "duration": 40,
    "start_time": "2024-08-20T20:00:53.488Z"
   },
   {
    "duration": 4,
    "start_time": "2024-08-20T20:00:53.531Z"
   },
   {
    "duration": 17,
    "start_time": "2024-08-20T20:00:53.536Z"
   },
   {
    "duration": 860,
    "start_time": "2024-08-20T20:00:53.555Z"
   },
   {
    "duration": 14,
    "start_time": "2024-08-20T20:00:54.416Z"
   },
   {
    "duration": 32,
    "start_time": "2024-08-20T20:00:54.431Z"
   },
   {
    "duration": 88,
    "start_time": "2024-08-20T20:00:54.465Z"
   },
   {
    "duration": 55,
    "start_time": "2024-08-20T20:00:54.554Z"
   },
   {
    "duration": 106,
    "start_time": "2024-08-20T20:00:54.611Z"
   },
   {
    "duration": 1847,
    "start_time": "2024-08-20T20:00:54.718Z"
   },
   {
    "duration": 9,
    "start_time": "2024-08-20T20:00:56.567Z"
   },
   {
    "duration": 766,
    "start_time": "2024-08-20T20:00:56.577Z"
   },
   {
    "duration": 3181,
    "start_time": "2024-08-20T20:00:57.344Z"
   },
   {
    "duration": 1040236,
    "start_time": "2024-08-20T20:01:00.527Z"
   },
   {
    "duration": 382,
    "start_time": "2024-08-20T20:18:20.765Z"
   },
   {
    "duration": 5,
    "start_time": "2024-08-20T20:25:33.165Z"
   },
   {
    "duration": 19,
    "start_time": "2024-08-20T20:25:42.126Z"
   },
   {
    "duration": 4,
    "start_time": "2024-08-20T20:26:03.915Z"
   },
   {
    "duration": 18,
    "start_time": "2024-08-20T20:26:43.032Z"
   },
   {
    "duration": 4,
    "start_time": "2024-08-20T20:26:48.296Z"
   },
   {
    "duration": 2386,
    "start_time": "2024-08-20T20:27:59.643Z"
   },
   {
    "duration": 445,
    "start_time": "2024-08-20T20:28:02.031Z"
   },
   {
    "duration": 536,
    "start_time": "2024-08-20T20:28:02.478Z"
   },
   {
    "duration": 204,
    "start_time": "2024-08-20T20:28:03.016Z"
   },
   {
    "duration": 5,
    "start_time": "2024-08-20T20:28:03.222Z"
   },
   {
    "duration": 35,
    "start_time": "2024-08-20T20:28:03.228Z"
   },
   {
    "duration": 1207,
    "start_time": "2024-08-20T20:28:03.265Z"
   },
   {
    "duration": 13,
    "start_time": "2024-08-20T20:28:04.473Z"
   },
   {
    "duration": 71,
    "start_time": "2024-08-20T20:28:04.488Z"
   },
   {
    "duration": 84,
    "start_time": "2024-08-20T20:28:04.560Z"
   },
   {
    "duration": 57,
    "start_time": "2024-08-20T20:28:04.653Z"
   },
   {
    "duration": 101,
    "start_time": "2024-08-20T20:28:04.711Z"
   },
   {
    "duration": 1890,
    "start_time": "2024-08-20T20:28:04.814Z"
   },
   {
    "duration": 4181,
    "start_time": "2024-08-20T20:28:06.707Z"
   },
   {
    "duration": 9,
    "start_time": "2024-08-20T20:28:10.890Z"
   },
   {
    "duration": 172,
    "start_time": "2024-08-20T20:28:10.900Z"
   },
   {
    "duration": 200220,
    "start_time": "2024-08-20T20:28:11.074Z"
   },
   {
    "duration": 5,
    "start_time": "2024-08-20T20:31:31.295Z"
   },
   {
    "duration": 3,
    "start_time": "2024-08-20T20:37:02.516Z"
   },
   {
    "duration": 4,
    "start_time": "2024-08-20T21:06:34.709Z"
   },
   {
    "duration": 223091,
    "start_time": "2024-08-20T21:11:38.766Z"
   },
   {
    "duration": 5,
    "start_time": "2024-08-20T21:16:38.951Z"
   },
   {
    "duration": 224313,
    "start_time": "2024-08-20T21:17:58.962Z"
   },
   {
    "duration": 529,
    "start_time": "2024-08-20T21:23:45.077Z"
   },
   {
    "duration": 190595,
    "start_time": "2024-08-20T21:24:52.853Z"
   },
   {
    "duration": 2206,
    "start_time": "2024-08-20T21:30:41.052Z"
   },
   {
    "duration": 70,
    "start_time": "2024-08-20T21:30:43.260Z"
   },
   {
    "duration": 116,
    "start_time": "2024-08-20T21:30:43.332Z"
   },
   {
    "duration": 39,
    "start_time": "2024-08-20T21:30:43.453Z"
   },
   {
    "duration": 4,
    "start_time": "2024-08-20T21:30:43.494Z"
   },
   {
    "duration": 12,
    "start_time": "2024-08-20T21:30:43.499Z"
   },
   {
    "duration": 877,
    "start_time": "2024-08-20T21:30:43.512Z"
   },
   {
    "duration": 15,
    "start_time": "2024-08-20T21:30:44.391Z"
   },
   {
    "duration": 19,
    "start_time": "2024-08-20T21:30:44.408Z"
   },
   {
    "duration": 108,
    "start_time": "2024-08-20T21:30:44.428Z"
   },
   {
    "duration": 64,
    "start_time": "2024-08-20T21:30:44.538Z"
   },
   {
    "duration": 94,
    "start_time": "2024-08-20T21:30:44.603Z"
   },
   {
    "duration": 1816,
    "start_time": "2024-08-20T21:30:44.698Z"
   },
   {
    "duration": 2511,
    "start_time": "2024-08-20T21:30:46.516Z"
   },
   {
    "duration": 9,
    "start_time": "2024-08-20T21:30:49.029Z"
   },
   {
    "duration": 121,
    "start_time": "2024-08-20T21:30:49.039Z"
   },
   {
    "duration": 18065,
    "start_time": "2024-08-20T21:30:49.161Z"
   },
   {
    "duration": 0,
    "start_time": "2024-08-20T21:31:07.229Z"
   },
   {
    "duration": 0,
    "start_time": "2024-08-20T21:31:07.230Z"
   },
   {
    "duration": 53,
    "start_time": "2024-08-21T08:58:54.070Z"
   },
   {
    "duration": 2874,
    "start_time": "2024-08-21T08:59:09.326Z"
   },
   {
    "duration": 67,
    "start_time": "2024-08-21T08:59:12.202Z"
   },
   {
    "duration": 7322,
    "start_time": "2024-08-21T08:59:12.271Z"
   },
   {
    "duration": 0,
    "start_time": "2024-08-21T08:59:19.595Z"
   },
   {
    "duration": 0,
    "start_time": "2024-08-21T08:59:19.596Z"
   },
   {
    "duration": 0,
    "start_time": "2024-08-21T08:59:19.597Z"
   },
   {
    "duration": 0,
    "start_time": "2024-08-21T08:59:19.599Z"
   },
   {
    "duration": 0,
    "start_time": "2024-08-21T08:59:19.600Z"
   },
   {
    "duration": 0,
    "start_time": "2024-08-21T08:59:19.601Z"
   },
   {
    "duration": 0,
    "start_time": "2024-08-21T08:59:19.601Z"
   },
   {
    "duration": 0,
    "start_time": "2024-08-21T08:59:19.603Z"
   },
   {
    "duration": 3,
    "start_time": "2024-08-21T09:00:21.658Z"
   },
   {
    "duration": 17,
    "start_time": "2024-08-21T09:00:21.663Z"
   },
   {
    "duration": 5646,
    "start_time": "2024-08-21T09:00:21.681Z"
   },
   {
    "duration": 3,
    "start_time": "2024-08-21T09:02:23.986Z"
   },
   {
    "duration": 51,
    "start_time": "2024-08-21T09:02:23.991Z"
   },
   {
    "duration": 3040,
    "start_time": "2024-08-21T09:02:31.815Z"
   },
   {
    "duration": 229807,
    "start_time": "2024-08-21T09:02:45.159Z"
   },
   {
    "duration": 3415,
    "start_time": "2024-08-21T09:12:20.158Z"
   },
   {
    "duration": 224,
    "start_time": "2024-08-21T09:12:23.576Z"
   },
   {
    "duration": 3,
    "start_time": "2024-08-21T09:12:23.806Z"
   },
   {
    "duration": 7206,
    "start_time": "2024-08-21T09:12:23.811Z"
   },
   {
    "duration": 6,
    "start_time": "2024-08-21T09:12:31.020Z"
   },
   {
    "duration": 71,
    "start_time": "2024-08-21T09:12:31.027Z"
   },
   {
    "duration": 4686,
    "start_time": "2024-08-21T09:12:31.104Z"
   },
   {
    "duration": 20,
    "start_time": "2024-08-21T09:12:35.792Z"
   },
   {
    "duration": 82,
    "start_time": "2024-08-21T09:12:35.813Z"
   },
   {
    "duration": 17,
    "start_time": "2024-08-21T09:12:35.896Z"
   },
   {
    "duration": 194,
    "start_time": "2024-08-21T09:12:35.914Z"
   },
   {
    "duration": 114,
    "start_time": "2024-08-21T09:12:36.110Z"
   },
   {
    "duration": 263,
    "start_time": "2024-08-21T09:12:36.226Z"
   },
   {
    "duration": 3554,
    "start_time": "2024-08-21T09:12:36.495Z"
   },
   {
    "duration": 33602,
    "start_time": "2024-08-21T09:12:40.051Z"
   },
   {
    "duration": 10,
    "start_time": "2024-08-21T09:13:13.654Z"
   },
   {
    "duration": 156,
    "start_time": "2024-08-21T09:13:13.665Z"
   },
   {
    "duration": 100,
    "start_time": "2024-08-21T09:13:13.823Z"
   },
   {
    "duration": 70,
    "start_time": "2024-08-21T09:13:13.924Z"
   },
   {
    "duration": 13,
    "start_time": "2024-08-21T09:13:13.996Z"
   },
   {
    "duration": 1241,
    "start_time": "2024-08-21T09:14:35.809Z"
   },
   {
    "duration": 1042,
    "start_time": "2024-08-21T09:14:49.999Z"
   },
   {
    "duration": 2884,
    "start_time": "2024-08-21T09:15:46.420Z"
   },
   {
    "duration": 6684,
    "start_time": "2024-08-21T09:15:49.306Z"
   },
   {
    "duration": 5,
    "start_time": "2024-08-21T09:15:55.998Z"
   },
   {
    "duration": 63,
    "start_time": "2024-08-21T09:15:56.004Z"
   },
   {
    "duration": 3,
    "start_time": "2024-08-21T09:15:56.069Z"
   },
   {
    "duration": 27,
    "start_time": "2024-08-21T09:15:56.074Z"
   },
   {
    "duration": 896,
    "start_time": "2024-08-21T09:15:56.110Z"
   },
   {
    "duration": 19,
    "start_time": "2024-08-21T09:15:57.007Z"
   },
   {
    "duration": 20,
    "start_time": "2024-08-21T09:15:57.027Z"
   },
   {
    "duration": 4,
    "start_time": "2024-08-21T09:15:57.048Z"
   },
   {
    "duration": 254,
    "start_time": "2024-08-21T09:15:57.053Z"
   },
   {
    "duration": 132,
    "start_time": "2024-08-21T09:15:57.309Z"
   },
   {
    "duration": 100,
    "start_time": "2024-08-21T09:15:57.442Z"
   },
   {
    "duration": 1858,
    "start_time": "2024-08-21T09:15:57.586Z"
   },
   {
    "duration": 2726,
    "start_time": "2024-08-21T09:15:59.446Z"
   },
   {
    "duration": 8,
    "start_time": "2024-08-21T09:16:02.174Z"
   },
   {
    "duration": 133,
    "start_time": "2024-08-21T09:16:02.188Z"
   },
   {
    "duration": 31,
    "start_time": "2024-08-21T09:16:02.324Z"
   },
   {
    "duration": 4,
    "start_time": "2024-08-21T09:16:02.356Z"
   },
   {
    "duration": 29,
    "start_time": "2024-08-21T09:16:02.361Z"
   },
   {
    "duration": 8,
    "start_time": "2024-08-21T09:17:06.485Z"
   },
   {
    "duration": 17,
    "start_time": "2024-08-21T09:17:06.495Z"
   },
   {
    "duration": 7,
    "start_time": "2024-08-21T09:17:06.513Z"
   },
   {
    "duration": 8,
    "start_time": "2024-08-21T09:17:06.522Z"
   },
   {
    "duration": 29,
    "start_time": "2024-08-21T09:17:06.532Z"
   },
   {
    "duration": 43,
    "start_time": "2024-08-21T09:17:06.563Z"
   },
   {
    "duration": 921,
    "start_time": "2024-08-21T09:17:06.607Z"
   },
   {
    "duration": 9,
    "start_time": "2024-08-21T09:17:07.529Z"
   },
   {
    "duration": 43,
    "start_time": "2024-08-21T09:17:07.540Z"
   },
   {
    "duration": 17,
    "start_time": "2024-08-21T09:17:07.585Z"
   },
   {
    "duration": 105,
    "start_time": "2024-08-21T09:17:07.603Z"
   },
   {
    "duration": 6,
    "start_time": "2024-08-21T09:17:12.684Z"
   },
   {
    "duration": 80,
    "start_time": "2024-08-21T09:19:49.512Z"
   },
   {
    "duration": 165,
    "start_time": "2024-08-21T09:20:19.827Z"
   },
   {
    "duration": 2750,
    "start_time": "2024-08-21T09:22:13.243Z"
   },
   {
    "duration": 182,
    "start_time": "2024-08-21T09:22:15.995Z"
   },
   {
    "duration": 3,
    "start_time": "2024-08-21T09:22:16.179Z"
   },
   {
    "duration": 47,
    "start_time": "2024-08-21T09:22:16.186Z"
   },
   {
    "duration": 4,
    "start_time": "2024-08-21T09:22:16.235Z"
   },
   {
    "duration": 24,
    "start_time": "2024-08-21T09:22:16.240Z"
   },
   {
    "duration": 861,
    "start_time": "2024-08-21T09:22:16.265Z"
   },
   {
    "duration": 15,
    "start_time": "2024-08-21T09:22:17.128Z"
   },
   {
    "duration": 18,
    "start_time": "2024-08-21T09:22:17.144Z"
   },
   {
    "duration": 4,
    "start_time": "2024-08-21T09:22:17.186Z"
   },
   {
    "duration": 220,
    "start_time": "2024-08-21T09:22:17.192Z"
   },
   {
    "duration": 124,
    "start_time": "2024-08-21T09:22:17.414Z"
   },
   {
    "duration": 102,
    "start_time": "2024-08-21T09:22:17.539Z"
   },
   {
    "duration": 1790,
    "start_time": "2024-08-21T09:22:17.689Z"
   },
   {
    "duration": 2441,
    "start_time": "2024-08-21T09:22:19.481Z"
   },
   {
    "duration": 10,
    "start_time": "2024-08-21T09:22:21.924Z"
   },
   {
    "duration": 79,
    "start_time": "2024-08-21T09:22:21.936Z"
   },
   {
    "duration": 126700,
    "start_time": "2024-08-21T09:22:22.016Z"
   },
   {
    "duration": 17,
    "start_time": "2024-08-21T09:24:28.787Z"
   },
   {
    "duration": 9,
    "start_time": "2024-08-21T09:25:38.195Z"
   },
   {
    "duration": 374,
    "start_time": "2024-08-21T09:27:12.727Z"
   },
   {
    "duration": 23802,
    "start_time": "2024-08-21T09:27:32.094Z"
   },
   {
    "duration": 5502,
    "start_time": "2024-08-21T09:27:55.903Z"
   },
   {
    "duration": 8,
    "start_time": "2024-08-21T09:28:01.486Z"
   },
   {
    "duration": 614,
    "start_time": "2024-08-21T09:28:01.496Z"
   },
   {
    "duration": 73,
    "start_time": "2024-08-21T09:28:02.114Z"
   },
   {
    "duration": 35,
    "start_time": "2024-08-21T09:28:02.189Z"
   },
   {
    "duration": 3798,
    "start_time": "2024-08-21T09:28:02.225Z"
   },
   {
    "duration": 26,
    "start_time": "2024-08-21T09:28:06.024Z"
   },
   {
    "duration": 20,
    "start_time": "2024-08-21T09:28:06.051Z"
   },
   {
    "duration": 3,
    "start_time": "2024-08-21T09:28:06.073Z"
   },
   {
    "duration": 297,
    "start_time": "2024-08-21T09:28:06.078Z"
   },
   {
    "duration": 138,
    "start_time": "2024-08-21T09:28:06.390Z"
   },
   {
    "duration": 96,
    "start_time": "2024-08-21T09:28:06.530Z"
   },
   {
    "duration": 2026,
    "start_time": "2024-08-21T09:28:06.695Z"
   },
   {
    "duration": 32293,
    "start_time": "2024-08-21T09:28:08.723Z"
   },
   {
    "duration": 9,
    "start_time": "2024-08-21T09:28:41.017Z"
   },
   {
    "duration": 105,
    "start_time": "2024-08-21T09:28:41.027Z"
   },
   {
    "duration": 406,
    "start_time": "2024-08-21T09:28:41.133Z"
   },
   {
    "duration": 0,
    "start_time": "2024-08-21T09:28:41.540Z"
   },
   {
    "duration": 7,
    "start_time": "2024-08-21T09:30:51.684Z"
   },
   {
    "duration": 33,
    "start_time": "2024-08-21T09:30:54.033Z"
   },
   {
    "duration": 39505,
    "start_time": "2024-08-21T09:30:58.206Z"
   },
   {
    "duration": 44,
    "start_time": "2024-08-21T09:31:45.275Z"
   },
   {
    "duration": 3747,
    "start_time": "2024-08-21T09:37:56.532Z"
   },
   {
    "duration": 757,
    "start_time": "2024-08-21T09:38:00.281Z"
   },
   {
    "duration": 4,
    "start_time": "2024-08-21T09:38:01.039Z"
   },
   {
    "duration": 198,
    "start_time": "2024-08-21T09:38:01.045Z"
   },
   {
    "duration": 4,
    "start_time": "2024-08-21T09:38:01.245Z"
   },
   {
    "duration": 12,
    "start_time": "2024-08-21T09:38:01.250Z"
   },
   {
    "duration": 3819,
    "start_time": "2024-08-21T09:38:01.263Z"
   },
   {
    "duration": 24,
    "start_time": "2024-08-21T09:38:05.084Z"
   },
   {
    "duration": 22,
    "start_time": "2024-08-21T09:38:05.109Z"
   },
   {
    "duration": 4,
    "start_time": "2024-08-21T09:38:05.133Z"
   },
   {
    "duration": 261,
    "start_time": "2024-08-21T09:38:05.138Z"
   },
   {
    "duration": 133,
    "start_time": "2024-08-21T09:38:05.401Z"
   },
   {
    "duration": 99,
    "start_time": "2024-08-21T09:38:05.535Z"
   },
   {
    "duration": 2130,
    "start_time": "2024-08-21T09:38:05.636Z"
   },
   {
    "duration": 14270,
    "start_time": "2024-08-21T09:38:07.768Z"
   },
   {
    "duration": 2,
    "start_time": "2024-08-21T09:38:22.039Z"
   },
   {
    "duration": 10,
    "start_time": "2024-08-21T09:48:28.419Z"
   },
   {
    "duration": 43,
    "start_time": "2024-08-21T09:49:14.146Z"
   },
   {
    "duration": 4218,
    "start_time": "2024-08-21T09:49:22.819Z"
   },
   {
    "duration": 981,
    "start_time": "2024-08-21T09:49:27.039Z"
   },
   {
    "duration": 2,
    "start_time": "2024-08-21T09:49:28.022Z"
   },
   {
    "duration": 163,
    "start_time": "2024-08-21T09:49:28.026Z"
   },
   {
    "duration": 9,
    "start_time": "2024-08-21T09:49:28.192Z"
   },
   {
    "duration": 7,
    "start_time": "2024-08-21T09:49:28.204Z"
   },
   {
    "duration": 12,
    "start_time": "2024-08-21T09:49:28.213Z"
   },
   {
    "duration": 3818,
    "start_time": "2024-08-21T09:49:28.226Z"
   },
   {
    "duration": 53,
    "start_time": "2024-08-21T09:49:32.046Z"
   },
   {
    "duration": 37,
    "start_time": "2024-08-21T09:49:32.102Z"
   },
   {
    "duration": 4,
    "start_time": "2024-08-21T09:49:32.141Z"
   },
   {
    "duration": 353,
    "start_time": "2024-08-21T09:49:32.146Z"
   },
   {
    "duration": 127,
    "start_time": "2024-08-21T09:49:32.505Z"
   },
   {
    "duration": 92,
    "start_time": "2024-08-21T09:49:32.635Z"
   },
   {
    "duration": 2126,
    "start_time": "2024-08-21T09:49:32.729Z"
   },
   {
    "duration": 32251,
    "start_time": "2024-08-21T09:49:34.857Z"
   },
   {
    "duration": 3,
    "start_time": "2024-08-21T09:50:07.109Z"
   },
   {
    "duration": 3972,
    "start_time": "2024-08-21T09:57:16.718Z"
   },
   {
    "duration": 1238,
    "start_time": "2024-08-21T09:57:20.692Z"
   },
   {
    "duration": 3,
    "start_time": "2024-08-21T09:57:21.932Z"
   },
   {
    "duration": 220,
    "start_time": "2024-08-21T09:57:21.937Z"
   },
   {
    "duration": 4,
    "start_time": "2024-08-21T09:57:22.159Z"
   },
   {
    "duration": 4,
    "start_time": "2024-08-21T09:57:22.165Z"
   },
   {
    "duration": 2169,
    "start_time": "2024-08-21T09:57:22.170Z"
   },
   {
    "duration": 67,
    "start_time": "2024-08-21T09:57:24.341Z"
   },
   {
    "duration": 31874,
    "start_time": "2024-08-21T09:57:24.409Z"
   },
   {
    "duration": 4,
    "start_time": "2024-08-21T09:57:56.287Z"
   },
   {
    "duration": 3736,
    "start_time": "2024-08-21T09:57:56.293Z"
   },
   {
    "duration": 35,
    "start_time": "2024-08-21T09:58:00.030Z"
   },
   {
    "duration": 38,
    "start_time": "2024-08-21T09:58:00.067Z"
   },
   {
    "duration": 29,
    "start_time": "2024-08-21T09:58:00.109Z"
   },
   {
    "duration": 361,
    "start_time": "2024-08-21T09:58:00.139Z"
   },
   {
    "duration": 125,
    "start_time": "2024-08-21T09:58:00.501Z"
   },
   {
    "duration": 96,
    "start_time": "2024-08-21T09:58:00.628Z"
   },
   {
    "duration": 61,
    "start_time": "2024-08-21T09:58:00.725Z"
   },
   {
    "duration": 3925,
    "start_time": "2024-08-21T10:01:24.117Z"
   },
   {
    "duration": 1010,
    "start_time": "2024-08-21T10:01:28.044Z"
   },
   {
    "duration": 3,
    "start_time": "2024-08-21T10:01:29.055Z"
   },
   {
    "duration": 159,
    "start_time": "2024-08-21T10:01:29.059Z"
   },
   {
    "duration": 4,
    "start_time": "2024-08-21T10:01:29.220Z"
   },
   {
    "duration": 14,
    "start_time": "2024-08-21T10:01:29.225Z"
   },
   {
    "duration": 2054,
    "start_time": "2024-08-21T10:01:29.240Z"
   },
   {
    "duration": 68,
    "start_time": "2024-08-21T10:01:31.296Z"
   },
   {
    "duration": 31773,
    "start_time": "2024-08-21T10:01:31.366Z"
   },
   {
    "duration": 4,
    "start_time": "2024-08-21T10:02:03.141Z"
   },
   {
    "duration": 3684,
    "start_time": "2024-08-21T10:02:03.147Z"
   },
   {
    "duration": 36,
    "start_time": "2024-08-21T10:02:06.833Z"
   },
   {
    "duration": 31,
    "start_time": "2024-08-21T10:02:06.871Z"
   },
   {
    "duration": 9,
    "start_time": "2024-08-21T10:02:06.905Z"
   },
   {
    "duration": 173,
    "start_time": "2024-08-21T10:02:06.915Z"
   },
   {
    "duration": 135,
    "start_time": "2024-08-21T10:02:07.091Z"
   },
   {
    "duration": 95,
    "start_time": "2024-08-21T10:02:07.228Z"
   },
   {
    "duration": 63,
    "start_time": "2024-08-21T10:02:07.325Z"
   },
   {
    "duration": 97,
    "start_time": "2024-08-21T10:02:07.390Z"
   },
   {
    "duration": 2681,
    "start_time": "2024-08-21T10:03:44.132Z"
   },
   {
    "duration": 173,
    "start_time": "2024-08-21T10:03:46.815Z"
   },
   {
    "duration": 2,
    "start_time": "2024-08-21T10:03:46.990Z"
   },
   {
    "duration": 72,
    "start_time": "2024-08-21T10:03:46.994Z"
   },
   {
    "duration": 4,
    "start_time": "2024-08-21T10:03:47.068Z"
   },
   {
    "duration": 15,
    "start_time": "2024-08-21T10:03:47.073Z"
   },
   {
    "duration": 1905,
    "start_time": "2024-08-21T10:03:47.089Z"
   },
   {
    "duration": 16,
    "start_time": "2024-08-21T10:03:48.995Z"
   },
   {
    "duration": 2448,
    "start_time": "2024-08-21T10:03:49.013Z"
   },
   {
    "duration": 5,
    "start_time": "2024-08-21T10:03:51.463Z"
   },
   {
    "duration": 846,
    "start_time": "2024-08-21T10:03:51.469Z"
   },
   {
    "duration": 15,
    "start_time": "2024-08-21T10:03:52.316Z"
   },
   {
    "duration": 25,
    "start_time": "2024-08-21T10:03:52.333Z"
   },
   {
    "duration": 5,
    "start_time": "2024-08-21T10:03:52.360Z"
   },
   {
    "duration": 146,
    "start_time": "2024-08-21T10:03:52.366Z"
   },
   {
    "duration": 125,
    "start_time": "2024-08-21T10:03:52.514Z"
   },
   {
    "duration": 150,
    "start_time": "2024-08-21T10:03:52.640Z"
   },
   {
    "duration": 3,
    "start_time": "2024-08-21T10:03:52.792Z"
   },
   {
    "duration": 7,
    "start_time": "2024-08-21T10:03:52.796Z"
   },
   {
    "duration": 1458,
    "start_time": "2024-08-21T10:03:52.804Z"
   },
   {
    "duration": 0,
    "start_time": "2024-08-21T10:03:54.264Z"
   },
   {
    "duration": 0,
    "start_time": "2024-08-21T10:03:54.265Z"
   },
   {
    "duration": 2681,
    "start_time": "2024-08-21T10:10:32.798Z"
   },
   {
    "duration": 172,
    "start_time": "2024-08-21T10:10:35.481Z"
   },
   {
    "duration": 3,
    "start_time": "2024-08-21T10:10:35.654Z"
   },
   {
    "duration": 104,
    "start_time": "2024-08-21T10:10:35.658Z"
   },
   {
    "duration": 4,
    "start_time": "2024-08-21T10:10:35.764Z"
   },
   {
    "duration": 15,
    "start_time": "2024-08-21T10:10:35.769Z"
   },
   {
    "duration": 1859,
    "start_time": "2024-08-21T10:10:35.785Z"
   },
   {
    "duration": 16,
    "start_time": "2024-08-21T10:10:37.646Z"
   },
   {
    "duration": 2375,
    "start_time": "2024-08-21T10:10:37.663Z"
   },
   {
    "duration": 4,
    "start_time": "2024-08-21T10:10:40.039Z"
   },
   {
    "duration": 870,
    "start_time": "2024-08-21T10:10:40.045Z"
   },
   {
    "duration": 15,
    "start_time": "2024-08-21T10:10:40.917Z"
   },
   {
    "duration": 45,
    "start_time": "2024-08-21T10:10:40.934Z"
   },
   {
    "duration": 4,
    "start_time": "2024-08-21T10:10:40.982Z"
   },
   {
    "duration": 141,
    "start_time": "2024-08-21T10:10:40.987Z"
   },
   {
    "duration": 188,
    "start_time": "2024-08-21T10:10:41.130Z"
   },
   {
    "duration": 89,
    "start_time": "2024-08-21T10:10:41.319Z"
   },
   {
    "duration": 3,
    "start_time": "2024-08-21T10:10:41.410Z"
   },
   {
    "duration": 5,
    "start_time": "2024-08-21T10:10:41.486Z"
   },
   {
    "duration": 123,
    "start_time": "2024-08-21T10:10:41.493Z"
   },
   {
    "duration": 372,
    "start_time": "2024-08-21T10:10:41.618Z"
   },
   {
    "duration": 0,
    "start_time": "2024-08-21T10:10:41.992Z"
   },
   {
    "duration": 2710,
    "start_time": "2024-08-21T10:11:20.389Z"
   },
   {
    "duration": 174,
    "start_time": "2024-08-21T10:11:23.102Z"
   },
   {
    "duration": 3,
    "start_time": "2024-08-21T10:11:23.277Z"
   },
   {
    "duration": 37,
    "start_time": "2024-08-21T10:11:23.286Z"
   },
   {
    "duration": 4,
    "start_time": "2024-08-21T10:11:23.325Z"
   },
   {
    "duration": 5,
    "start_time": "2024-08-21T10:11:23.330Z"
   },
   {
    "duration": 1796,
    "start_time": "2024-08-21T10:11:23.336Z"
   },
   {
    "duration": 16,
    "start_time": "2024-08-21T10:11:25.134Z"
   },
   {
    "duration": 2294,
    "start_time": "2024-08-21T10:11:25.151Z"
   },
   {
    "duration": 5,
    "start_time": "2024-08-21T10:11:27.446Z"
   },
   {
    "duration": 826,
    "start_time": "2024-08-21T10:11:27.452Z"
   },
   {
    "duration": 20,
    "start_time": "2024-08-21T10:11:28.280Z"
   },
   {
    "duration": 20,
    "start_time": "2024-08-21T10:11:28.301Z"
   },
   {
    "duration": 4,
    "start_time": "2024-08-21T10:11:28.324Z"
   },
   {
    "duration": 166,
    "start_time": "2024-08-21T10:11:28.330Z"
   },
   {
    "duration": 125,
    "start_time": "2024-08-21T10:11:28.498Z"
   },
   {
    "duration": 98,
    "start_time": "2024-08-21T10:11:28.625Z"
   },
   {
    "duration": 62,
    "start_time": "2024-08-21T10:11:28.725Z"
   },
   {
    "duration": 34693,
    "start_time": "2024-08-21T10:11:28.788Z"
   },
   {
    "duration": 411,
    "start_time": "2024-08-21T10:12:03.486Z"
   },
   {
    "duration": 0,
    "start_time": "2024-08-21T10:12:03.898Z"
   },
   {
    "duration": 4171,
    "start_time": "2024-08-21T10:14:32.326Z"
   },
   {
    "duration": 827,
    "start_time": "2024-08-21T10:14:36.499Z"
   },
   {
    "duration": 3,
    "start_time": "2024-08-21T10:14:37.328Z"
   },
   {
    "duration": 157,
    "start_time": "2024-08-21T10:14:37.332Z"
   },
   {
    "duration": 4,
    "start_time": "2024-08-21T10:14:37.491Z"
   },
   {
    "duration": 5,
    "start_time": "2024-08-21T10:14:37.496Z"
   },
   {
    "duration": 2145,
    "start_time": "2024-08-21T10:14:37.503Z"
   },
   {
    "duration": 67,
    "start_time": "2024-08-21T10:14:39.650Z"
   },
   {
    "duration": 31791,
    "start_time": "2024-08-21T10:14:39.718Z"
   },
   {
    "duration": 5,
    "start_time": "2024-08-21T10:15:11.510Z"
   },
   {
    "duration": 3745,
    "start_time": "2024-08-21T10:15:11.516Z"
   },
   {
    "duration": 47,
    "start_time": "2024-08-21T10:15:15.263Z"
   },
   {
    "duration": 39,
    "start_time": "2024-08-21T10:15:15.311Z"
   },
   {
    "duration": 5,
    "start_time": "2024-08-21T10:15:15.353Z"
   },
   {
    "duration": 233,
    "start_time": "2024-08-21T10:15:15.359Z"
   },
   {
    "duration": 129,
    "start_time": "2024-08-21T10:15:15.593Z"
   },
   {
    "duration": 336,
    "start_time": "2024-08-21T10:15:15.723Z"
   },
   {
    "duration": 0,
    "start_time": "2024-08-21T10:15:16.060Z"
   },
   {
    "duration": 0,
    "start_time": "2024-08-21T10:15:16.062Z"
   },
   {
    "duration": 0,
    "start_time": "2024-08-21T10:15:16.063Z"
   },
   {
    "duration": 0,
    "start_time": "2024-08-21T10:15:16.064Z"
   },
   {
    "duration": 2690,
    "start_time": "2024-08-21T10:17:49.974Z"
   },
   {
    "duration": 169,
    "start_time": "2024-08-21T10:17:52.666Z"
   },
   {
    "duration": 3,
    "start_time": "2024-08-21T10:17:52.837Z"
   },
   {
    "duration": 48,
    "start_time": "2024-08-21T10:17:52.841Z"
   },
   {
    "duration": 4,
    "start_time": "2024-08-21T10:17:52.892Z"
   },
   {
    "duration": 8,
    "start_time": "2024-08-21T10:17:52.897Z"
   },
   {
    "duration": 1844,
    "start_time": "2024-08-21T10:17:52.907Z"
   },
   {
    "duration": 17,
    "start_time": "2024-08-21T10:17:54.753Z"
   },
   {
    "duration": 2338,
    "start_time": "2024-08-21T10:17:54.771Z"
   },
   {
    "duration": 5,
    "start_time": "2024-08-21T10:17:57.111Z"
   },
   {
    "duration": 853,
    "start_time": "2024-08-21T10:17:57.117Z"
   },
   {
    "duration": 24,
    "start_time": "2024-08-21T10:17:57.971Z"
   },
   {
    "duration": 24,
    "start_time": "2024-08-21T10:17:57.996Z"
   },
   {
    "duration": 4,
    "start_time": "2024-08-21T10:17:58.023Z"
   },
   {
    "duration": 160,
    "start_time": "2024-08-21T10:17:58.029Z"
   },
   {
    "duration": 129,
    "start_time": "2024-08-21T10:17:58.190Z"
   },
   {
    "duration": 89,
    "start_time": "2024-08-21T10:17:58.321Z"
   },
   {
    "duration": 2,
    "start_time": "2024-08-21T10:17:58.412Z"
   },
   {
    "duration": 34605,
    "start_time": "2024-08-21T10:17:58.415Z"
   },
   {
    "duration": 417,
    "start_time": "2024-08-21T10:18:33.021Z"
   },
   {
    "duration": 0,
    "start_time": "2024-08-21T10:18:33.440Z"
   },
   {
    "duration": 3765,
    "start_time": "2024-08-21T12:24:48.931Z"
   },
   {
    "duration": 885,
    "start_time": "2024-08-21T12:24:52.698Z"
   },
   {
    "duration": 3,
    "start_time": "2024-08-21T12:24:53.584Z"
   },
   {
    "duration": 294,
    "start_time": "2024-08-21T12:24:53.588Z"
   },
   {
    "duration": 4,
    "start_time": "2024-08-21T12:24:53.884Z"
   },
   {
    "duration": 19,
    "start_time": "2024-08-21T12:24:53.890Z"
   },
   {
    "duration": 2082,
    "start_time": "2024-08-21T12:24:53.910Z"
   },
   {
    "duration": 67,
    "start_time": "2024-08-21T12:24:55.994Z"
   },
   {
    "duration": 24481,
    "start_time": "2024-08-21T12:24:56.062Z"
   },
   {
    "duration": 5,
    "start_time": "2024-08-21T12:25:20.544Z"
   },
   {
    "duration": 870,
    "start_time": "2024-08-21T12:25:20.551Z"
   },
   {
    "duration": 16,
    "start_time": "2024-08-21T12:25:21.423Z"
   },
   {
    "duration": 23,
    "start_time": "2024-08-21T12:25:21.441Z"
   },
   {
    "duration": 21,
    "start_time": "2024-08-21T12:25:21.467Z"
   },
   {
    "duration": 200,
    "start_time": "2024-08-21T12:25:21.489Z"
   },
   {
    "duration": 138,
    "start_time": "2024-08-21T12:25:21.691Z"
   },
   {
    "duration": 158,
    "start_time": "2024-08-21T12:25:21.830Z"
   },
   {
    "duration": 2,
    "start_time": "2024-08-21T12:25:21.991Z"
   },
   {
    "duration": 35000,
    "start_time": "2024-08-21T12:25:21.995Z"
   },
   {
    "duration": 377,
    "start_time": "2024-08-21T12:25:56.997Z"
   },
   {
    "duration": 0,
    "start_time": "2024-08-21T12:25:57.375Z"
   },
   {
    "duration": 56,
    "start_time": "2024-08-21T12:38:35.221Z"
   },
   {
    "duration": 8,
    "start_time": "2024-08-21T12:38:48.542Z"
   },
   {
    "duration": 6,
    "start_time": "2024-08-21T12:38:59.101Z"
   },
   {
    "duration": 7,
    "start_time": "2024-08-21T12:39:08.319Z"
   },
   {
    "duration": 7,
    "start_time": "2024-08-21T12:39:13.357Z"
   },
   {
    "duration": 62,
    "start_time": "2024-08-21T12:40:13.289Z"
   },
   {
    "duration": 4,
    "start_time": "2024-08-21T12:40:19.496Z"
   },
   {
    "duration": 6,
    "start_time": "2024-08-21T12:40:40.228Z"
   },
   {
    "duration": 5,
    "start_time": "2024-08-21T12:41:03.241Z"
   },
   {
    "duration": 4,
    "start_time": "2024-08-21T12:41:45.475Z"
   },
   {
    "duration": 1052,
    "start_time": "2024-08-21T12:41:52.635Z"
   },
   {
    "duration": 18,
    "start_time": "2024-08-21T12:42:28.272Z"
   },
   {
    "duration": 15,
    "start_time": "2024-08-21T12:42:55.574Z"
   },
   {
    "duration": 61,
    "start_time": "2024-08-21T12:43:43.959Z"
   },
   {
    "duration": 35,
    "start_time": "2024-08-21T12:44:14.697Z"
   },
   {
    "duration": 4,
    "start_time": "2024-08-21T12:47:20.478Z"
   },
   {
    "duration": 4245,
    "start_time": "2024-08-21T12:49:40.376Z"
   },
   {
    "duration": 702,
    "start_time": "2024-08-21T12:49:44.623Z"
   },
   {
    "duration": 2,
    "start_time": "2024-08-21T12:49:45.327Z"
   },
   {
    "duration": 224,
    "start_time": "2024-08-21T12:49:45.331Z"
   },
   {
    "duration": 4,
    "start_time": "2024-08-21T12:49:45.557Z"
   },
   {
    "duration": 5,
    "start_time": "2024-08-21T12:49:45.562Z"
   },
   {
    "duration": 2041,
    "start_time": "2024-08-21T12:49:45.568Z"
   },
   {
    "duration": 66,
    "start_time": "2024-08-21T12:49:47.611Z"
   },
   {
    "duration": 23819,
    "start_time": "2024-08-21T12:49:47.679Z"
   },
   {
    "duration": 5,
    "start_time": "2024-08-21T12:50:11.499Z"
   },
   {
    "duration": 871,
    "start_time": "2024-08-21T12:50:11.505Z"
   },
   {
    "duration": 15,
    "start_time": "2024-08-21T12:50:12.378Z"
   },
   {
    "duration": 19,
    "start_time": "2024-08-21T12:50:12.394Z"
   },
   {
    "duration": 3,
    "start_time": "2024-08-21T12:50:12.415Z"
   },
   {
    "duration": 168,
    "start_time": "2024-08-21T12:50:12.420Z"
   },
   {
    "duration": 122,
    "start_time": "2024-08-21T12:50:12.589Z"
   },
   {
    "duration": 86,
    "start_time": "2024-08-21T12:50:12.713Z"
   },
   {
    "duration": 2,
    "start_time": "2024-08-21T12:50:12.800Z"
   },
   {
    "duration": 425,
    "start_time": "2024-08-21T12:50:12.804Z"
   },
   {
    "duration": 0,
    "start_time": "2024-08-21T12:50:13.231Z"
   },
   {
    "duration": 0,
    "start_time": "2024-08-21T12:50:13.232Z"
   },
   {
    "duration": 0,
    "start_time": "2024-08-21T12:50:13.233Z"
   },
   {
    "duration": 5,
    "start_time": "2024-08-21T12:50:49.263Z"
   },
   {
    "duration": 48,
    "start_time": "2024-08-21T12:50:56.214Z"
   },
   {
    "duration": 5,
    "start_time": "2024-08-21T12:52:29.135Z"
   },
   {
    "duration": 28501,
    "start_time": "2024-08-21T12:52:32.686Z"
   },
   {
    "duration": 5,
    "start_time": "2024-08-21T12:55:05.166Z"
   },
   {
    "duration": 28679,
    "start_time": "2024-08-21T12:55:08.025Z"
   },
   {
    "duration": 5,
    "start_time": "2024-08-21T12:56:28.045Z"
   },
   {
    "duration": 28715,
    "start_time": "2024-08-21T12:56:30.206Z"
   },
   {
    "duration": 67,
    "start_time": "2024-08-21T12:58:17.998Z"
   },
   {
    "duration": 2699,
    "start_time": "2024-08-21T12:58:38.402Z"
   },
   {
    "duration": 165,
    "start_time": "2024-08-21T12:58:41.103Z"
   },
   {
    "duration": 3,
    "start_time": "2024-08-21T12:58:41.269Z"
   },
   {
    "duration": 57,
    "start_time": "2024-08-21T12:58:41.273Z"
   },
   {
    "duration": 4,
    "start_time": "2024-08-21T12:58:41.332Z"
   },
   {
    "duration": 8,
    "start_time": "2024-08-21T12:58:41.338Z"
   },
   {
    "duration": 1868,
    "start_time": "2024-08-21T12:58:41.348Z"
   },
   {
    "duration": 16,
    "start_time": "2024-08-21T12:58:43.218Z"
   },
   {
    "duration": 2316,
    "start_time": "2024-08-21T12:58:43.236Z"
   },
   {
    "duration": 56,
    "start_time": "2024-08-21T12:58:45.554Z"
   },
   {
    "duration": 0,
    "start_time": "2024-08-21T12:58:45.612Z"
   },
   {
    "duration": 0,
    "start_time": "2024-08-21T12:58:45.613Z"
   },
   {
    "duration": 0,
    "start_time": "2024-08-21T12:58:45.614Z"
   },
   {
    "duration": 0,
    "start_time": "2024-08-21T12:58:45.616Z"
   },
   {
    "duration": 0,
    "start_time": "2024-08-21T12:58:45.617Z"
   },
   {
    "duration": 0,
    "start_time": "2024-08-21T12:58:45.618Z"
   },
   {
    "duration": 0,
    "start_time": "2024-08-21T12:58:45.620Z"
   },
   {
    "duration": 0,
    "start_time": "2024-08-21T12:58:45.621Z"
   },
   {
    "duration": 0,
    "start_time": "2024-08-21T12:58:45.623Z"
   },
   {
    "duration": 0,
    "start_time": "2024-08-21T12:58:45.624Z"
   },
   {
    "duration": 0,
    "start_time": "2024-08-21T12:58:45.626Z"
   },
   {
    "duration": 0,
    "start_time": "2024-08-21T12:58:45.627Z"
   },
   {
    "duration": 0,
    "start_time": "2024-08-21T12:58:45.628Z"
   },
   {
    "duration": 2689,
    "start_time": "2024-08-21T12:58:56.887Z"
   },
   {
    "duration": 163,
    "start_time": "2024-08-21T12:58:59.577Z"
   },
   {
    "duration": 3,
    "start_time": "2024-08-21T12:58:59.741Z"
   },
   {
    "duration": 49,
    "start_time": "2024-08-21T12:58:59.745Z"
   },
   {
    "duration": 4,
    "start_time": "2024-08-21T12:58:59.797Z"
   },
   {
    "duration": 9,
    "start_time": "2024-08-21T12:58:59.802Z"
   },
   {
    "duration": 1839,
    "start_time": "2024-08-21T12:58:59.812Z"
   },
   {
    "duration": 17,
    "start_time": "2024-08-21T12:59:01.652Z"
   },
   {
    "duration": 2313,
    "start_time": "2024-08-21T12:59:01.670Z"
   },
   {
    "duration": 66,
    "start_time": "2024-08-21T12:59:03.985Z"
   },
   {
    "duration": 0,
    "start_time": "2024-08-21T12:59:04.053Z"
   },
   {
    "duration": 0,
    "start_time": "2024-08-21T12:59:04.054Z"
   },
   {
    "duration": 0,
    "start_time": "2024-08-21T12:59:04.055Z"
   },
   {
    "duration": 0,
    "start_time": "2024-08-21T12:59:04.055Z"
   },
   {
    "duration": 0,
    "start_time": "2024-08-21T12:59:04.057Z"
   },
   {
    "duration": 0,
    "start_time": "2024-08-21T12:59:04.058Z"
   },
   {
    "duration": 0,
    "start_time": "2024-08-21T12:59:04.059Z"
   },
   {
    "duration": 0,
    "start_time": "2024-08-21T12:59:04.060Z"
   },
   {
    "duration": 0,
    "start_time": "2024-08-21T12:59:04.061Z"
   },
   {
    "duration": 0,
    "start_time": "2024-08-21T12:59:04.062Z"
   },
   {
    "duration": 0,
    "start_time": "2024-08-21T12:59:04.063Z"
   },
   {
    "duration": 0,
    "start_time": "2024-08-21T12:59:04.064Z"
   },
   {
    "duration": 0,
    "start_time": "2024-08-21T12:59:04.064Z"
   },
   {
    "duration": 61,
    "start_time": "2024-08-21T12:59:42.356Z"
   },
   {
    "duration": 6,
    "start_time": "2024-08-21T13:00:38.377Z"
   },
   {
    "duration": 2842,
    "start_time": "2024-08-21T13:00:47.761Z"
   },
   {
    "duration": 186,
    "start_time": "2024-08-21T13:00:50.605Z"
   },
   {
    "duration": 4,
    "start_time": "2024-08-21T13:00:50.796Z"
   },
   {
    "duration": 103,
    "start_time": "2024-08-21T13:00:50.801Z"
   },
   {
    "duration": 5,
    "start_time": "2024-08-21T13:00:50.906Z"
   },
   {
    "duration": 8,
    "start_time": "2024-08-21T13:00:50.912Z"
   },
   {
    "duration": 1974,
    "start_time": "2024-08-21T13:00:50.921Z"
   },
   {
    "duration": 17,
    "start_time": "2024-08-21T13:00:52.898Z"
   },
   {
    "duration": 2388,
    "start_time": "2024-08-21T13:00:52.916Z"
   },
   {
    "duration": 5,
    "start_time": "2024-08-21T13:00:55.306Z"
   },
   {
    "duration": 8,
    "start_time": "2024-08-21T13:00:55.312Z"
   },
   {
    "duration": 861,
    "start_time": "2024-08-21T13:00:55.322Z"
   },
   {
    "duration": 23,
    "start_time": "2024-08-21T13:00:56.189Z"
   },
   {
    "duration": 25,
    "start_time": "2024-08-21T13:00:56.214Z"
   },
   {
    "duration": 3,
    "start_time": "2024-08-21T13:00:56.241Z"
   },
   {
    "duration": 165,
    "start_time": "2024-08-21T13:00:56.245Z"
   },
   {
    "duration": 129,
    "start_time": "2024-08-21T13:00:56.413Z"
   },
   {
    "duration": 155,
    "start_time": "2024-08-21T13:00:56.544Z"
   },
   {
    "duration": 3,
    "start_time": "2024-08-21T13:00:56.701Z"
   },
   {
    "duration": 61028,
    "start_time": "2024-08-21T13:00:56.706Z"
   },
   {
    "duration": 0,
    "start_time": "2024-08-21T13:01:57.736Z"
   },
   {
    "duration": 0,
    "start_time": "2024-08-21T13:01:57.737Z"
   },
   {
    "duration": 0,
    "start_time": "2024-08-21T13:01:57.738Z"
   },
   {
    "duration": 6,
    "start_time": "2024-08-21T13:02:18.233Z"
   },
   {
    "duration": 6,
    "start_time": "2024-08-21T13:02:32.826Z"
   },
   {
    "duration": 31106,
    "start_time": "2024-08-21T13:02:36.009Z"
   },
   {
    "duration": 6,
    "start_time": "2024-08-21T13:04:10.877Z"
   },
   {
    "duration": 3914,
    "start_time": "2024-08-21T13:04:12.634Z"
   },
   {
    "duration": 36036,
    "start_time": "2024-08-21T13:04:34.995Z"
   },
   {
    "duration": 5,
    "start_time": "2024-08-21T13:07:29.640Z"
   },
   {
    "duration": 4246,
    "start_time": "2024-08-21T13:07:41.281Z"
   },
   {
    "duration": 953,
    "start_time": "2024-08-21T13:07:45.529Z"
   },
   {
    "duration": 3,
    "start_time": "2024-08-21T13:07:46.484Z"
   },
   {
    "duration": 168,
    "start_time": "2024-08-21T13:07:46.488Z"
   },
   {
    "duration": 5,
    "start_time": "2024-08-21T13:07:46.658Z"
   },
   {
    "duration": 17,
    "start_time": "2024-08-21T13:07:46.664Z"
   },
   {
    "duration": 2153,
    "start_time": "2024-08-21T13:07:46.683Z"
   },
   {
    "duration": 17,
    "start_time": "2024-08-21T13:07:48.837Z"
   },
   {
    "duration": 24686,
    "start_time": "2024-08-21T13:07:48.855Z"
   },
   {
    "duration": 6,
    "start_time": "2024-08-21T13:08:13.543Z"
   },
   {
    "duration": 3632,
    "start_time": "2024-08-21T13:08:13.550Z"
   },
   {
    "duration": 20,
    "start_time": "2024-08-21T13:08:17.184Z"
   },
   {
    "duration": 21,
    "start_time": "2024-08-21T13:08:17.206Z"
   },
   {
    "duration": 4,
    "start_time": "2024-08-21T13:08:17.229Z"
   },
   {
    "duration": 165,
    "start_time": "2024-08-21T13:08:17.235Z"
   },
   {
    "duration": 129,
    "start_time": "2024-08-21T13:08:17.402Z"
   },
   {
    "duration": 158,
    "start_time": "2024-08-21T13:08:17.532Z"
   },
   {
    "duration": 3,
    "start_time": "2024-08-21T13:08:17.691Z"
   },
   {
    "duration": 37427,
    "start_time": "2024-08-21T13:08:17.695Z"
   },
   {
    "duration": 7,
    "start_time": "2024-08-21T13:08:55.124Z"
   },
   {
    "duration": 405,
    "start_time": "2024-08-21T13:08:55.132Z"
   },
   {
    "duration": 0,
    "start_time": "2024-08-21T13:08:55.539Z"
   },
   {
    "duration": 3733,
    "start_time": "2024-08-21T13:11:19.255Z"
   },
   {
    "duration": 655,
    "start_time": "2024-08-21T13:11:22.990Z"
   },
   {
    "duration": 3,
    "start_time": "2024-08-21T13:11:23.647Z"
   },
   {
    "duration": 183,
    "start_time": "2024-08-21T13:11:23.651Z"
   },
   {
    "duration": 4,
    "start_time": "2024-08-21T13:11:23.837Z"
   },
   {
    "duration": 4,
    "start_time": "2024-08-21T13:11:23.842Z"
   },
   {
    "duration": 1982,
    "start_time": "2024-08-21T13:11:23.847Z"
   },
   {
    "duration": 16,
    "start_time": "2024-08-21T13:11:25.831Z"
   },
   {
    "duration": 20871,
    "start_time": "2024-08-21T13:11:25.848Z"
   },
   {
    "duration": 5,
    "start_time": "2024-08-21T13:11:46.721Z"
   },
   {
    "duration": 3622,
    "start_time": "2024-08-21T13:11:46.727Z"
   },
   {
    "duration": 17,
    "start_time": "2024-08-21T13:11:50.350Z"
   },
   {
    "duration": 18,
    "start_time": "2024-08-21T13:11:50.369Z"
   },
   {
    "duration": 22,
    "start_time": "2024-08-21T13:11:50.389Z"
   },
   {
    "duration": 124,
    "start_time": "2024-08-21T13:11:50.412Z"
   },
   {
    "duration": 117,
    "start_time": "2024-08-21T13:11:50.586Z"
   },
   {
    "duration": 95,
    "start_time": "2024-08-21T13:11:50.704Z"
   },
   {
    "duration": 2,
    "start_time": "2024-08-21T13:11:50.801Z"
   },
   {
    "duration": 433,
    "start_time": "2024-08-21T13:11:50.804Z"
   },
   {
    "duration": 0,
    "start_time": "2024-08-21T13:11:51.238Z"
   },
   {
    "duration": 0,
    "start_time": "2024-08-21T13:11:51.240Z"
   },
   {
    "duration": 2928,
    "start_time": "2024-08-21T13:12:53.829Z"
   },
   {
    "duration": 176,
    "start_time": "2024-08-21T13:12:56.760Z"
   },
   {
    "duration": 3,
    "start_time": "2024-08-21T13:12:56.938Z"
   },
   {
    "duration": 44,
    "start_time": "2024-08-21T13:12:56.942Z"
   },
   {
    "duration": 4,
    "start_time": "2024-08-21T13:12:56.989Z"
   },
   {
    "duration": 4,
    "start_time": "2024-08-21T13:12:56.995Z"
   },
   {
    "duration": 1862,
    "start_time": "2024-08-21T13:12:57.001Z"
   },
   {
    "duration": 16,
    "start_time": "2024-08-21T13:12:58.865Z"
   },
   {
    "duration": 2324,
    "start_time": "2024-08-21T13:12:58.882Z"
   },
   {
    "duration": 5,
    "start_time": "2024-08-21T13:13:01.208Z"
   },
   {
    "duration": 826,
    "start_time": "2024-08-21T13:13:01.215Z"
   },
   {
    "duration": 14,
    "start_time": "2024-08-21T13:13:02.043Z"
   },
   {
    "duration": 34,
    "start_time": "2024-08-21T13:13:02.059Z"
   },
   {
    "duration": 13,
    "start_time": "2024-08-21T13:13:02.095Z"
   },
   {
    "duration": 181,
    "start_time": "2024-08-21T13:13:02.109Z"
   },
   {
    "duration": 123,
    "start_time": "2024-08-21T13:13:02.292Z"
   },
   {
    "duration": 99,
    "start_time": "2024-08-21T13:13:02.416Z"
   },
   {
    "duration": 3,
    "start_time": "2024-08-21T13:13:02.516Z"
   },
   {
    "duration": 34420,
    "start_time": "2024-08-21T13:13:02.520Z"
   },
   {
    "duration": 445,
    "start_time": "2024-08-21T13:13:36.942Z"
   },
   {
    "duration": 0,
    "start_time": "2024-08-21T13:13:37.388Z"
   },
   {
    "duration": 28,
    "start_time": "2024-08-21T13:40:25.520Z"
   },
   {
    "duration": 20,
    "start_time": "2024-08-21T13:40:29.164Z"
   },
   {
    "duration": 6875,
    "start_time": "2024-08-21T13:40:34.721Z"
   },
   {
    "duration": 19,
    "start_time": "2024-08-21T13:44:07.973Z"
   },
   {
    "duration": 3,
    "start_time": "2024-08-21T13:44:15.201Z"
   },
   {
    "duration": 316,
    "start_time": "2024-08-21T13:44:18.305Z"
   },
   {
    "duration": 47,
    "start_time": "2024-08-21T13:46:04.970Z"
   },
   {
    "duration": 5853,
    "start_time": "2024-08-21T13:46:16.633Z"
   },
   {
    "duration": 1017,
    "start_time": "2024-08-21T13:46:22.488Z"
   },
   {
    "duration": 2,
    "start_time": "2024-08-21T13:46:23.507Z"
   },
   {
    "duration": 173,
    "start_time": "2024-08-21T13:46:23.511Z"
   },
   {
    "duration": 4,
    "start_time": "2024-08-21T13:46:23.687Z"
   },
   {
    "duration": 5,
    "start_time": "2024-08-21T13:46:23.692Z"
   },
   {
    "duration": 3023,
    "start_time": "2024-08-21T13:46:23.698Z"
   },
   {
    "duration": 275,
    "start_time": "2024-08-21T13:46:26.723Z"
   },
   {
    "duration": 10798,
    "start_time": "2024-08-21T13:46:26.999Z"
   },
   {
    "duration": 26,
    "start_time": "2024-08-21T13:46:37.799Z"
   },
   {
    "duration": 3609,
    "start_time": "2024-08-21T13:46:37.826Z"
   },
   {
    "duration": 41,
    "start_time": "2024-08-21T13:46:41.437Z"
   },
   {
    "duration": 24,
    "start_time": "2024-08-21T13:46:41.480Z"
   },
   {
    "duration": 4,
    "start_time": "2024-08-21T13:46:41.507Z"
   },
   {
    "duration": 175,
    "start_time": "2024-08-21T13:46:41.512Z"
   },
   {
    "duration": 127,
    "start_time": "2024-08-21T13:46:41.688Z"
   },
   {
    "duration": 111,
    "start_time": "2024-08-21T13:46:41.818Z"
   },
   {
    "duration": 3,
    "start_time": "2024-08-21T13:46:41.987Z"
   },
   {
    "duration": 18485,
    "start_time": "2024-08-21T13:46:41.993Z"
   },
   {
    "duration": 376,
    "start_time": "2024-08-21T13:47:00.480Z"
   },
   {
    "duration": 0,
    "start_time": "2024-08-21T13:47:00.857Z"
   },
   {
    "duration": 4671,
    "start_time": "2024-08-21T13:47:10.485Z"
   },
   {
    "duration": 359,
    "start_time": "2024-08-21T13:47:15.158Z"
   },
   {
    "duration": 2,
    "start_time": "2024-08-21T13:47:15.519Z"
   },
   {
    "duration": 52,
    "start_time": "2024-08-21T13:47:15.522Z"
   },
   {
    "duration": 4,
    "start_time": "2024-08-21T13:47:15.576Z"
   },
   {
    "duration": 22,
    "start_time": "2024-08-21T13:47:15.581Z"
   },
   {
    "duration": 2352,
    "start_time": "2024-08-21T13:47:15.604Z"
   },
   {
    "duration": 459,
    "start_time": "2024-08-21T13:47:17.958Z"
   },
   {
    "duration": 2682,
    "start_time": "2024-08-21T13:47:18.418Z"
   },
   {
    "duration": 89,
    "start_time": "2024-08-21T13:47:21.102Z"
   },
   {
    "duration": 788,
    "start_time": "2024-08-21T13:47:21.193Z"
   },
   {
    "duration": 19,
    "start_time": "2024-08-21T13:47:21.987Z"
   },
   {
    "duration": 48,
    "start_time": "2024-08-21T13:47:22.007Z"
   },
   {
    "duration": 7,
    "start_time": "2024-08-21T13:47:22.057Z"
   },
   {
    "duration": 123,
    "start_time": "2024-08-21T13:47:22.065Z"
   },
   {
    "duration": 128,
    "start_time": "2024-08-21T13:47:22.189Z"
   },
   {
    "duration": 97,
    "start_time": "2024-08-21T13:47:22.319Z"
   },
   {
    "duration": 3,
    "start_time": "2024-08-21T13:47:22.418Z"
   },
   {
    "duration": 18079,
    "start_time": "2024-08-21T13:47:22.422Z"
   },
   {
    "duration": 368,
    "start_time": "2024-08-21T13:47:40.503Z"
   },
   {
    "duration": 0,
    "start_time": "2024-08-21T13:47:40.872Z"
   },
   {
    "duration": 3,
    "start_time": "2024-08-21T13:48:10.040Z"
   },
   {
    "duration": 5373,
    "start_time": "2024-08-21T13:48:39.303Z"
   },
   {
    "duration": 1282,
    "start_time": "2024-08-21T13:48:44.678Z"
   },
   {
    "duration": 2,
    "start_time": "2024-08-21T13:48:45.962Z"
   },
   {
    "duration": 169,
    "start_time": "2024-08-21T13:48:45.965Z"
   },
   {
    "duration": 4,
    "start_time": "2024-08-21T13:48:46.136Z"
   },
   {
    "duration": 12,
    "start_time": "2024-08-21T13:48:46.142Z"
   },
   {
    "duration": 2307,
    "start_time": "2024-08-21T13:48:46.155Z"
   },
   {
    "duration": 285,
    "start_time": "2024-08-21T13:48:48.463Z"
   },
   {
    "duration": 10441,
    "start_time": "2024-08-21T13:48:48.749Z"
   },
   {
    "duration": 25,
    "start_time": "2024-08-21T13:48:59.192Z"
   },
   {
    "duration": 3569,
    "start_time": "2024-08-21T13:48:59.218Z"
   },
   {
    "duration": 37,
    "start_time": "2024-08-21T13:49:02.789Z"
   },
   {
    "duration": 20,
    "start_time": "2024-08-21T13:49:02.828Z"
   },
   {
    "duration": 3,
    "start_time": "2024-08-21T13:49:02.850Z"
   },
   {
    "duration": 179,
    "start_time": "2024-08-21T13:49:02.855Z"
   },
   {
    "duration": 180,
    "start_time": "2024-08-21T13:49:03.036Z"
   },
   {
    "duration": 104,
    "start_time": "2024-08-21T13:49:03.217Z"
   },
   {
    "duration": 3,
    "start_time": "2024-08-21T13:49:03.322Z"
   },
   {
    "duration": 17416,
    "start_time": "2024-08-21T13:49:03.326Z"
   },
   {
    "duration": 3899,
    "start_time": "2024-08-22T09:39:03.827Z"
   },
   {
    "duration": 9934,
    "start_time": "2024-08-22T09:39:07.728Z"
   },
   {
    "duration": 3,
    "start_time": "2024-08-22T09:39:17.664Z"
   },
   {
    "duration": 3574,
    "start_time": "2024-08-22T09:39:17.668Z"
   },
   {
    "duration": 5,
    "start_time": "2024-08-22T09:39:21.244Z"
   },
   {
    "duration": 16,
    "start_time": "2024-08-22T09:39:21.251Z"
   },
   {
    "duration": 3758,
    "start_time": "2024-08-22T09:39:21.269Z"
   },
   {
    "duration": 191,
    "start_time": "2024-08-22T09:39:25.029Z"
   },
   {
    "duration": 25,
    "start_time": "2024-08-22T09:39:25.222Z"
   },
   {
    "duration": 6,
    "start_time": "2024-08-22T09:39:25.249Z"
   },
   {
    "duration": 109,
    "start_time": "2024-08-22T09:39:25.256Z"
   },
   {
    "duration": 63,
    "start_time": "2024-08-22T09:39:25.367Z"
   },
   {
    "duration": 100,
    "start_time": "2024-08-22T09:39:25.433Z"
   },
   {
    "duration": 19,
    "start_time": "2024-08-22T10:14:15.099Z"
   },
   {
    "duration": 3,
    "start_time": "2024-08-22T10:15:25.902Z"
   },
   {
    "duration": 690,
    "start_time": "2024-08-22T10:16:27.931Z"
   },
   {
    "duration": 311,
    "start_time": "2024-08-22T10:22:43.914Z"
   },
   {
    "duration": 3,
    "start_time": "2024-08-22T10:23:56.233Z"
   },
   {
    "duration": 4,
    "start_time": "2024-08-22T10:25:27.015Z"
   },
   {
    "duration": 59,
    "start_time": "2024-08-22T10:25:47.359Z"
   },
   {
    "duration": 3067,
    "start_time": "2024-08-22T10:25:58.705Z"
   },
   {
    "duration": 4,
    "start_time": "2024-08-22T10:26:13.317Z"
   },
   {
    "duration": 35,
    "start_time": "2024-08-22T10:28:45.982Z"
   },
   {
    "duration": 64,
    "start_time": "2024-08-22T10:33:14.371Z"
   },
   {
    "duration": 43,
    "start_time": "2024-08-22T10:34:06.252Z"
   },
   {
    "duration": 1082,
    "start_time": "2024-08-22T10:34:15.001Z"
   },
   {
    "duration": 8,
    "start_time": "2024-08-22T10:34:16.084Z"
   },
   {
    "duration": 172,
    "start_time": "2024-08-22T10:34:16.094Z"
   },
   {
    "duration": 39,
    "start_time": "2024-08-22T10:34:16.268Z"
   },
   {
    "duration": 2,
    "start_time": "2024-08-22T10:34:16.309Z"
   },
   {
    "duration": 14,
    "start_time": "2024-08-22T10:34:16.312Z"
   },
   {
    "duration": 11,
    "start_time": "2024-08-22T10:34:16.327Z"
   },
   {
    "duration": 148,
    "start_time": "2024-08-22T10:34:16.339Z"
   },
   {
    "duration": 0,
    "start_time": "2024-08-22T10:34:16.489Z"
   },
   {
    "duration": 0,
    "start_time": "2024-08-22T10:34:16.490Z"
   },
   {
    "duration": 0,
    "start_time": "2024-08-22T10:34:16.491Z"
   },
   {
    "duration": 0,
    "start_time": "2024-08-22T10:34:16.492Z"
   },
   {
    "duration": 0,
    "start_time": "2024-08-22T10:34:16.492Z"
   },
   {
    "duration": 0,
    "start_time": "2024-08-22T10:34:16.493Z"
   },
   {
    "duration": 0,
    "start_time": "2024-08-22T10:34:16.494Z"
   },
   {
    "duration": 0,
    "start_time": "2024-08-22T10:34:16.496Z"
   },
   {
    "duration": 0,
    "start_time": "2024-08-22T10:34:16.497Z"
   },
   {
    "duration": 35,
    "start_time": "2024-08-22T10:34:47.838Z"
   },
   {
    "duration": 1111,
    "start_time": "2024-08-22T10:36:24.455Z"
   },
   {
    "duration": 5,
    "start_time": "2024-08-22T10:36:25.568Z"
   },
   {
    "duration": 172,
    "start_time": "2024-08-22T10:36:25.574Z"
   },
   {
    "duration": 49,
    "start_time": "2024-08-22T10:36:25.747Z"
   },
   {
    "duration": 3,
    "start_time": "2024-08-22T10:36:25.798Z"
   },
   {
    "duration": 22,
    "start_time": "2024-08-22T10:36:25.802Z"
   },
   {
    "duration": 19,
    "start_time": "2024-08-22T10:36:25.825Z"
   },
   {
    "duration": 33,
    "start_time": "2024-08-22T10:36:25.846Z"
   },
   {
    "duration": 8198,
    "start_time": "2024-08-22T10:42:21.897Z"
   },
   {
    "duration": 3286,
    "start_time": "2024-08-22T10:44:54.041Z"
   },
   {
    "duration": 207,
    "start_time": "2024-08-22T10:48:27.095Z"
   },
   {
    "duration": 1287,
    "start_time": "2024-08-22T10:49:04.046Z"
   },
   {
    "duration": 416,
    "start_time": "2024-08-22T10:49:24.970Z"
   },
   {
    "duration": 3664,
    "start_time": "2024-08-22T10:49:53.753Z"
   },
   {
    "duration": 174,
    "start_time": "2024-08-22T10:49:57.419Z"
   },
   {
    "duration": 41,
    "start_time": "2024-08-22T10:49:57.595Z"
   },
   {
    "duration": 3,
    "start_time": "2024-08-22T10:49:57.638Z"
   },
   {
    "duration": 4,
    "start_time": "2024-08-22T10:49:57.642Z"
   },
   {
    "duration": 8,
    "start_time": "2024-08-22T10:49:57.648Z"
   },
   {
    "duration": 495,
    "start_time": "2024-08-22T10:49:57.658Z"
   },
   {
    "duration": 314,
    "start_time": "2024-08-22T10:49:58.155Z"
   },
   {
    "duration": 0,
    "start_time": "2024-08-22T10:49:58.471Z"
   },
   {
    "duration": 0,
    "start_time": "2024-08-22T10:49:58.472Z"
   },
   {
    "duration": 0,
    "start_time": "2024-08-22T10:49:58.473Z"
   },
   {
    "duration": 0,
    "start_time": "2024-08-22T10:49:58.474Z"
   },
   {
    "duration": 0,
    "start_time": "2024-08-22T10:49:58.490Z"
   },
   {
    "duration": 0,
    "start_time": "2024-08-22T10:49:58.491Z"
   },
   {
    "duration": 0,
    "start_time": "2024-08-22T10:49:58.492Z"
   },
   {
    "duration": 437,
    "start_time": "2024-08-22T10:50:15.396Z"
   },
   {
    "duration": 423,
    "start_time": "2024-08-22T10:50:30.890Z"
   },
   {
    "duration": 594,
    "start_time": "2024-08-22T10:50:40.936Z"
   },
   {
    "duration": 431,
    "start_time": "2024-08-22T10:50:54.559Z"
   },
   {
    "duration": 421,
    "start_time": "2024-08-22T10:51:04.184Z"
   },
   {
    "duration": 419,
    "start_time": "2024-08-22T10:51:10.245Z"
   },
   {
    "duration": 3,
    "start_time": "2024-08-22T10:53:27.056Z"
   },
   {
    "duration": 435,
    "start_time": "2024-08-22T10:55:30.825Z"
   },
   {
    "duration": 421,
    "start_time": "2024-08-22T10:57:18.175Z"
   },
   {
    "duration": 437,
    "start_time": "2024-08-22T10:58:09.809Z"
   },
   {
    "duration": 636,
    "start_time": "2024-08-22T10:58:14.444Z"
   },
   {
    "duration": 416,
    "start_time": "2024-08-22T10:59:58.117Z"
   },
   {
    "duration": 418,
    "start_time": "2024-08-22T11:00:14.883Z"
   },
   {
    "duration": 449,
    "start_time": "2024-08-22T11:03:49.234Z"
   },
   {
    "duration": 430,
    "start_time": "2024-08-22T11:05:11.290Z"
   },
   {
    "duration": 418,
    "start_time": "2024-08-22T11:05:47.799Z"
   },
   {
    "duration": 429,
    "start_time": "2024-08-22T11:06:01.574Z"
   },
   {
    "duration": 404,
    "start_time": "2024-08-22T11:33:57.928Z"
   },
   {
    "duration": 593,
    "start_time": "2024-08-22T11:37:36.907Z"
   },
   {
    "duration": 410,
    "start_time": "2024-08-22T11:42:56.500Z"
   },
   {
    "duration": 3,
    "start_time": "2024-08-22T11:43:58.197Z"
   },
   {
    "duration": 5,
    "start_time": "2024-08-22T11:43:58.201Z"
   },
   {
    "duration": 12,
    "start_time": "2024-08-22T11:43:58.208Z"
   },
   {
    "duration": 26,
    "start_time": "2024-08-22T11:43:58.222Z"
   },
   {
    "duration": 9,
    "start_time": "2024-08-22T11:43:58.250Z"
   },
   {
    "duration": 6,
    "start_time": "2024-08-22T11:43:58.260Z"
   },
   {
    "duration": 623,
    "start_time": "2024-08-22T11:43:58.267Z"
   },
   {
    "duration": 807,
    "start_time": "2024-08-22T11:43:58.891Z"
   },
   {
    "duration": 10,
    "start_time": "2024-08-22T11:43:59.700Z"
   },
   {
    "duration": 51,
    "start_time": "2024-08-22T11:43:59.711Z"
   },
   {
    "duration": 6,
    "start_time": "2024-08-22T11:43:59.764Z"
   },
   {
    "duration": 84,
    "start_time": "2024-08-22T11:43:59.772Z"
   },
   {
    "duration": 68,
    "start_time": "2024-08-22T11:43:59.857Z"
   },
   {
    "duration": 122,
    "start_time": "2024-08-22T11:43:59.926Z"
   },
   {
    "duration": 430,
    "start_time": "2024-08-22T11:44:49.095Z"
   },
   {
    "duration": 3,
    "start_time": "2024-08-22T11:45:56.605Z"
   },
   {
    "duration": 723,
    "start_time": "2024-08-22T11:46:12.254Z"
   },
   {
    "duration": 3,
    "start_time": "2024-08-22T11:46:29.515Z"
   },
   {
    "duration": 447,
    "start_time": "2024-08-22T11:46:33.620Z"
   },
   {
    "duration": 432,
    "start_time": "2024-08-22T11:46:45.833Z"
   },
   {
    "duration": 3,
    "start_time": "2024-08-22T11:47:16.998Z"
   },
   {
    "duration": 417,
    "start_time": "2024-08-22T11:47:46.703Z"
   },
   {
    "duration": 424,
    "start_time": "2024-08-22T11:51:08.842Z"
   },
   {
    "duration": 3,
    "start_time": "2024-08-22T11:51:21.814Z"
   },
   {
    "duration": 423,
    "start_time": "2024-08-22T11:51:39.259Z"
   },
   {
    "duration": 637,
    "start_time": "2024-08-22T11:52:31.178Z"
   },
   {
    "duration": 402,
    "start_time": "2024-08-22T11:52:37.039Z"
   },
   {
    "duration": 3816,
    "start_time": "2024-08-22T11:52:53.434Z"
   },
   {
    "duration": 90,
    "start_time": "2024-08-22T11:52:57.252Z"
   },
   {
    "duration": 47,
    "start_time": "2024-08-22T11:52:57.343Z"
   },
   {
    "duration": 3,
    "start_time": "2024-08-22T11:52:57.391Z"
   },
   {
    "duration": 340,
    "start_time": "2024-08-22T11:52:57.395Z"
   },
   {
    "duration": 0,
    "start_time": "2024-08-22T11:52:57.738Z"
   },
   {
    "duration": 0,
    "start_time": "2024-08-22T11:52:57.739Z"
   },
   {
    "duration": 0,
    "start_time": "2024-08-22T11:52:57.740Z"
   },
   {
    "duration": 0,
    "start_time": "2024-08-22T11:52:57.742Z"
   },
   {
    "duration": 0,
    "start_time": "2024-08-22T11:52:57.743Z"
   },
   {
    "duration": 0,
    "start_time": "2024-08-22T11:52:57.744Z"
   },
   {
    "duration": 0,
    "start_time": "2024-08-22T11:52:57.746Z"
   },
   {
    "duration": 0,
    "start_time": "2024-08-22T11:52:57.747Z"
   },
   {
    "duration": 0,
    "start_time": "2024-08-22T11:52:57.748Z"
   },
   {
    "duration": 3,
    "start_time": "2024-08-22T11:53:28.448Z"
   },
   {
    "duration": 4146,
    "start_time": "2024-08-22T11:53:36.806Z"
   },
   {
    "duration": 87,
    "start_time": "2024-08-22T11:53:40.954Z"
   },
   {
    "duration": 36,
    "start_time": "2024-08-22T11:53:41.042Z"
   },
   {
    "duration": 11,
    "start_time": "2024-08-22T11:53:41.079Z"
   },
   {
    "duration": 9,
    "start_time": "2024-08-22T11:53:41.093Z"
   },
   {
    "duration": 15,
    "start_time": "2024-08-22T11:53:41.103Z"
   },
   {
    "duration": 1043,
    "start_time": "2024-08-22T11:53:41.119Z"
   },
   {
    "duration": 0,
    "start_time": "2024-08-22T11:53:42.165Z"
   },
   {
    "duration": 0,
    "start_time": "2024-08-22T11:53:42.166Z"
   },
   {
    "duration": 0,
    "start_time": "2024-08-22T11:53:42.167Z"
   },
   {
    "duration": 0,
    "start_time": "2024-08-22T11:53:42.168Z"
   },
   {
    "duration": 1,
    "start_time": "2024-08-22T11:53:42.169Z"
   },
   {
    "duration": 0,
    "start_time": "2024-08-22T11:53:42.171Z"
   },
   {
    "duration": 0,
    "start_time": "2024-08-22T11:53:42.190Z"
   },
   {
    "duration": 424,
    "start_time": "2024-08-22T11:54:08.529Z"
   },
   {
    "duration": 646,
    "start_time": "2024-08-22T11:54:27.753Z"
   },
   {
    "duration": 838,
    "start_time": "2024-08-22T11:54:40.066Z"
   },
   {
    "duration": 456,
    "start_time": "2024-08-22T11:54:45.889Z"
   },
   {
    "duration": 422,
    "start_time": "2024-08-22T11:56:35.620Z"
   },
   {
    "duration": 5,
    "start_time": "2024-08-22T11:56:46.890Z"
   },
   {
    "duration": 4,
    "start_time": "2024-08-22T11:56:51.730Z"
   },
   {
    "duration": 447,
    "start_time": "2024-08-22T11:57:13.446Z"
   },
   {
    "duration": 472,
    "start_time": "2024-08-22T12:01:34.034Z"
   },
   {
    "duration": 429,
    "start_time": "2024-08-22T12:01:44.227Z"
   },
   {
    "duration": 427,
    "start_time": "2024-08-22T12:02:06.958Z"
   },
   {
    "duration": 656,
    "start_time": "2024-08-22T12:02:33.469Z"
   },
   {
    "duration": 411,
    "start_time": "2024-08-22T12:04:34.357Z"
   },
   {
    "duration": 430,
    "start_time": "2024-08-22T12:04:48.507Z"
   },
   {
    "duration": 3,
    "start_time": "2024-08-22T12:05:35.015Z"
   },
   {
    "duration": 4,
    "start_time": "2024-08-22T12:05:43.644Z"
   },
   {
    "duration": 424,
    "start_time": "2024-08-22T12:05:57.840Z"
   },
   {
    "duration": 5,
    "start_time": "2024-08-22T12:06:24.558Z"
   },
   {
    "duration": 432,
    "start_time": "2024-08-22T12:06:37.051Z"
   },
   {
    "duration": 470,
    "start_time": "2024-08-22T12:08:41.554Z"
   },
   {
    "duration": 443,
    "start_time": "2024-08-22T12:08:59.856Z"
   },
   {
    "duration": 419,
    "start_time": "2024-08-22T12:09:19.112Z"
   },
   {
    "duration": 4,
    "start_time": "2024-08-22T12:10:06.396Z"
   },
   {
    "duration": 688,
    "start_time": "2024-08-22T12:10:21.311Z"
   },
   {
    "duration": 423,
    "start_time": "2024-08-22T12:10:22.960Z"
   },
   {
    "duration": 4,
    "start_time": "2024-08-22T12:10:31.639Z"
   },
   {
    "duration": 413,
    "start_time": "2024-08-22T12:10:44.781Z"
   },
   {
    "duration": 4041,
    "start_time": "2024-08-22T13:27:54.162Z"
   },
   {
    "duration": 100,
    "start_time": "2024-08-22T13:27:58.205Z"
   },
   {
    "duration": 41,
    "start_time": "2024-08-22T13:27:58.307Z"
   },
   {
    "duration": 2,
    "start_time": "2024-08-22T13:27:58.350Z"
   },
   {
    "duration": 4,
    "start_time": "2024-08-22T13:27:58.354Z"
   },
   {
    "duration": 7,
    "start_time": "2024-08-22T13:27:58.359Z"
   },
   {
    "duration": 713,
    "start_time": "2024-08-22T13:27:58.367Z"
   },
   {
    "duration": 864,
    "start_time": "2024-08-22T13:27:59.082Z"
   },
   {
    "duration": 14,
    "start_time": "2024-08-22T13:27:59.947Z"
   },
   {
    "duration": 30,
    "start_time": "2024-08-22T13:27:59.962Z"
   },
   {
    "duration": 11,
    "start_time": "2024-08-22T13:27:59.995Z"
   },
   {
    "duration": 141,
    "start_time": "2024-08-22T13:28:00.008Z"
   },
   {
    "duration": 72,
    "start_time": "2024-08-22T13:28:00.150Z"
   },
   {
    "duration": 130,
    "start_time": "2024-08-22T13:28:00.225Z"
   },
   {
    "duration": 4228,
    "start_time": "2024-08-22T13:28:19.073Z"
   },
   {
    "duration": 94,
    "start_time": "2024-08-22T13:28:23.303Z"
   },
   {
    "duration": 42,
    "start_time": "2024-08-22T13:28:23.398Z"
   },
   {
    "duration": 2,
    "start_time": "2024-08-22T13:28:23.442Z"
   },
   {
    "duration": 4,
    "start_time": "2024-08-22T13:28:23.446Z"
   },
   {
    "duration": 4,
    "start_time": "2024-08-22T13:28:23.451Z"
   },
   {
    "duration": 679,
    "start_time": "2024-08-22T13:28:23.456Z"
   },
   {
    "duration": 876,
    "start_time": "2024-08-22T13:28:24.136Z"
   },
   {
    "duration": 15,
    "start_time": "2024-08-22T13:28:25.013Z"
   },
   {
    "duration": 19,
    "start_time": "2024-08-22T13:28:25.029Z"
   },
   {
    "duration": 13,
    "start_time": "2024-08-22T13:28:25.051Z"
   },
   {
    "duration": 104,
    "start_time": "2024-08-22T13:28:25.065Z"
   },
   {
    "duration": 64,
    "start_time": "2024-08-22T13:28:25.171Z"
   },
   {
    "duration": 105,
    "start_time": "2024-08-22T13:28:25.237Z"
   },
   {
    "duration": 10,
    "start_time": "2024-08-22T13:28:29.123Z"
   },
   {
    "duration": 3,
    "start_time": "2024-08-22T13:32:41.355Z"
   },
   {
    "duration": 1050,
    "start_time": "2024-08-22T13:34:22.659Z"
   },
   {
    "duration": 4,
    "start_time": "2024-08-22T13:40:25.780Z"
   },
   {
    "duration": 3,
    "start_time": "2024-08-22T13:40:37.757Z"
   },
   {
    "duration": 4,
    "start_time": "2024-08-22T13:41:27.421Z"
   },
   {
    "duration": 9,
    "start_time": "2024-08-22T13:41:34.384Z"
   },
   {
    "duration": 3,
    "start_time": "2024-08-22T13:42:36.260Z"
   },
   {
    "duration": 3,
    "start_time": "2024-08-22T13:42:43.464Z"
   },
   {
    "duration": 448,
    "start_time": "2024-08-22T13:43:26.774Z"
   },
   {
    "duration": 431,
    "start_time": "2024-08-22T13:43:37.619Z"
   },
   {
    "duration": 5,
    "start_time": "2024-08-22T13:47:05.015Z"
   },
   {
    "duration": 28,
    "start_time": "2024-08-22T13:47:21.585Z"
   },
   {
    "duration": 28,
    "start_time": "2024-08-22T13:47:41.046Z"
   },
   {
    "duration": 29,
    "start_time": "2024-08-22T13:47:47.260Z"
   },
   {
    "duration": 5,
    "start_time": "2024-08-22T13:48:33.862Z"
   },
   {
    "duration": 4,
    "start_time": "2024-08-22T13:48:44.142Z"
   },
   {
    "duration": 4,
    "start_time": "2024-08-22T13:48:50.737Z"
   },
   {
    "duration": 28,
    "start_time": "2024-08-22T13:54:41.122Z"
   },
   {
    "duration": 80,
    "start_time": "2024-08-22T13:55:21.452Z"
   },
   {
    "duration": 8,
    "start_time": "2024-08-22T13:56:11.412Z"
   },
   {
    "duration": 4,
    "start_time": "2024-08-22T13:58:27.314Z"
   },
   {
    "duration": 2,
    "start_time": "2024-08-22T13:58:39.077Z"
   },
   {
    "duration": 2,
    "start_time": "2024-08-22T13:58:58.885Z"
   },
   {
    "duration": 4,
    "start_time": "2024-08-22T13:59:05.316Z"
   },
   {
    "duration": 3,
    "start_time": "2024-08-22T14:00:59.404Z"
   },
   {
    "duration": 4,
    "start_time": "2024-08-22T14:01:08.497Z"
   },
   {
    "duration": 4025,
    "start_time": "2024-08-22T14:03:40.178Z"
   },
   {
    "duration": 86,
    "start_time": "2024-08-22T14:03:44.204Z"
   },
   {
    "duration": 38,
    "start_time": "2024-08-22T14:03:44.292Z"
   },
   {
    "duration": 644,
    "start_time": "2024-08-22T14:03:44.331Z"
   },
   {
    "duration": 4,
    "start_time": "2024-08-22T14:03:44.978Z"
   },
   {
    "duration": 42,
    "start_time": "2024-08-22T14:03:44.983Z"
   },
   {
    "duration": 66,
    "start_time": "2024-08-22T14:03:45.027Z"
   },
   {
    "duration": 83,
    "start_time": "2024-08-22T14:03:45.095Z"
   },
   {
    "duration": 441,
    "start_time": "2024-08-22T14:03:45.180Z"
   },
   {
    "duration": 800,
    "start_time": "2024-08-22T14:03:45.623Z"
   },
   {
    "duration": 14,
    "start_time": "2024-08-22T14:03:46.424Z"
   },
   {
    "duration": 16,
    "start_time": "2024-08-22T14:03:46.439Z"
   },
   {
    "duration": 30,
    "start_time": "2024-08-22T14:03:46.457Z"
   },
   {
    "duration": 312,
    "start_time": "2024-08-22T14:03:46.489Z"
   },
   {
    "duration": 53,
    "start_time": "2024-08-22T14:03:46.802Z"
   },
   {
    "duration": 107,
    "start_time": "2024-08-22T14:03:46.856Z"
   },
   {
    "duration": 6,
    "start_time": "2024-08-22T14:03:46.964Z"
   },
   {
    "duration": 5,
    "start_time": "2024-08-22T14:03:46.971Z"
   },
   {
    "duration": 1341,
    "start_time": "2024-08-22T14:03:46.989Z"
   },
   {
    "duration": 4,
    "start_time": "2024-08-22T14:03:48.331Z"
   },
   {
    "duration": 4,
    "start_time": "2024-08-22T14:04:13.159Z"
   },
   {
    "duration": 4,
    "start_time": "2024-08-22T14:04:26.960Z"
   },
   {
    "duration": 4,
    "start_time": "2024-08-22T14:05:20.645Z"
   },
   {
    "duration": 2,
    "start_time": "2024-08-22T14:05:28.752Z"
   },
   {
    "duration": 845,
    "start_time": "2024-08-22T14:05:28.756Z"
   },
   {
    "duration": 4,
    "start_time": "2024-08-22T14:05:29.602Z"
   },
   {
    "duration": 4,
    "start_time": "2024-08-22T14:08:59.837Z"
   },
   {
    "duration": 2,
    "start_time": "2024-08-22T14:09:13.558Z"
   },
   {
    "duration": 2285,
    "start_time": "2024-08-22T14:09:13.562Z"
   },
   {
    "duration": 4,
    "start_time": "2024-08-22T14:09:15.849Z"
   },
   {
    "duration": 4,
    "start_time": "2024-08-22T14:10:43.870Z"
   },
   {
    "duration": 3,
    "start_time": "2024-08-22T14:10:50.745Z"
   },
   {
    "duration": 4,
    "start_time": "2024-08-22T14:10:50.750Z"
   },
   {
    "duration": 1145,
    "start_time": "2024-08-22T14:10:50.755Z"
   },
   {
    "duration": 4,
    "start_time": "2024-08-22T14:10:51.901Z"
   },
   {
    "duration": 5,
    "start_time": "2024-08-22T14:13:43.410Z"
   },
   {
    "duration": 2,
    "start_time": "2024-08-22T14:13:49.671Z"
   },
   {
    "duration": 914,
    "start_time": "2024-08-22T14:13:49.676Z"
   },
   {
    "duration": 4,
    "start_time": "2024-08-22T14:13:50.592Z"
   },
   {
    "duration": 4,
    "start_time": "2024-08-22T14:13:59.161Z"
   },
   {
    "duration": 4,
    "start_time": "2024-08-22T14:14:04.600Z"
   },
   {
    "duration": 4,
    "start_time": "2024-08-22T14:14:11.506Z"
   },
   {
    "duration": 4,
    "start_time": "2024-08-22T14:14:17.433Z"
   },
   {
    "duration": 328,
    "start_time": "2024-08-22T14:15:03.947Z"
   },
   {
    "duration": 2,
    "start_time": "2024-08-22T14:15:09.471Z"
   },
   {
    "duration": 752,
    "start_time": "2024-08-22T14:15:09.475Z"
   },
   {
    "duration": 4,
    "start_time": "2024-08-22T14:15:10.230Z"
   },
   {
    "duration": 3,
    "start_time": "2024-08-22T14:15:51.803Z"
   },
   {
    "duration": 3,
    "start_time": "2024-08-22T14:15:58.940Z"
   },
   {
    "duration": 4,
    "start_time": "2024-08-22T14:16:06.532Z"
   },
   {
    "duration": 3,
    "start_time": "2024-08-22T14:16:25.866Z"
   },
   {
    "duration": 3,
    "start_time": "2024-08-22T14:16:32.847Z"
   },
   {
    "duration": 3,
    "start_time": "2024-08-22T14:16:42.209Z"
   },
   {
    "duration": 33,
    "start_time": "2024-08-22T14:16:42.214Z"
   },
   {
    "duration": 1153,
    "start_time": "2024-08-22T14:16:42.248Z"
   },
   {
    "duration": 3,
    "start_time": "2024-08-22T14:16:43.402Z"
   },
   {
    "duration": 3,
    "start_time": "2024-08-22T14:16:50.358Z"
   },
   {
    "duration": 4,
    "start_time": "2024-08-22T14:25:57.938Z"
   },
   {
    "duration": 4,
    "start_time": "2024-08-22T14:26:09.363Z"
   },
   {
    "duration": 9,
    "start_time": "2024-08-22T14:26:09.368Z"
   },
   {
    "duration": 1281,
    "start_time": "2024-08-22T14:26:09.379Z"
   },
   {
    "duration": 4,
    "start_time": "2024-08-22T14:26:26.405Z"
   },
   {
    "duration": 3,
    "start_time": "2024-08-22T14:26:26.411Z"
   },
   {
    "duration": 325114,
    "start_time": "2024-08-22T14:26:26.415Z"
   },
   {
    "duration": 58,
    "start_time": "2024-08-22T14:38:31.363Z"
   },
   {
    "duration": 4,
    "start_time": "2024-08-22T14:38:39.652Z"
   },
   {
    "duration": 3,
    "start_time": "2024-08-22T14:39:19.127Z"
   },
   {
    "duration": 21,
    "start_time": "2024-08-22T14:40:25.622Z"
   },
   {
    "duration": 26,
    "start_time": "2024-08-22T14:40:34.933Z"
   },
   {
    "duration": 3,
    "start_time": "2024-08-22T14:41:03.791Z"
   },
   {
    "duration": 3856,
    "start_time": "2024-08-22T14:41:40.225Z"
   },
   {
    "duration": 95,
    "start_time": "2024-08-22T14:41:44.083Z"
   },
   {
    "duration": 45,
    "start_time": "2024-08-22T14:41:44.179Z"
   },
   {
    "duration": 724,
    "start_time": "2024-08-22T14:41:44.225Z"
   },
   {
    "duration": 4,
    "start_time": "2024-08-22T14:41:44.952Z"
   },
   {
    "duration": 38,
    "start_time": "2024-08-22T14:41:44.958Z"
   },
   {
    "duration": 53,
    "start_time": "2024-08-22T14:41:44.998Z"
   },
   {
    "duration": 75,
    "start_time": "2024-08-22T14:41:45.053Z"
   },
   {
    "duration": 931,
    "start_time": "2024-08-22T14:41:45.129Z"
   },
   {
    "duration": 15,
    "start_time": "2024-08-22T14:41:46.061Z"
   },
   {
    "duration": 21,
    "start_time": "2024-08-22T14:41:46.089Z"
   },
   {
    "duration": 9,
    "start_time": "2024-08-22T14:41:46.111Z"
   },
   {
    "duration": 105,
    "start_time": "2024-08-22T14:41:46.122Z"
   },
   {
    "duration": 65,
    "start_time": "2024-08-22T14:41:46.230Z"
   },
   {
    "duration": 102,
    "start_time": "2024-08-22T14:41:46.296Z"
   },
   {
    "duration": 3,
    "start_time": "2024-08-22T14:41:46.400Z"
   },
   {
    "duration": 29,
    "start_time": "2024-08-22T14:41:46.405Z"
   },
   {
    "duration": 8192,
    "start_time": "2024-08-22T14:41:46.436Z"
   },
   {
    "duration": 22,
    "start_time": "2024-08-22T14:41:54.630Z"
   },
   {
    "duration": 3,
    "start_time": "2024-08-22T14:43:57.049Z"
   },
   {
    "duration": 4,
    "start_time": "2024-08-22T14:47:25.552Z"
   },
   {
    "duration": 4,
    "start_time": "2024-08-22T14:48:34.435Z"
   },
   {
    "duration": 333,
    "start_time": "2024-08-22T14:49:23.092Z"
   },
   {
    "duration": 20,
    "start_time": "2024-08-22T14:49:35.474Z"
   },
   {
    "duration": 18,
    "start_time": "2024-08-22T14:50:05.902Z"
   },
   {
    "duration": 1886,
    "start_time": "2024-08-22T14:50:21.524Z"
   },
   {
    "duration": 5,
    "start_time": "2024-08-22T14:51:19.642Z"
   },
   {
    "duration": 4,
    "start_time": "2024-08-22T14:54:48.371Z"
   },
   {
    "duration": 4027,
    "start_time": "2024-08-22T14:55:02.287Z"
   },
   {
    "duration": 93,
    "start_time": "2024-08-22T14:55:06.316Z"
   },
   {
    "duration": 41,
    "start_time": "2024-08-22T14:55:06.410Z"
   },
   {
    "duration": 728,
    "start_time": "2024-08-22T14:55:06.453Z"
   },
   {
    "duration": 4,
    "start_time": "2024-08-22T14:55:07.184Z"
   },
   {
    "duration": 3,
    "start_time": "2024-08-22T14:55:07.190Z"
   },
   {
    "duration": 11,
    "start_time": "2024-08-22T14:55:07.195Z"
   },
   {
    "duration": 18,
    "start_time": "2024-08-22T14:55:07.208Z"
   },
   {
    "duration": 835,
    "start_time": "2024-08-22T14:55:07.228Z"
   },
   {
    "duration": 28,
    "start_time": "2024-08-22T14:55:08.065Z"
   },
   {
    "duration": 22,
    "start_time": "2024-08-22T14:55:08.095Z"
   },
   {
    "duration": 8,
    "start_time": "2024-08-22T14:55:08.119Z"
   },
   {
    "duration": 115,
    "start_time": "2024-08-22T14:55:08.128Z"
   },
   {
    "duration": 72,
    "start_time": "2024-08-22T14:55:08.246Z"
   },
   {
    "duration": 101,
    "start_time": "2024-08-22T14:55:08.320Z"
   },
   {
    "duration": 4,
    "start_time": "2024-08-22T14:55:08.423Z"
   },
   {
    "duration": 4,
    "start_time": "2024-08-22T14:55:08.428Z"
   },
   {
    "duration": 327208,
    "start_time": "2024-08-22T14:55:08.433Z"
   },
   {
    "duration": 3223,
    "start_time": "2024-08-22T15:00:35.643Z"
   },
   {
    "duration": 4,
    "start_time": "2024-08-22T15:16:03.816Z"
   },
   {
    "duration": 3982,
    "start_time": "2024-08-22T15:18:12.707Z"
   },
   {
    "duration": 84,
    "start_time": "2024-08-22T15:18:16.691Z"
   },
   {
    "duration": 49,
    "start_time": "2024-08-22T15:18:16.776Z"
   },
   {
    "duration": 626,
    "start_time": "2024-08-22T15:18:16.827Z"
   },
   {
    "duration": 4,
    "start_time": "2024-08-22T15:18:17.455Z"
   },
   {
    "duration": 9,
    "start_time": "2024-08-22T15:18:17.460Z"
   },
   {
    "duration": 13,
    "start_time": "2024-08-22T15:18:17.470Z"
   },
   {
    "duration": 9,
    "start_time": "2024-08-22T15:18:17.484Z"
   },
   {
    "duration": 840,
    "start_time": "2024-08-22T15:18:17.494Z"
   },
   {
    "duration": 14,
    "start_time": "2024-08-22T15:18:18.336Z"
   },
   {
    "duration": 18,
    "start_time": "2024-08-22T15:18:18.352Z"
   },
   {
    "duration": 23,
    "start_time": "2024-08-22T15:18:18.372Z"
   },
   {
    "duration": 103,
    "start_time": "2024-08-22T15:18:18.396Z"
   },
   {
    "duration": 58,
    "start_time": "2024-08-22T15:18:18.502Z"
   },
   {
    "duration": 114,
    "start_time": "2024-08-22T15:18:18.562Z"
   },
   {
    "duration": 13,
    "start_time": "2024-08-22T15:18:18.677Z"
   },
   {
    "duration": 3,
    "start_time": "2024-08-22T15:18:18.692Z"
   },
   {
    "duration": 337510,
    "start_time": "2024-08-22T15:18:18.696Z"
   },
   {
    "duration": 6,
    "start_time": "2024-08-22T15:23:56.207Z"
   },
   {
    "duration": 350,
    "start_time": "2024-08-22T15:23:56.214Z"
   },
   {
    "duration": 0,
    "start_time": "2024-08-22T15:23:56.565Z"
   },
   {
    "duration": 6,
    "start_time": "2024-08-22T15:24:55.923Z"
   },
   {
    "duration": 3885,
    "start_time": "2024-08-22T15:29:54.378Z"
   },
   {
    "duration": 87,
    "start_time": "2024-08-22T15:29:58.265Z"
   },
   {
    "duration": 42,
    "start_time": "2024-08-22T15:29:58.354Z"
   },
   {
    "duration": 687,
    "start_time": "2024-08-22T15:29:58.398Z"
   },
   {
    "duration": 4,
    "start_time": "2024-08-22T15:29:59.087Z"
   },
   {
    "duration": 4,
    "start_time": "2024-08-22T15:29:59.092Z"
   },
   {
    "duration": 16,
    "start_time": "2024-08-22T15:29:59.097Z"
   },
   {
    "duration": 7,
    "start_time": "2024-08-22T15:29:59.115Z"
   },
   {
    "duration": 832,
    "start_time": "2024-08-22T15:29:59.123Z"
   },
   {
    "duration": 13,
    "start_time": "2024-08-22T15:29:59.956Z"
   },
   {
    "duration": 28,
    "start_time": "2024-08-22T15:29:59.971Z"
   },
   {
    "duration": 7,
    "start_time": "2024-08-22T15:30:00.000Z"
   },
   {
    "duration": 135,
    "start_time": "2024-08-22T15:30:00.008Z"
   },
   {
    "duration": 74,
    "start_time": "2024-08-22T15:30:00.145Z"
   },
   {
    "duration": 126,
    "start_time": "2024-08-22T15:30:00.223Z"
   },
   {
    "duration": 4,
    "start_time": "2024-08-22T15:30:00.351Z"
   },
   {
    "duration": 19,
    "start_time": "2024-08-22T15:30:00.356Z"
   },
   {
    "duration": 325856,
    "start_time": "2024-08-22T15:30:00.377Z"
   },
   {
    "duration": 6,
    "start_time": "2024-08-22T15:35:26.234Z"
   },
   {
    "duration": 320,
    "start_time": "2024-08-22T15:35:26.241Z"
   },
   {
    "duration": 0,
    "start_time": "2024-08-22T15:35:26.563Z"
   },
   {
    "duration": 4,
    "start_time": "2024-08-22T15:38:30.742Z"
   },
   {
    "duration": 27,
    "start_time": "2024-08-22T15:38:35.600Z"
   },
   {
    "duration": 4,
    "start_time": "2024-08-22T15:39:09.434Z"
   },
   {
    "duration": 938,
    "start_time": "2024-08-22T15:39:14.352Z"
   },
   {
    "duration": 4,
    "start_time": "2024-08-22T15:39:26.940Z"
   },
   {
    "duration": 4,
    "start_time": "2024-08-22T15:39:35.807Z"
   },
   {
    "duration": 16,
    "start_time": "2024-08-22T15:40:58.536Z"
   },
   {
    "duration": 16,
    "start_time": "2024-08-22T15:41:02.634Z"
   },
   {
    "duration": 4,
    "start_time": "2024-08-22T15:41:05.735Z"
   },
   {
    "duration": 935,
    "start_time": "2024-08-22T15:41:15.296Z"
   },
   {
    "duration": 923,
    "start_time": "2024-08-22T15:41:48.899Z"
   },
   {
    "duration": 4,
    "start_time": "2024-08-22T15:45:14.708Z"
   },
   {
    "duration": 4,
    "start_time": "2024-08-22T15:45:19.458Z"
   },
   {
    "duration": 23,
    "start_time": "2024-08-22T15:52:44.872Z"
   },
   {
    "duration": 7,
    "start_time": "2024-08-22T15:55:05.207Z"
   },
   {
    "duration": 18,
    "start_time": "2024-08-22T15:55:07.287Z"
   },
   {
    "duration": 223354,
    "start_time": "2024-08-22T15:55:22.121Z"
   },
   {
    "duration": 18,
    "start_time": "2024-08-22T16:03:53.433Z"
   },
   {
    "duration": 3,
    "start_time": "2024-08-22T16:04:49.169Z"
   },
   {
    "duration": 4,
    "start_time": "2024-08-22T16:05:01.832Z"
   },
   {
    "duration": 719443,
    "start_time": "2024-08-22T16:05:08.078Z"
   },
   {
    "duration": 3,
    "start_time": "2024-08-22T16:17:07.523Z"
   },
   {
    "duration": 2314,
    "start_time": "2024-08-22T16:18:19.698Z"
   },
   {
    "duration": 2224,
    "start_time": "2024-08-22T16:19:04.004Z"
   },
   {
    "duration": 2336,
    "start_time": "2024-08-22T16:19:40.177Z"
   },
   {
    "duration": 521645,
    "start_time": "2024-08-22T16:20:26.511Z"
   },
   {
    "duration": 2344,
    "start_time": "2024-08-22T16:56:17.057Z"
   },
   {
    "duration": 4,
    "start_time": "2024-08-22T17:02:35.744Z"
   },
   {
    "duration": 51,
    "start_time": "2024-08-22T17:02:43.785Z"
   },
   {
    "duration": 37,
    "start_time": "2024-08-22T17:04:10.512Z"
   },
   {
    "duration": 296250,
    "start_time": "2024-08-22T17:04:24.005Z"
   },
   {
    "duration": 69029,
    "start_time": "2024-08-22T17:09:22.410Z"
   },
   {
    "duration": 4,
    "start_time": "2024-08-22T17:12:46.168Z"
   },
   {
    "duration": 30,
    "start_time": "2024-08-22T17:15:35.670Z"
   },
   {
    "duration": 57,
    "start_time": "2024-08-22T17:18:07.047Z"
   },
   {
    "duration": 3,
    "start_time": "2024-08-22T17:19:04.220Z"
   },
   {
    "duration": 4,
    "start_time": "2024-08-22T18:19:30.846Z"
   },
   {
    "duration": 17633,
    "start_time": "2024-08-22T18:19:38.375Z"
   },
   {
    "duration": 309729,
    "start_time": "2024-08-22T18:20:00.975Z"
   },
   {
    "duration": 2128,
    "start_time": "2024-08-22T18:25:45.099Z"
   },
   {
    "duration": 32695,
    "start_time": "2024-08-22T18:26:02.051Z"
   },
   {
    "duration": 32502,
    "start_time": "2024-08-22T18:29:59.744Z"
   },
   {
    "duration": 4,
    "start_time": "2024-08-22T18:30:40.200Z"
   },
   {
    "duration": 4,
    "start_time": "2024-08-22T18:30:58.919Z"
   },
   {
    "duration": 5095,
    "start_time": "2024-08-22T18:34:12.263Z"
   },
   {
    "duration": 259,
    "start_time": "2024-08-22T18:34:17.360Z"
   },
   {
    "duration": 248,
    "start_time": "2024-08-22T18:34:17.620Z"
   },
   {
    "duration": 721,
    "start_time": "2024-08-22T18:34:17.870Z"
   },
   {
    "duration": 5,
    "start_time": "2024-08-22T18:34:18.593Z"
   },
   {
    "duration": 5,
    "start_time": "2024-08-22T18:34:18.599Z"
   },
   {
    "duration": 9,
    "start_time": "2024-08-22T18:34:18.606Z"
   },
   {
    "duration": 15,
    "start_time": "2024-08-22T18:34:18.617Z"
   },
   {
    "duration": 3786,
    "start_time": "2024-08-22T18:34:18.633Z"
   },
   {
    "duration": 18,
    "start_time": "2024-08-22T18:34:22.420Z"
   },
   {
    "duration": 24,
    "start_time": "2024-08-22T18:34:22.439Z"
   },
   {
    "duration": 6,
    "start_time": "2024-08-22T18:34:22.465Z"
   },
   {
    "duration": 104,
    "start_time": "2024-08-22T18:34:22.472Z"
   },
   {
    "duration": 325,
    "start_time": "2024-08-22T18:34:22.579Z"
   },
   {
    "duration": 0,
    "start_time": "2024-08-22T18:34:22.906Z"
   },
   {
    "duration": 0,
    "start_time": "2024-08-22T18:34:22.907Z"
   },
   {
    "duration": 0,
    "start_time": "2024-08-22T18:34:22.908Z"
   },
   {
    "duration": 0,
    "start_time": "2024-08-22T18:34:22.909Z"
   },
   {
    "duration": 0,
    "start_time": "2024-08-22T18:34:22.910Z"
   },
   {
    "duration": 0,
    "start_time": "2024-08-22T18:34:22.911Z"
   },
   {
    "duration": 0,
    "start_time": "2024-08-22T18:34:22.912Z"
   },
   {
    "duration": 0,
    "start_time": "2024-08-22T18:34:22.913Z"
   },
   {
    "duration": 0,
    "start_time": "2024-08-22T18:34:22.914Z"
   },
   {
    "duration": 0,
    "start_time": "2024-08-22T18:34:22.915Z"
   },
   {
    "duration": 0,
    "start_time": "2024-08-22T18:34:22.916Z"
   },
   {
    "duration": 4,
    "start_time": "2024-08-22T18:35:01.212Z"
   },
   {
    "duration": 4076,
    "start_time": "2024-08-22T18:35:10.135Z"
   },
   {
    "duration": 79,
    "start_time": "2024-08-22T18:35:14.213Z"
   },
   {
    "duration": 40,
    "start_time": "2024-08-22T18:35:14.294Z"
   },
   {
    "duration": 642,
    "start_time": "2024-08-22T18:35:14.336Z"
   },
   {
    "duration": 5,
    "start_time": "2024-08-22T18:35:14.980Z"
   },
   {
    "duration": 4,
    "start_time": "2024-08-22T18:35:14.987Z"
   },
   {
    "duration": 28,
    "start_time": "2024-08-22T18:35:14.992Z"
   },
   {
    "duration": 26,
    "start_time": "2024-08-22T18:35:15.022Z"
   },
   {
    "duration": 873,
    "start_time": "2024-08-22T18:35:15.049Z"
   },
   {
    "duration": 20,
    "start_time": "2024-08-22T18:35:15.925Z"
   },
   {
    "duration": 18,
    "start_time": "2024-08-22T18:35:15.947Z"
   },
   {
    "duration": 29,
    "start_time": "2024-08-22T18:35:15.966Z"
   },
   {
    "duration": 106,
    "start_time": "2024-08-22T18:35:15.997Z"
   },
   {
    "duration": 87,
    "start_time": "2024-08-22T18:35:16.105Z"
   },
   {
    "duration": 284,
    "start_time": "2024-08-22T18:35:16.193Z"
   },
   {
    "duration": 3,
    "start_time": "2024-08-22T18:35:16.478Z"
   },
   {
    "duration": 13,
    "start_time": "2024-08-22T18:35:16.490Z"
   },
   {
    "duration": 333054,
    "start_time": "2024-08-22T18:35:16.505Z"
   },
   {
    "duration": 755739,
    "start_time": "2024-08-22T18:40:49.561Z"
   },
   {
    "duration": 2,
    "start_time": "2024-08-22T18:53:25.302Z"
   },
   {
    "duration": 1270,
    "start_time": "2024-08-22T18:53:25.306Z"
   },
   {
    "duration": 0,
    "start_time": "2024-08-22T18:53:26.578Z"
   },
   {
    "duration": 0,
    "start_time": "2024-08-22T18:53:26.579Z"
   },
   {
    "duration": 0,
    "start_time": "2024-08-22T18:53:26.580Z"
   },
   {
    "duration": 0,
    "start_time": "2024-08-22T18:53:26.589Z"
   },
   {
    "duration": 3,
    "start_time": "2024-08-22T19:49:13.739Z"
   },
   {
    "duration": 2,
    "start_time": "2024-08-22T19:49:19.957Z"
   },
   {
    "duration": 933,
    "start_time": "2024-08-22T19:49:21.947Z"
   },
   {
    "duration": 1922,
    "start_time": "2024-08-22T19:49:24.674Z"
   },
   {
    "duration": 71,
    "start_time": "2024-08-22T20:41:49.357Z"
   },
   {
    "duration": 54,
    "start_time": "2024-08-22T20:42:57.202Z"
   },
   {
    "duration": 49,
    "start_time": "2024-08-22T20:43:03.925Z"
   },
   {
    "duration": 63,
    "start_time": "2024-08-22T20:43:29.149Z"
   },
   {
    "duration": 4,
    "start_time": "2024-08-22T20:45:17.936Z"
   },
   {
    "duration": 164,
    "start_time": "2024-08-22T20:45:23.476Z"
   },
   {
    "duration": 170,
    "start_time": "2024-08-22T20:47:13.122Z"
   },
   {
    "duration": 1422041,
    "start_time": "2024-08-22T20:48:16.834Z"
   },
   {
    "duration": 171,
    "start_time": "2024-08-22T21:12:01.867Z"
   },
   {
    "duration": 0,
    "start_time": "2024-08-22T21:15:37.205Z"
   },
   {
    "duration": 70707,
    "start_time": "2024-08-22T21:15:41.683Z"
   },
   {
    "duration": 92755,
    "start_time": "2024-08-22T21:16:55.210Z"
   },
   {
    "duration": 0,
    "start_time": "2024-08-22T21:23:34.237Z"
   },
   {
    "duration": 4628,
    "start_time": "2024-08-22T21:35:00.861Z"
   },
   {
    "duration": 0,
    "start_time": "2024-08-22T21:35:05.492Z"
   },
   {
    "duration": 0,
    "start_time": "2024-08-22T21:35:05.493Z"
   },
   {
    "duration": 0,
    "start_time": "2024-08-22T21:35:05.494Z"
   },
   {
    "duration": 0,
    "start_time": "2024-08-22T21:35:05.495Z"
   },
   {
    "duration": 0,
    "start_time": "2024-08-22T21:35:05.497Z"
   },
   {
    "duration": 0,
    "start_time": "2024-08-22T21:35:05.498Z"
   },
   {
    "duration": 0,
    "start_time": "2024-08-22T21:35:05.500Z"
   },
   {
    "duration": 0,
    "start_time": "2024-08-22T21:35:05.501Z"
   },
   {
    "duration": 0,
    "start_time": "2024-08-22T21:35:05.502Z"
   },
   {
    "duration": 1,
    "start_time": "2024-08-22T21:35:05.503Z"
   },
   {
    "duration": 0,
    "start_time": "2024-08-22T21:35:05.505Z"
   },
   {
    "duration": 0,
    "start_time": "2024-08-22T21:35:05.506Z"
   },
   {
    "duration": 0,
    "start_time": "2024-08-22T21:35:05.508Z"
   },
   {
    "duration": 0,
    "start_time": "2024-08-22T21:35:05.509Z"
   },
   {
    "duration": 0,
    "start_time": "2024-08-22T21:35:05.510Z"
   },
   {
    "duration": 0,
    "start_time": "2024-08-22T21:35:05.511Z"
   },
   {
    "duration": 0,
    "start_time": "2024-08-22T21:35:05.512Z"
   },
   {
    "duration": 0,
    "start_time": "2024-08-22T21:35:05.513Z"
   },
   {
    "duration": 0,
    "start_time": "2024-08-22T21:35:05.514Z"
   },
   {
    "duration": 0,
    "start_time": "2024-08-22T21:35:05.515Z"
   },
   {
    "duration": 0,
    "start_time": "2024-08-22T21:35:05.516Z"
   },
   {
    "duration": 0,
    "start_time": "2024-08-22T21:35:05.517Z"
   },
   {
    "duration": 0,
    "start_time": "2024-08-22T21:35:05.518Z"
   },
   {
    "duration": 4,
    "start_time": "2024-08-22T21:35:34.376Z"
   },
   {
    "duration": 2,
    "start_time": "2024-08-22T21:35:41.105Z"
   },
   {
    "duration": 4458,
    "start_time": "2024-08-22T21:35:51.643Z"
   },
   {
    "duration": 69,
    "start_time": "2024-08-22T21:35:56.103Z"
   },
   {
    "duration": 43,
    "start_time": "2024-08-22T21:35:56.173Z"
   },
   {
    "duration": 603,
    "start_time": "2024-08-22T21:35:56.217Z"
   },
   {
    "duration": 4,
    "start_time": "2024-08-22T21:35:56.822Z"
   },
   {
    "duration": 7,
    "start_time": "2024-08-22T21:35:56.827Z"
   },
   {
    "duration": 5,
    "start_time": "2024-08-22T21:35:56.835Z"
   },
   {
    "duration": 12,
    "start_time": "2024-08-22T21:35:56.842Z"
   },
   {
    "duration": 821,
    "start_time": "2024-08-22T21:35:56.856Z"
   },
   {
    "duration": 19,
    "start_time": "2024-08-22T21:35:57.679Z"
   },
   {
    "duration": 19,
    "start_time": "2024-08-22T21:35:57.699Z"
   },
   {
    "duration": 7,
    "start_time": "2024-08-22T21:35:57.720Z"
   },
   {
    "duration": 291,
    "start_time": "2024-08-22T21:35:57.728Z"
   },
   {
    "duration": 70,
    "start_time": "2024-08-22T21:35:58.022Z"
   },
   {
    "duration": 99,
    "start_time": "2024-08-22T21:35:58.093Z"
   },
   {
    "duration": 3,
    "start_time": "2024-08-22T21:35:58.193Z"
   },
   {
    "duration": 5,
    "start_time": "2024-08-22T21:35:58.198Z"
   },
   {
    "duration": 308237,
    "start_time": "2024-08-22T21:35:58.204Z"
   },
   {
    "duration": 723737,
    "start_time": "2024-08-22T21:41:06.442Z"
   },
   {
    "duration": 19,
    "start_time": "2024-08-22T21:53:10.180Z"
   },
   {
    "duration": 1018,
    "start_time": "2024-08-22T21:53:10.206Z"
   },
   {
    "duration": 2039,
    "start_time": "2024-08-22T21:53:11.225Z"
   },
   {
    "duration": 978188,
    "start_time": "2024-08-22T21:53:13.266Z"
   },
   {
    "duration": 0,
    "start_time": "2024-08-22T22:09:31.456Z"
   },
   {
    "duration": 4000,
    "start_time": "2024-08-23T05:53:59.746Z"
   },
   {
    "duration": 77,
    "start_time": "2024-08-23T05:54:03.748Z"
   },
   {
    "duration": 40,
    "start_time": "2024-08-23T05:54:03.826Z"
   },
   {
    "duration": 720,
    "start_time": "2024-08-23T05:54:03.867Z"
   },
   {
    "duration": 4,
    "start_time": "2024-08-23T05:54:04.589Z"
   },
   {
    "duration": 15,
    "start_time": "2024-08-23T05:54:04.595Z"
   },
   {
    "duration": 11,
    "start_time": "2024-08-23T05:54:04.611Z"
   },
   {
    "duration": 8,
    "start_time": "2024-08-23T05:54:04.623Z"
   },
   {
    "duration": 852,
    "start_time": "2024-08-23T05:54:04.632Z"
   },
   {
    "duration": 17,
    "start_time": "2024-08-23T05:54:05.485Z"
   },
   {
    "duration": 32,
    "start_time": "2024-08-23T05:54:05.503Z"
   },
   {
    "duration": 8,
    "start_time": "2024-08-23T05:54:05.536Z"
   },
   {
    "duration": 301,
    "start_time": "2024-08-23T05:54:05.545Z"
   },
   {
    "duration": 65,
    "start_time": "2024-08-23T05:54:05.848Z"
   },
   {
    "duration": 102,
    "start_time": "2024-08-23T05:54:05.914Z"
   },
   {
    "duration": 4,
    "start_time": "2024-08-23T05:54:06.017Z"
   },
   {
    "duration": 13,
    "start_time": "2024-08-23T05:54:06.023Z"
   },
   {
    "duration": 367175,
    "start_time": "2024-08-23T05:54:06.037Z"
   },
   {
    "duration": 481967,
    "start_time": "2024-08-23T06:00:13.213Z"
   },
   {
    "duration": 9,
    "start_time": "2024-08-23T06:08:15.181Z"
   },
   {
    "duration": 1082,
    "start_time": "2024-08-23T06:08:15.192Z"
   },
   {
    "duration": 1348,
    "start_time": "2024-08-23T06:08:16.276Z"
   },
   {
    "duration": 154877,
    "start_time": "2024-08-23T06:08:17.626Z"
   },
   {
    "duration": 0,
    "start_time": "2024-08-23T06:10:53.010Z"
   },
   {
    "duration": 4888,
    "start_time": "2024-08-23T06:25:41.509Z"
   },
   {
    "duration": 67,
    "start_time": "2024-08-23T06:25:46.398Z"
   },
   {
    "duration": 47,
    "start_time": "2024-08-23T06:25:46.467Z"
   },
   {
    "duration": 709,
    "start_time": "2024-08-23T06:25:46.516Z"
   },
   {
    "duration": 4,
    "start_time": "2024-08-23T06:25:47.226Z"
   },
   {
    "duration": 5,
    "start_time": "2024-08-23T06:25:47.231Z"
   },
   {
    "duration": 6,
    "start_time": "2024-08-23T06:25:47.237Z"
   },
   {
    "duration": 14,
    "start_time": "2024-08-23T06:25:47.244Z"
   },
   {
    "duration": 851,
    "start_time": "2024-08-23T06:25:47.260Z"
   },
   {
    "duration": 16,
    "start_time": "2024-08-23T06:25:48.113Z"
   },
   {
    "duration": 20,
    "start_time": "2024-08-23T06:25:48.131Z"
   },
   {
    "duration": 9,
    "start_time": "2024-08-23T06:25:48.152Z"
   },
   {
    "duration": 274,
    "start_time": "2024-08-23T06:25:48.189Z"
   },
   {
    "duration": 69,
    "start_time": "2024-08-23T06:25:48.465Z"
   },
   {
    "duration": 106,
    "start_time": "2024-08-23T06:25:48.536Z"
   },
   {
    "duration": 4,
    "start_time": "2024-08-23T06:25:48.644Z"
   },
   {
    "duration": 36,
    "start_time": "2024-08-23T06:25:48.650Z"
   },
   {
    "duration": 4073,
    "start_time": "2024-08-23T06:26:18.008Z"
   },
   {
    "duration": 73,
    "start_time": "2024-08-23T06:26:22.083Z"
   },
   {
    "duration": 48,
    "start_time": "2024-08-23T06:26:22.157Z"
   },
   {
    "duration": 707,
    "start_time": "2024-08-23T06:26:22.206Z"
   },
   {
    "duration": 4,
    "start_time": "2024-08-23T06:26:22.915Z"
   },
   {
    "duration": 9,
    "start_time": "2024-08-23T06:26:22.920Z"
   },
   {
    "duration": 5,
    "start_time": "2024-08-23T06:26:22.930Z"
   },
   {
    "duration": 4,
    "start_time": "2024-08-23T06:26:22.936Z"
   },
   {
    "duration": 849,
    "start_time": "2024-08-23T06:26:22.941Z"
   },
   {
    "duration": 14,
    "start_time": "2024-08-23T06:26:23.792Z"
   },
   {
    "duration": 18,
    "start_time": "2024-08-23T06:26:23.807Z"
   },
   {
    "duration": 5,
    "start_time": "2024-08-23T06:26:23.827Z"
   },
   {
    "duration": 292,
    "start_time": "2024-08-23T06:26:23.834Z"
   },
   {
    "duration": 65,
    "start_time": "2024-08-23T06:26:24.128Z"
   },
   {
    "duration": 99,
    "start_time": "2024-08-23T06:26:24.194Z"
   },
   {
    "duration": 4,
    "start_time": "2024-08-23T06:26:24.294Z"
   },
   {
    "duration": 5,
    "start_time": "2024-08-23T06:26:24.299Z"
   },
   {
    "duration": 381862,
    "start_time": "2024-08-23T06:26:24.305Z"
   },
   {
    "duration": 495096,
    "start_time": "2024-08-23T06:32:46.169Z"
   },
   {
    "duration": 3,
    "start_time": "2024-08-23T06:41:01.266Z"
   },
   {
    "duration": 345,
    "start_time": "2024-08-23T06:41:01.270Z"
   },
   {
    "duration": 0,
    "start_time": "2024-08-23T06:41:01.616Z"
   },
   {
    "duration": 0,
    "start_time": "2024-08-23T06:41:01.618Z"
   },
   {
    "duration": 0,
    "start_time": "2024-08-23T06:41:01.619Z"
   },
   {
    "duration": 0,
    "start_time": "2024-08-23T06:41:01.620Z"
   },
   {
    "duration": 4,
    "start_time": "2024-08-23T06:47:06.712Z"
   },
   {
    "duration": 25,
    "start_time": "2024-08-23T06:47:13.938Z"
   },
   {
    "duration": 3,
    "start_time": "2024-08-23T06:48:10.526Z"
   },
   {
    "duration": 28,
    "start_time": "2024-08-23T06:48:14.422Z"
   },
   {
    "duration": 2,
    "start_time": "2024-08-23T06:48:26.025Z"
   },
   {
    "duration": 1008,
    "start_time": "2024-08-23T06:48:27.713Z"
   },
   {
    "duration": 1280,
    "start_time": "2024-08-23T06:48:31.405Z"
   },
   {
    "duration": 142293,
    "start_time": "2024-08-23T06:48:36.702Z"
   },
   {
    "duration": 4,
    "start_time": "2024-08-23T06:52:18.279Z"
   },
   {
    "duration": 5,
    "start_time": "2024-08-23T06:52:33.654Z"
   },
   {
    "duration": 54,
    "start_time": "2024-08-23T06:52:33.660Z"
   },
   {
    "duration": 0,
    "start_time": "2024-08-23T06:52:33.716Z"
   },
   {
    "duration": 3,
    "start_time": "2024-08-23T06:52:56.215Z"
   },
   {
    "duration": 2,
    "start_time": "2024-08-23T06:53:04.766Z"
   },
   {
    "duration": 58,
    "start_time": "2024-08-23T06:53:04.770Z"
   },
   {
    "duration": 4033,
    "start_time": "2024-08-23T06:56:11.995Z"
   },
   {
    "duration": 80,
    "start_time": "2024-08-23T06:56:16.030Z"
   },
   {
    "duration": 39,
    "start_time": "2024-08-23T06:56:16.111Z"
   },
   {
    "duration": 725,
    "start_time": "2024-08-23T06:56:16.151Z"
   },
   {
    "duration": 4,
    "start_time": "2024-08-23T06:56:16.878Z"
   },
   {
    "duration": 23,
    "start_time": "2024-08-23T06:56:16.883Z"
   },
   {
    "duration": 12,
    "start_time": "2024-08-23T06:56:16.907Z"
   },
   {
    "duration": 7,
    "start_time": "2024-08-23T06:56:16.921Z"
   },
   {
    "duration": 841,
    "start_time": "2024-08-23T06:56:16.930Z"
   },
   {
    "duration": 19,
    "start_time": "2024-08-23T06:56:17.772Z"
   },
   {
    "duration": 19,
    "start_time": "2024-08-23T06:56:17.793Z"
   },
   {
    "duration": 7,
    "start_time": "2024-08-23T06:56:17.814Z"
   },
   {
    "duration": 318,
    "start_time": "2024-08-23T06:56:17.823Z"
   },
   {
    "duration": 67,
    "start_time": "2024-08-23T06:56:18.144Z"
   },
   {
    "duration": 109,
    "start_time": "2024-08-23T06:56:18.212Z"
   },
   {
    "duration": 4,
    "start_time": "2024-08-23T06:56:18.322Z"
   },
   {
    "duration": 7,
    "start_time": "2024-08-23T06:56:18.327Z"
   },
   {
    "duration": 373443,
    "start_time": "2024-08-23T06:56:18.336Z"
   },
   {
    "duration": 490207,
    "start_time": "2024-08-23T07:02:31.780Z"
   },
   {
    "duration": 2,
    "start_time": "2024-08-23T07:10:41.990Z"
   },
   {
    "duration": 1007,
    "start_time": "2024-08-23T07:10:41.994Z"
   },
   {
    "duration": 1292,
    "start_time": "2024-08-23T07:10:43.002Z"
   },
   {
    "duration": 395,
    "start_time": "2024-08-23T07:10:44.295Z"
   },
   {
    "duration": 0,
    "start_time": "2024-08-23T07:10:44.692Z"
   },
   {
    "duration": 0,
    "start_time": "2024-08-23T07:10:44.693Z"
   },
   {
    "duration": 3,
    "start_time": "2024-08-23T07:17:02.011Z"
   },
   {
    "duration": 2,
    "start_time": "2024-08-23T07:17:13.663Z"
   },
   {
    "duration": 71458,
    "start_time": "2024-08-23T07:17:21.036Z"
   },
   {
    "duration": 4583,
    "start_time": "2024-08-24T06:41:26.549Z"
   },
   {
    "duration": 10024,
    "start_time": "2024-08-24T06:41:31.133Z"
   },
   {
    "duration": 0,
    "start_time": "2024-08-24T06:41:41.160Z"
   },
   {
    "duration": 0,
    "start_time": "2024-08-24T06:41:41.165Z"
   },
   {
    "duration": 0,
    "start_time": "2024-08-24T06:41:41.166Z"
   },
   {
    "duration": 0,
    "start_time": "2024-08-24T06:41:41.167Z"
   },
   {
    "duration": 0,
    "start_time": "2024-08-24T06:41:41.169Z"
   },
   {
    "duration": 0,
    "start_time": "2024-08-24T06:41:41.170Z"
   },
   {
    "duration": 0,
    "start_time": "2024-08-24T06:41:41.171Z"
   },
   {
    "duration": 0,
    "start_time": "2024-08-24T06:41:41.172Z"
   },
   {
    "duration": 0,
    "start_time": "2024-08-24T06:41:41.174Z"
   },
   {
    "duration": 0,
    "start_time": "2024-08-24T06:41:41.175Z"
   },
   {
    "duration": 0,
    "start_time": "2024-08-24T06:41:41.176Z"
   },
   {
    "duration": 0,
    "start_time": "2024-08-24T06:41:41.177Z"
   },
   {
    "duration": 0,
    "start_time": "2024-08-24T06:41:41.179Z"
   },
   {
    "duration": 0,
    "start_time": "2024-08-24T06:41:41.180Z"
   },
   {
    "duration": 0,
    "start_time": "2024-08-24T06:41:41.181Z"
   },
   {
    "duration": 0,
    "start_time": "2024-08-24T06:41:41.182Z"
   },
   {
    "duration": 0,
    "start_time": "2024-08-24T06:41:41.183Z"
   },
   {
    "duration": 0,
    "start_time": "2024-08-24T06:41:41.184Z"
   },
   {
    "duration": 1,
    "start_time": "2024-08-24T06:41:41.185Z"
   },
   {
    "duration": 0,
    "start_time": "2024-08-24T06:41:41.187Z"
   },
   {
    "duration": 0,
    "start_time": "2024-08-24T06:41:41.188Z"
   },
   {
    "duration": 0,
    "start_time": "2024-08-24T06:41:41.189Z"
   },
   {
    "duration": 0,
    "start_time": "2024-08-24T06:41:41.190Z"
   },
   {
    "duration": 5060,
    "start_time": "2024-08-24T06:43:16.335Z"
   },
   {
    "duration": 78,
    "start_time": "2024-08-24T06:43:21.397Z"
   },
   {
    "duration": 4726,
    "start_time": "2024-08-24T06:43:21.476Z"
   },
   {
    "duration": 0,
    "start_time": "2024-08-24T06:43:26.204Z"
   },
   {
    "duration": 0,
    "start_time": "2024-08-24T06:43:26.205Z"
   },
   {
    "duration": 0,
    "start_time": "2024-08-24T06:43:26.206Z"
   },
   {
    "duration": 0,
    "start_time": "2024-08-24T06:43:26.208Z"
   },
   {
    "duration": 0,
    "start_time": "2024-08-24T06:43:26.209Z"
   },
   {
    "duration": 0,
    "start_time": "2024-08-24T06:43:26.210Z"
   },
   {
    "duration": 0,
    "start_time": "2024-08-24T06:43:26.211Z"
   },
   {
    "duration": 0,
    "start_time": "2024-08-24T06:43:26.212Z"
   },
   {
    "duration": 0,
    "start_time": "2024-08-24T06:43:26.213Z"
   },
   {
    "duration": 0,
    "start_time": "2024-08-24T06:43:26.215Z"
   },
   {
    "duration": 0,
    "start_time": "2024-08-24T06:43:26.216Z"
   },
   {
    "duration": 0,
    "start_time": "2024-08-24T06:43:26.217Z"
   },
   {
    "duration": 0,
    "start_time": "2024-08-24T06:43:26.218Z"
   },
   {
    "duration": 0,
    "start_time": "2024-08-24T06:43:26.219Z"
   },
   {
    "duration": 0,
    "start_time": "2024-08-24T06:43:26.220Z"
   },
   {
    "duration": 0,
    "start_time": "2024-08-24T06:43:26.221Z"
   },
   {
    "duration": 0,
    "start_time": "2024-08-24T06:43:26.222Z"
   },
   {
    "duration": 0,
    "start_time": "2024-08-24T06:43:26.223Z"
   },
   {
    "duration": 0,
    "start_time": "2024-08-24T06:43:26.224Z"
   },
   {
    "duration": 0,
    "start_time": "2024-08-24T06:43:26.225Z"
   },
   {
    "duration": 0,
    "start_time": "2024-08-24T06:43:26.226Z"
   },
   {
    "duration": 0,
    "start_time": "2024-08-24T06:43:26.227Z"
   },
   {
    "duration": 0,
    "start_time": "2024-08-24T06:43:26.228Z"
   },
   {
    "duration": 5073,
    "start_time": "2024-08-24T06:44:36.047Z"
   },
   {
    "duration": 92,
    "start_time": "2024-08-24T06:44:41.121Z"
   },
   {
    "duration": 39,
    "start_time": "2024-08-24T06:44:41.215Z"
   },
   {
    "duration": 720,
    "start_time": "2024-08-24T06:44:41.256Z"
   },
   {
    "duration": 4,
    "start_time": "2024-08-24T06:44:41.978Z"
   },
   {
    "duration": 8,
    "start_time": "2024-08-24T06:44:41.984Z"
   },
   {
    "duration": 6,
    "start_time": "2024-08-24T06:44:41.994Z"
   },
   {
    "duration": 13,
    "start_time": "2024-08-24T06:44:42.001Z"
   },
   {
    "duration": 1257,
    "start_time": "2024-08-24T06:44:42.015Z"
   },
   {
    "duration": 20,
    "start_time": "2024-08-24T06:44:43.273Z"
   },
   {
    "duration": 20,
    "start_time": "2024-08-24T06:44:43.294Z"
   },
   {
    "duration": 7,
    "start_time": "2024-08-24T06:44:43.315Z"
   },
   {
    "duration": 132,
    "start_time": "2024-08-24T06:44:43.324Z"
   },
   {
    "duration": 63,
    "start_time": "2024-08-24T06:44:43.464Z"
   },
   {
    "duration": 316,
    "start_time": "2024-08-24T06:44:43.530Z"
   },
   {
    "duration": 348,
    "start_time": "2024-08-24T06:44:43.847Z"
   },
   {
    "duration": 0,
    "start_time": "2024-08-24T06:44:44.196Z"
   },
   {
    "duration": 0,
    "start_time": "2024-08-24T06:44:44.198Z"
   },
   {
    "duration": 0,
    "start_time": "2024-08-24T06:44:44.199Z"
   },
   {
    "duration": 0,
    "start_time": "2024-08-24T06:44:44.200Z"
   },
   {
    "duration": 0,
    "start_time": "2024-08-24T06:44:44.201Z"
   },
   {
    "duration": 0,
    "start_time": "2024-08-24T06:44:44.202Z"
   },
   {
    "duration": 0,
    "start_time": "2024-08-24T06:44:44.203Z"
   },
   {
    "duration": 0,
    "start_time": "2024-08-24T06:44:44.205Z"
   },
   {
    "duration": 0,
    "start_time": "2024-08-24T06:44:44.206Z"
   },
   {
    "duration": 0,
    "start_time": "2024-08-24T06:44:44.207Z"
   },
   {
    "duration": 4,
    "start_time": "2024-08-24T06:45:10.977Z"
   },
   {
    "duration": 4,
    "start_time": "2024-08-24T06:45:18.897Z"
   },
   {
    "duration": 20,
    "start_time": "2024-08-24T06:45:21.665Z"
   },
   {
    "duration": 4,
    "start_time": "2024-08-24T06:45:33.952Z"
   },
   {
    "duration": 4131,
    "start_time": "2024-08-24T06:50:14.093Z"
   },
   {
    "duration": 71,
    "start_time": "2024-08-24T06:50:18.226Z"
   },
   {
    "duration": 39,
    "start_time": "2024-08-24T06:50:18.298Z"
   },
   {
    "duration": 640,
    "start_time": "2024-08-24T06:50:18.339Z"
   },
   {
    "duration": 4,
    "start_time": "2024-08-24T06:50:18.981Z"
   },
   {
    "duration": 6,
    "start_time": "2024-08-24T06:50:18.987Z"
   },
   {
    "duration": 5,
    "start_time": "2024-08-24T06:50:18.994Z"
   },
   {
    "duration": 6,
    "start_time": "2024-08-24T06:50:19.000Z"
   },
   {
    "duration": 870,
    "start_time": "2024-08-24T06:50:19.007Z"
   },
   {
    "duration": 24,
    "start_time": "2024-08-24T06:50:19.879Z"
   },
   {
    "duration": 23,
    "start_time": "2024-08-24T06:50:19.905Z"
   },
   {
    "duration": 38,
    "start_time": "2024-08-24T06:50:19.930Z"
   },
   {
    "duration": 114,
    "start_time": "2024-08-24T06:50:19.970Z"
   },
   {
    "duration": 60,
    "start_time": "2024-08-24T06:50:20.089Z"
   },
   {
    "duration": 331,
    "start_time": "2024-08-24T06:50:20.151Z"
   },
   {
    "duration": 4,
    "start_time": "2024-08-24T06:50:20.484Z"
   },
   {
    "duration": 16,
    "start_time": "2024-08-24T06:50:20.490Z"
   },
   {
    "duration": 3,
    "start_time": "2024-08-24T06:50:20.507Z"
   },
   {
    "duration": 409711,
    "start_time": "2024-08-24T06:50:20.512Z"
   },
   {
    "duration": 545337,
    "start_time": "2024-08-24T06:57:10.225Z"
   },
   {
    "duration": 3,
    "start_time": "2024-08-24T07:06:15.565Z"
   },
   {
    "duration": 1189,
    "start_time": "2024-08-24T07:06:15.569Z"
   },
   {
    "duration": 1380,
    "start_time": "2024-08-24T07:06:16.759Z"
   },
   {
    "duration": 72724,
    "start_time": "2024-08-24T07:06:18.141Z"
   },
   {
    "duration": 369,
    "start_time": "2024-08-24T07:07:30.867Z"
   },
   {
    "duration": 0,
    "start_time": "2024-08-24T07:07:31.238Z"
   },
   {
    "duration": 28,
    "start_time": "2024-08-24T07:07:58.024Z"
   },
   {
    "duration": 33,
    "start_time": "2024-08-24T07:08:00.953Z"
   },
   {
    "duration": 310,
    "start_time": "2024-08-24T07:08:07.502Z"
   },
   {
    "duration": 45,
    "start_time": "2024-08-24T07:08:13.353Z"
   },
   {
    "duration": 29,
    "start_time": "2024-08-24T07:09:52.355Z"
   },
   {
    "duration": 19,
    "start_time": "2024-08-24T07:10:17.452Z"
   },
   {
    "duration": 14,
    "start_time": "2024-08-24T07:10:26.287Z"
   },
   {
    "duration": 7,
    "start_time": "2024-08-24T07:12:46.236Z"
   },
   {
    "duration": 1224,
    "start_time": "2024-08-24T07:12:48.044Z"
   },
   {
    "duration": 8,
    "start_time": "2024-08-24T07:13:07.561Z"
   },
   {
    "duration": 1651,
    "start_time": "2024-08-24T07:13:10.239Z"
   },
   {
    "duration": 4,
    "start_time": "2024-08-24T07:17:56.108Z"
   },
   {
    "duration": 4,
    "start_time": "2024-08-24T07:18:04.808Z"
   },
   {
    "duration": 2332,
    "start_time": "2024-08-24T07:18:07.475Z"
   },
   {
    "duration": 2187,
    "start_time": "2024-08-24T07:18:12.811Z"
   },
   {
    "duration": 4281,
    "start_time": "2024-08-24T07:23:04.088Z"
   },
   {
    "duration": 75,
    "start_time": "2024-08-24T07:23:08.371Z"
   },
   {
    "duration": 58,
    "start_time": "2024-08-24T07:23:08.447Z"
   },
   {
    "duration": 757,
    "start_time": "2024-08-24T07:23:08.506Z"
   },
   {
    "duration": 4,
    "start_time": "2024-08-24T07:23:09.265Z"
   },
   {
    "duration": 15,
    "start_time": "2024-08-24T07:23:09.271Z"
   },
   {
    "duration": 7,
    "start_time": "2024-08-24T07:23:09.287Z"
   },
   {
    "duration": 11,
    "start_time": "2024-08-24T07:23:09.296Z"
   },
   {
    "duration": 902,
    "start_time": "2024-08-24T07:23:09.308Z"
   },
   {
    "duration": 18,
    "start_time": "2024-08-24T07:23:10.212Z"
   },
   {
    "duration": 38,
    "start_time": "2024-08-24T07:23:10.232Z"
   },
   {
    "duration": 7,
    "start_time": "2024-08-24T07:23:10.272Z"
   },
   {
    "duration": 124,
    "start_time": "2024-08-24T07:23:10.280Z"
   },
   {
    "duration": 62,
    "start_time": "2024-08-24T07:23:10.407Z"
   },
   {
    "duration": 328,
    "start_time": "2024-08-24T07:23:10.470Z"
   },
   {
    "duration": 5,
    "start_time": "2024-08-24T07:23:10.800Z"
   },
   {
    "duration": 6,
    "start_time": "2024-08-24T07:23:10.808Z"
   },
   {
    "duration": 24,
    "start_time": "2024-08-24T07:23:10.816Z"
   },
   {
    "duration": 413999,
    "start_time": "2024-08-24T07:23:10.841Z"
   },
   {
    "duration": 542363,
    "start_time": "2024-08-24T07:30:04.842Z"
   },
   {
    "duration": 3,
    "start_time": "2024-08-24T07:39:07.207Z"
   },
   {
    "duration": 1198,
    "start_time": "2024-08-24T07:39:07.211Z"
   },
   {
    "duration": 1392,
    "start_time": "2024-08-24T07:39:08.411Z"
   },
   {
    "duration": 72961,
    "start_time": "2024-08-24T07:39:09.805Z"
   },
   {
    "duration": 405,
    "start_time": "2024-08-24T07:40:22.768Z"
   },
   {
    "duration": 0,
    "start_time": "2024-08-24T07:40:23.174Z"
   },
   {
    "duration": 0,
    "start_time": "2024-08-24T07:40:23.176Z"
   },
   {
    "duration": 0,
    "start_time": "2024-08-24T07:40:23.177Z"
   },
   {
    "duration": 7,
    "start_time": "2024-08-24T07:49:06.409Z"
   },
   {
    "duration": 1403,
    "start_time": "2024-08-24T07:49:09.065Z"
   },
   {
    "duration": 1630773,
    "start_time": "2024-08-24T07:50:06.418Z"
   },
   {
    "duration": 4120,
    "start_time": "2024-08-24T08:33:01.351Z"
   },
   {
    "duration": 11,
    "start_time": "2024-08-24T08:36:40.015Z"
   },
   {
    "duration": 1456,
    "start_time": "2024-08-24T08:36:47.882Z"
   },
   {
    "duration": 11,
    "start_time": "2024-08-24T08:37:55.494Z"
   },
   {
    "duration": 1576,
    "start_time": "2024-08-24T08:37:58.693Z"
   },
   {
    "duration": 10,
    "start_time": "2024-08-24T08:44:05.563Z"
   },
   {
    "duration": 1332,
    "start_time": "2024-08-24T08:44:08.739Z"
   },
   {
    "duration": 6,
    "start_time": "2024-08-24T08:44:52.683Z"
   },
   {
    "duration": 1188,
    "start_time": "2024-08-24T08:44:54.954Z"
   },
   {
    "duration": 6,
    "start_time": "2024-08-24T08:45:08.146Z"
   },
   {
    "duration": 1233,
    "start_time": "2024-08-24T08:45:10.435Z"
   },
   {
    "duration": 7,
    "start_time": "2024-08-24T08:45:32.339Z"
   },
   {
    "duration": 1127,
    "start_time": "2024-08-24T08:45:34.241Z"
   },
   {
    "duration": 11,
    "start_time": "2024-08-24T08:46:30.562Z"
   },
   {
    "duration": 1230,
    "start_time": "2024-08-24T08:46:32.963Z"
   },
   {
    "duration": 5,
    "start_time": "2024-08-24T08:46:54.738Z"
   },
   {
    "duration": 1163,
    "start_time": "2024-08-24T08:46:56.802Z"
   },
   {
    "duration": 6,
    "start_time": "2024-08-24T08:47:14.642Z"
   },
   {
    "duration": 1293,
    "start_time": "2024-08-24T08:47:17.665Z"
   },
   {
    "duration": 14,
    "start_time": "2024-08-24T08:47:37.085Z"
   },
   {
    "duration": 1291,
    "start_time": "2024-08-24T08:47:39.136Z"
   },
   {
    "duration": 6,
    "start_time": "2024-08-24T08:47:58.304Z"
   },
   {
    "duration": 1266,
    "start_time": "2024-08-24T08:48:00.181Z"
   },
   {
    "duration": 5,
    "start_time": "2024-08-24T08:49:16.425Z"
   },
   {
    "duration": 1251,
    "start_time": "2024-08-24T08:49:18.670Z"
   },
   {
    "duration": 6,
    "start_time": "2024-08-24T08:49:28.161Z"
   },
   {
    "duration": 1331,
    "start_time": "2024-08-24T08:49:30.580Z"
   },
   {
    "duration": 5,
    "start_time": "2024-08-24T08:56:22.094Z"
   },
   {
    "duration": 1198,
    "start_time": "2024-08-24T08:56:24.220Z"
   },
   {
    "duration": 15,
    "start_time": "2024-08-24T08:56:30.861Z"
   },
   {
    "duration": 1264,
    "start_time": "2024-08-24T08:56:32.789Z"
   },
   {
    "duration": 27,
    "start_time": "2024-08-24T09:27:08.658Z"
   },
   {
    "duration": 25,
    "start_time": "2024-08-24T09:29:16.208Z"
   },
   {
    "duration": 24,
    "start_time": "2024-08-24T09:33:55.176Z"
   },
   {
    "duration": 3437,
    "start_time": "2024-08-24T09:42:16.516Z"
   },
   {
    "duration": 3457,
    "start_time": "2024-08-24T09:44:24.707Z"
   },
   {
    "duration": 72406,
    "start_time": "2024-08-24T09:44:32.769Z"
   },
   {
    "duration": 3919,
    "start_time": "2024-08-24T09:45:47.281Z"
   },
   {
    "duration": 1191,
    "start_time": "2024-08-24T09:46:22.106Z"
   },
   {
    "duration": 1613,
    "start_time": "2024-08-24T09:47:13.386Z"
   },
   {
    "duration": 1521,
    "start_time": "2024-08-24T09:47:34.777Z"
   },
   {
    "duration": 2123,
    "start_time": "2024-08-24T09:48:08.081Z"
   },
   {
    "duration": 1514,
    "start_time": "2024-08-24T09:48:40.996Z"
   },
   {
    "duration": 15957,
    "start_time": "2024-08-24T09:49:46.414Z"
   },
   {
    "duration": 4,
    "start_time": "2024-08-24T09:50:16.824Z"
   },
   {
    "duration": 18,
    "start_time": "2024-08-24T09:50:28.136Z"
   },
   {
    "duration": 5,
    "start_time": "2024-08-24T09:50:36.647Z"
   },
   {
    "duration": 1665,
    "start_time": "2024-08-24T09:51:08.040Z"
   },
   {
    "duration": 1305,
    "start_time": "2024-08-24T09:51:27.895Z"
   },
   {
    "duration": 49,
    "start_time": "2024-08-24T09:51:35.001Z"
   },
   {
    "duration": 1344,
    "start_time": "2024-08-24T09:51:45.359Z"
   },
   {
    "duration": 157,
    "start_time": "2024-08-24T09:52:05.960Z"
   },
   {
    "duration": 1773,
    "start_time": "2024-08-24T09:52:19.423Z"
   },
   {
    "duration": 3646,
    "start_time": "2024-08-24T09:52:42.751Z"
   },
   {
    "duration": 5125,
    "start_time": "2024-08-24T09:54:29.376Z"
   },
   {
    "duration": 14325,
    "start_time": "2024-08-24T10:02:37.443Z"
   },
   {
    "duration": 12296,
    "start_time": "2024-08-24T10:04:42.786Z"
   },
   {
    "duration": 8458,
    "start_time": "2024-08-24T10:05:42.786Z"
   },
   {
    "duration": 5,
    "start_time": "2024-08-24T10:08:49.185Z"
   },
   {
    "duration": 1158,
    "start_time": "2024-08-24T10:08:54.649Z"
   },
   {
    "duration": 15916,
    "start_time": "2024-08-24T10:09:29.751Z"
   },
   {
    "duration": 8907,
    "start_time": "2024-08-24T10:10:17.272Z"
   },
   {
    "duration": 7,
    "start_time": "2024-08-24T10:13:43.600Z"
   },
   {
    "duration": 1412,
    "start_time": "2024-08-24T10:13:46.029Z"
   },
   {
    "duration": 7,
    "start_time": "2024-08-24T10:14:15.495Z"
   },
   {
    "duration": 1419,
    "start_time": "2024-08-24T10:14:17.630Z"
   },
   {
    "duration": 10119,
    "start_time": "2024-08-24T10:14:32.184Z"
   },
   {
    "duration": 7,
    "start_time": "2024-08-24T10:14:58.086Z"
   },
   {
    "duration": 2146,
    "start_time": "2024-08-24T10:15:01.293Z"
   },
   {
    "duration": 10479,
    "start_time": "2024-08-24T10:15:06.981Z"
   },
   {
    "duration": 74,
    "start_time": "2024-08-24T10:19:23.868Z"
   },
   {
    "duration": 4,
    "start_time": "2024-08-24T10:22:19.170Z"
   },
   {
    "duration": 53,
    "start_time": "2024-08-24T10:23:23.683Z"
   },
   {
    "duration": 56,
    "start_time": "2024-08-24T10:23:43.363Z"
   },
   {
    "duration": 10580,
    "start_time": "2024-08-24T10:24:34.323Z"
   },
   {
    "duration": 62,
    "start_time": "2024-08-24T10:25:07.180Z"
   },
   {
    "duration": 88,
    "start_time": "2024-08-24T10:27:59.385Z"
   },
   {
    "duration": 3,
    "start_time": "2024-08-24T10:28:24.505Z"
   },
   {
    "duration": 87,
    "start_time": "2024-08-24T10:29:26.777Z"
   },
   {
    "duration": 88,
    "start_time": "2024-08-24T10:29:40.560Z"
   },
   {
    "duration": 45,
    "start_time": "2024-08-24T10:29:54.624Z"
   },
   {
    "duration": 5199,
    "start_time": "2024-08-24T10:51:39.595Z"
   },
   {
    "duration": 83,
    "start_time": "2024-08-24T10:51:44.796Z"
   },
   {
    "duration": 43,
    "start_time": "2024-08-24T10:51:44.880Z"
   },
   {
    "duration": 651,
    "start_time": "2024-08-24T10:51:44.925Z"
   },
   {
    "duration": 4,
    "start_time": "2024-08-24T10:51:45.578Z"
   },
   {
    "duration": 13,
    "start_time": "2024-08-24T10:51:45.584Z"
   },
   {
    "duration": 17,
    "start_time": "2024-08-24T10:51:45.599Z"
   },
   {
    "duration": 30,
    "start_time": "2024-08-24T10:51:45.618Z"
   },
   {
    "duration": 8,
    "start_time": "2024-08-24T10:51:45.649Z"
   },
   {
    "duration": 376,
    "start_time": "2024-08-24T10:51:45.659Z"
   },
   {
    "duration": 0,
    "start_time": "2024-08-24T10:51:46.037Z"
   },
   {
    "duration": 0,
    "start_time": "2024-08-24T10:51:46.038Z"
   },
   {
    "duration": 0,
    "start_time": "2024-08-24T10:51:46.040Z"
   },
   {
    "duration": 0,
    "start_time": "2024-08-24T10:51:46.041Z"
   },
   {
    "duration": 0,
    "start_time": "2024-08-24T10:51:46.042Z"
   },
   {
    "duration": 0,
    "start_time": "2024-08-24T10:51:46.043Z"
   },
   {
    "duration": 0,
    "start_time": "2024-08-24T10:51:46.044Z"
   },
   {
    "duration": 0,
    "start_time": "2024-08-24T10:51:46.045Z"
   },
   {
    "duration": 0,
    "start_time": "2024-08-24T10:51:46.046Z"
   },
   {
    "duration": 0,
    "start_time": "2024-08-24T10:51:46.065Z"
   },
   {
    "duration": 0,
    "start_time": "2024-08-24T10:51:46.066Z"
   },
   {
    "duration": 0,
    "start_time": "2024-08-24T10:51:46.068Z"
   },
   {
    "duration": 0,
    "start_time": "2024-08-24T10:51:46.069Z"
   },
   {
    "duration": 0,
    "start_time": "2024-08-24T10:51:46.070Z"
   },
   {
    "duration": 0,
    "start_time": "2024-08-24T10:51:46.071Z"
   },
   {
    "duration": 0,
    "start_time": "2024-08-24T10:51:46.072Z"
   },
   {
    "duration": 0,
    "start_time": "2024-08-24T10:51:46.073Z"
   },
   {
    "duration": 0,
    "start_time": "2024-08-24T10:51:46.074Z"
   },
   {
    "duration": 4319,
    "start_time": "2024-08-24T10:52:11.480Z"
   },
   {
    "duration": 85,
    "start_time": "2024-08-24T10:52:15.802Z"
   },
   {
    "duration": 57,
    "start_time": "2024-08-24T10:52:15.888Z"
   },
   {
    "duration": 743,
    "start_time": "2024-08-24T10:52:15.947Z"
   },
   {
    "duration": 4,
    "start_time": "2024-08-24T10:52:16.693Z"
   },
   {
    "duration": 4,
    "start_time": "2024-08-24T10:52:16.698Z"
   },
   {
    "duration": 8,
    "start_time": "2024-08-24T10:52:16.704Z"
   },
   {
    "duration": 9,
    "start_time": "2024-08-24T10:52:16.713Z"
   },
   {
    "duration": 7,
    "start_time": "2024-08-24T10:52:16.723Z"
   },
   {
    "duration": 361,
    "start_time": "2024-08-24T10:52:16.732Z"
   },
   {
    "duration": 0,
    "start_time": "2024-08-24T10:52:17.095Z"
   },
   {
    "duration": 0,
    "start_time": "2024-08-24T10:52:17.096Z"
   },
   {
    "duration": 0,
    "start_time": "2024-08-24T10:52:17.097Z"
   },
   {
    "duration": 0,
    "start_time": "2024-08-24T10:52:17.098Z"
   },
   {
    "duration": 0,
    "start_time": "2024-08-24T10:52:17.099Z"
   },
   {
    "duration": 0,
    "start_time": "2024-08-24T10:52:17.100Z"
   },
   {
    "duration": 0,
    "start_time": "2024-08-24T10:52:17.102Z"
   },
   {
    "duration": 0,
    "start_time": "2024-08-24T10:52:17.103Z"
   },
   {
    "duration": 0,
    "start_time": "2024-08-24T10:52:17.104Z"
   },
   {
    "duration": 0,
    "start_time": "2024-08-24T10:52:17.105Z"
   },
   {
    "duration": 0,
    "start_time": "2024-08-24T10:52:17.106Z"
   },
   {
    "duration": 0,
    "start_time": "2024-08-24T10:52:17.107Z"
   },
   {
    "duration": 0,
    "start_time": "2024-08-24T10:52:17.108Z"
   },
   {
    "duration": 0,
    "start_time": "2024-08-24T10:52:17.109Z"
   },
   {
    "duration": 0,
    "start_time": "2024-08-24T10:52:17.110Z"
   },
   {
    "duration": 0,
    "start_time": "2024-08-24T10:52:17.111Z"
   },
   {
    "duration": 0,
    "start_time": "2024-08-24T10:52:17.112Z"
   },
   {
    "duration": 4346,
    "start_time": "2024-08-24T10:52:44.756Z"
   },
   {
    "duration": 75,
    "start_time": "2024-08-24T10:52:49.104Z"
   },
   {
    "duration": 43,
    "start_time": "2024-08-24T10:52:49.180Z"
   },
   {
    "duration": 722,
    "start_time": "2024-08-24T10:52:49.225Z"
   },
   {
    "duration": 6,
    "start_time": "2024-08-24T10:52:49.951Z"
   },
   {
    "duration": 9,
    "start_time": "2024-08-24T10:52:49.958Z"
   },
   {
    "duration": 11,
    "start_time": "2024-08-24T10:52:49.969Z"
   },
   {
    "duration": 15,
    "start_time": "2024-08-24T10:52:49.981Z"
   },
   {
    "duration": 8,
    "start_time": "2024-08-24T10:52:49.998Z"
   },
   {
    "duration": 8,
    "start_time": "2024-08-24T10:52:50.007Z"
   },
   {
    "duration": 939,
    "start_time": "2024-08-24T10:52:50.017Z"
   },
   {
    "duration": 20,
    "start_time": "2024-08-24T10:52:50.958Z"
   },
   {
    "duration": 24,
    "start_time": "2024-08-24T10:52:50.980Z"
   },
   {
    "duration": 6,
    "start_time": "2024-08-24T10:52:51.007Z"
   },
   {
    "duration": 118,
    "start_time": "2024-08-24T10:52:51.015Z"
   },
   {
    "duration": 65,
    "start_time": "2024-08-24T10:52:51.135Z"
   },
   {
    "duration": 347,
    "start_time": "2024-08-24T10:52:51.202Z"
   },
   {
    "duration": 0,
    "start_time": "2024-08-24T10:52:51.551Z"
   },
   {
    "duration": 0,
    "start_time": "2024-08-24T10:52:51.552Z"
   },
   {
    "duration": 0,
    "start_time": "2024-08-24T10:52:51.554Z"
   },
   {
    "duration": 1,
    "start_time": "2024-08-24T10:52:51.555Z"
   },
   {
    "duration": 0,
    "start_time": "2024-08-24T10:52:51.557Z"
   },
   {
    "duration": 0,
    "start_time": "2024-08-24T10:52:51.565Z"
   },
   {
    "duration": 0,
    "start_time": "2024-08-24T10:52:51.566Z"
   },
   {
    "duration": 0,
    "start_time": "2024-08-24T10:52:51.568Z"
   },
   {
    "duration": 0,
    "start_time": "2024-08-24T10:52:51.569Z"
   },
   {
    "duration": 0,
    "start_time": "2024-08-24T10:52:51.571Z"
   },
   {
    "duration": 4274,
    "start_time": "2024-08-24T10:53:10.793Z"
   },
   {
    "duration": 75,
    "start_time": "2024-08-24T10:53:15.069Z"
   },
   {
    "duration": 56,
    "start_time": "2024-08-24T10:53:15.146Z"
   },
   {
    "duration": 715,
    "start_time": "2024-08-24T10:53:15.204Z"
   },
   {
    "duration": 4,
    "start_time": "2024-08-24T10:53:15.922Z"
   },
   {
    "duration": 8,
    "start_time": "2024-08-24T10:53:15.928Z"
   },
   {
    "duration": 23,
    "start_time": "2024-08-24T10:53:15.938Z"
   },
   {
    "duration": 8,
    "start_time": "2024-08-24T10:53:15.962Z"
   },
   {
    "duration": 8,
    "start_time": "2024-08-24T10:53:15.971Z"
   },
   {
    "duration": 7,
    "start_time": "2024-08-24T10:53:15.980Z"
   },
   {
    "duration": 887,
    "start_time": "2024-08-24T10:53:15.989Z"
   },
   {
    "duration": 16,
    "start_time": "2024-08-24T10:53:16.877Z"
   },
   {
    "duration": 36,
    "start_time": "2024-08-24T10:53:16.894Z"
   },
   {
    "duration": 12,
    "start_time": "2024-08-24T10:53:16.932Z"
   },
   {
    "duration": 130,
    "start_time": "2024-08-24T10:53:16.945Z"
   },
   {
    "duration": 59,
    "start_time": "2024-08-24T10:53:17.077Z"
   },
   {
    "duration": 4,
    "start_time": "2024-08-24T10:53:17.137Z"
   },
   {
    "duration": 27,
    "start_time": "2024-08-24T10:53:17.143Z"
   },
   {
    "duration": 148,
    "start_time": "2024-08-24T10:53:17.172Z"
   },
   {
    "duration": 2147289,
    "start_time": "2024-08-24T10:53:17.322Z"
   },
   {
    "duration": 545522,
    "start_time": "2024-08-24T11:29:04.613Z"
   },
   {
    "duration": 3,
    "start_time": "2024-08-24T11:38:10.136Z"
   },
   {
    "duration": 5784,
    "start_time": "2024-08-24T11:38:10.140Z"
   },
   {
    "duration": 1408,
    "start_time": "2024-08-24T11:38:15.926Z"
   },
   {
    "duration": 114,
    "start_time": "2024-08-24T11:38:17.336Z"
   },
   {
    "duration": 101234,
    "start_time": "2024-08-24T11:38:17.452Z"
   },
   {
    "duration": 592,
    "start_time": "2024-08-24T11:40:04.722Z"
   },
   {
    "duration": 7,
    "start_time": "2024-08-24T11:40:05.316Z"
   },
   {
    "duration": 5700,
    "start_time": "2024-08-24T11:40:05.325Z"
   },
   {
    "duration": 1427,
    "start_time": "2024-08-24T11:40:11.026Z"
   },
   {
    "duration": 47,
    "start_time": "2024-08-24T11:40:52.742Z"
   },
   {
    "duration": 0,
    "start_time": "2024-08-24T11:40:52.791Z"
   },
   {
    "duration": 1,
    "start_time": "2024-08-24T11:40:52.792Z"
   },
   {
    "duration": 0,
    "start_time": "2024-08-24T11:40:52.794Z"
   },
   {
    "duration": 0,
    "start_time": "2024-08-24T11:40:52.795Z"
   },
   {
    "duration": 4820,
    "start_time": "2024-08-24T11:41:52.308Z"
   },
   {
    "duration": 484,
    "start_time": "2024-08-24T11:41:57.130Z"
   },
   {
    "duration": 208,
    "start_time": "2024-08-24T11:41:57.616Z"
   },
   {
    "duration": 715,
    "start_time": "2024-08-24T11:41:57.826Z"
   },
   {
    "duration": 4,
    "start_time": "2024-08-24T11:41:58.544Z"
   },
   {
    "duration": 5,
    "start_time": "2024-08-24T11:41:58.549Z"
   },
   {
    "duration": 11,
    "start_time": "2024-08-24T11:41:58.556Z"
   },
   {
    "duration": 5,
    "start_time": "2024-08-24T11:41:58.568Z"
   },
   {
    "duration": 7,
    "start_time": "2024-08-24T11:41:58.574Z"
   },
   {
    "duration": 7,
    "start_time": "2024-08-24T11:41:58.582Z"
   },
   {
    "duration": 1236,
    "start_time": "2024-08-24T11:41:58.590Z"
   },
   {
    "duration": 16,
    "start_time": "2024-08-24T11:41:59.828Z"
   },
   {
    "duration": 20,
    "start_time": "2024-08-24T11:41:59.846Z"
   },
   {
    "duration": 7,
    "start_time": "2024-08-24T11:41:59.868Z"
   },
   {
    "duration": 112,
    "start_time": "2024-08-24T11:41:59.876Z"
   },
   {
    "duration": 63,
    "start_time": "2024-08-24T11:41:59.989Z"
   },
   {
    "duration": 4,
    "start_time": "2024-08-24T11:42:00.065Z"
   },
   {
    "duration": 28,
    "start_time": "2024-08-24T11:42:00.070Z"
   },
   {
    "duration": 35655,
    "start_time": "2024-08-24T11:42:00.100Z"
   },
   {
    "duration": 72,
    "start_time": "2024-08-24T11:42:35.764Z"
   },
   {
    "duration": 0,
    "start_time": "2024-08-24T11:42:35.838Z"
   },
   {
    "duration": 0,
    "start_time": "2024-08-24T11:42:35.840Z"
   },
   {
    "duration": 0,
    "start_time": "2024-08-24T11:42:35.841Z"
   },
   {
    "duration": 0,
    "start_time": "2024-08-24T11:42:35.843Z"
   },
   {
    "duration": 0,
    "start_time": "2024-08-24T11:42:35.844Z"
   },
   {
    "duration": 0,
    "start_time": "2024-08-24T11:42:35.846Z"
   },
   {
    "duration": 7174,
    "start_time": "2024-08-24T11:42:53.467Z"
   },
   {
    "duration": 19,
    "start_time": "2024-08-24T11:43:01.764Z"
   },
   {
    "duration": 9,
    "start_time": "2024-08-24T11:43:01.785Z"
   },
   {
    "duration": 115,
    "start_time": "2024-08-24T11:43:01.796Z"
   },
   {
    "duration": 19,
    "start_time": "2024-08-24T11:43:01.913Z"
   },
   {
    "duration": 450,
    "start_time": "2024-08-24T11:43:01.934Z"
   },
   {
    "duration": 0,
    "start_time": "2024-08-24T11:43:02.387Z"
   },
   {
    "duration": 4261,
    "start_time": "2024-08-24T11:50:41.243Z"
   },
   {
    "duration": 99,
    "start_time": "2024-08-24T11:50:45.506Z"
   },
   {
    "duration": 44,
    "start_time": "2024-08-24T11:50:45.607Z"
   },
   {
    "duration": 668,
    "start_time": "2024-08-24T11:50:45.653Z"
   },
   {
    "duration": 4,
    "start_time": "2024-08-24T11:50:46.323Z"
   },
   {
    "duration": 33,
    "start_time": "2024-08-24T11:50:46.329Z"
   },
   {
    "duration": 6,
    "start_time": "2024-08-24T11:50:46.364Z"
   },
   {
    "duration": 22,
    "start_time": "2024-08-24T11:50:46.372Z"
   },
   {
    "duration": 9,
    "start_time": "2024-08-24T11:50:46.396Z"
   },
   {
    "duration": 14,
    "start_time": "2024-08-24T11:50:46.407Z"
   },
   {
    "duration": 913,
    "start_time": "2024-08-24T11:50:46.422Z"
   },
   {
    "duration": 15,
    "start_time": "2024-08-24T11:50:47.337Z"
   },
   {
    "duration": 33,
    "start_time": "2024-08-24T11:50:47.354Z"
   },
   {
    "duration": 6,
    "start_time": "2024-08-24T11:50:47.390Z"
   },
   {
    "duration": 119,
    "start_time": "2024-08-24T11:50:47.398Z"
   },
   {
    "duration": 96,
    "start_time": "2024-08-24T11:50:47.519Z"
   },
   {
    "duration": 5,
    "start_time": "2024-08-24T11:50:47.617Z"
   },
   {
    "duration": 8,
    "start_time": "2024-08-24T11:50:47.624Z"
   },
   {
    "duration": 4287,
    "start_time": "2024-08-24T11:51:20.632Z"
   },
   {
    "duration": 73,
    "start_time": "2024-08-24T11:51:24.921Z"
   },
   {
    "duration": 41,
    "start_time": "2024-08-24T11:51:24.996Z"
   },
   {
    "duration": 671,
    "start_time": "2024-08-24T11:51:25.039Z"
   },
   {
    "duration": 4,
    "start_time": "2024-08-24T11:51:25.712Z"
   },
   {
    "duration": 34,
    "start_time": "2024-08-24T11:51:25.718Z"
   },
   {
    "duration": 5,
    "start_time": "2024-08-24T11:51:25.754Z"
   },
   {
    "duration": 10,
    "start_time": "2024-08-24T11:51:25.760Z"
   },
   {
    "duration": 7,
    "start_time": "2024-08-24T11:51:25.772Z"
   },
   {
    "duration": 6,
    "start_time": "2024-08-24T11:51:25.780Z"
   },
   {
    "duration": 884,
    "start_time": "2024-08-24T11:51:25.787Z"
   },
   {
    "duration": 15,
    "start_time": "2024-08-24T11:51:26.673Z"
   },
   {
    "duration": 19,
    "start_time": "2024-08-24T11:51:26.690Z"
   },
   {
    "duration": 6,
    "start_time": "2024-08-24T11:51:26.712Z"
   },
   {
    "duration": 133,
    "start_time": "2024-08-24T11:51:26.719Z"
   },
   {
    "duration": 71,
    "start_time": "2024-08-24T11:51:26.854Z"
   },
   {
    "duration": 5,
    "start_time": "2024-08-24T11:51:26.927Z"
   },
   {
    "duration": 5,
    "start_time": "2024-08-24T11:51:26.933Z"
   },
   {
    "duration": 2176680,
    "start_time": "2024-08-24T11:51:26.940Z"
   },
   {
    "duration": 563449,
    "start_time": "2024-08-24T12:27:43.622Z"
   },
   {
    "duration": 714,
    "start_time": "2024-08-24T12:37:07.073Z"
   },
   {
    "duration": 4,
    "start_time": "2024-08-24T12:37:07.789Z"
   },
   {
    "duration": 5889,
    "start_time": "2024-08-24T12:37:07.795Z"
   },
   {
    "duration": 1418,
    "start_time": "2024-08-24T12:37:13.686Z"
   },
   {
    "duration": 4,
    "start_time": "2024-08-24T12:37:15.106Z"
   },
   {
    "duration": 207063,
    "start_time": "2024-08-24T12:37:15.112Z"
   },
   {
    "duration": 18741,
    "start_time": "2024-08-24T12:40:42.177Z"
   },
   {
    "duration": 5,
    "start_time": "2024-08-24T12:55:09.979Z"
   },
   {
    "duration": 834,
    "start_time": "2024-08-24T13:19:00.461Z"
   },
   {
    "duration": 731,
    "start_time": "2024-08-24T13:19:14.774Z"
   },
   {
    "duration": 12,
    "start_time": "2024-08-24T13:19:28.312Z"
   },
   {
    "duration": 4022,
    "start_time": "2024-08-24T13:19:28.326Z"
   },
   {
    "duration": 1368,
    "start_time": "2024-08-24T13:19:32.349Z"
   },
   {
    "duration": 384,
    "start_time": "2024-08-24T13:19:48.105Z"
   },
   {
    "duration": 4613,
    "start_time": "2024-08-25T08:35:40.752Z"
   },
   {
    "duration": 10675,
    "start_time": "2024-08-25T08:35:45.367Z"
   },
   {
    "duration": 0,
    "start_time": "2024-08-25T08:35:56.045Z"
   },
   {
    "duration": 0,
    "start_time": "2024-08-25T08:35:56.047Z"
   },
   {
    "duration": 0,
    "start_time": "2024-08-25T08:35:56.048Z"
   },
   {
    "duration": 0,
    "start_time": "2024-08-25T08:35:56.050Z"
   },
   {
    "duration": 0,
    "start_time": "2024-08-25T08:35:56.050Z"
   },
   {
    "duration": 0,
    "start_time": "2024-08-25T08:35:56.052Z"
   },
   {
    "duration": 0,
    "start_time": "2024-08-25T08:35:56.053Z"
   },
   {
    "duration": 0,
    "start_time": "2024-08-25T08:35:56.054Z"
   },
   {
    "duration": 0,
    "start_time": "2024-08-25T08:35:56.055Z"
   },
   {
    "duration": 0,
    "start_time": "2024-08-25T08:35:56.056Z"
   },
   {
    "duration": 0,
    "start_time": "2024-08-25T08:35:56.058Z"
   },
   {
    "duration": 0,
    "start_time": "2024-08-25T08:35:56.059Z"
   },
   {
    "duration": 0,
    "start_time": "2024-08-25T08:35:56.060Z"
   },
   {
    "duration": 0,
    "start_time": "2024-08-25T08:35:56.061Z"
   },
   {
    "duration": 0,
    "start_time": "2024-08-25T08:35:56.062Z"
   },
   {
    "duration": 0,
    "start_time": "2024-08-25T08:35:56.063Z"
   },
   {
    "duration": 0,
    "start_time": "2024-08-25T08:35:56.064Z"
   },
   {
    "duration": 0,
    "start_time": "2024-08-25T08:35:56.065Z"
   },
   {
    "duration": 0,
    "start_time": "2024-08-25T08:35:56.066Z"
   },
   {
    "duration": 0,
    "start_time": "2024-08-25T08:35:56.067Z"
   },
   {
    "duration": 0,
    "start_time": "2024-08-25T08:35:56.068Z"
   },
   {
    "duration": 0,
    "start_time": "2024-08-25T08:35:56.069Z"
   },
   {
    "duration": 0,
    "start_time": "2024-08-25T08:35:56.070Z"
   },
   {
    "duration": 0,
    "start_time": "2024-08-25T08:35:56.070Z"
   },
   {
    "duration": 0,
    "start_time": "2024-08-25T08:35:56.071Z"
   },
   {
    "duration": 5623,
    "start_time": "2024-08-25T08:40:57.242Z"
   },
   {
    "duration": 5896,
    "start_time": "2024-08-25T08:41:38.717Z"
   },
   {
    "duration": 4413,
    "start_time": "2024-08-25T08:43:05.956Z"
   },
   {
    "duration": 105,
    "start_time": "2024-08-25T08:43:10.371Z"
   },
   {
    "duration": 4,
    "start_time": "2024-08-25T08:43:10.477Z"
   },
   {
    "duration": 3710,
    "start_time": "2024-08-25T08:43:10.482Z"
   },
   {
    "duration": 744,
    "start_time": "2024-08-25T08:43:14.196Z"
   },
   {
    "duration": 4,
    "start_time": "2024-08-25T08:43:14.941Z"
   },
   {
    "duration": 47,
    "start_time": "2024-08-25T08:43:14.947Z"
   },
   {
    "duration": 53,
    "start_time": "2024-08-25T08:43:14.996Z"
   },
   {
    "duration": 37,
    "start_time": "2024-08-25T08:43:15.050Z"
   },
   {
    "duration": 21,
    "start_time": "2024-08-25T08:43:15.089Z"
   },
   {
    "duration": 35,
    "start_time": "2024-08-25T08:43:15.112Z"
   },
   {
    "duration": 1270,
    "start_time": "2024-08-25T08:43:15.149Z"
   },
   {
    "duration": 17,
    "start_time": "2024-08-25T08:43:16.421Z"
   },
   {
    "duration": 21,
    "start_time": "2024-08-25T08:43:16.441Z"
   },
   {
    "duration": 6,
    "start_time": "2024-08-25T08:43:16.464Z"
   },
   {
    "duration": 137,
    "start_time": "2024-08-25T08:43:16.472Z"
   },
   {
    "duration": 73,
    "start_time": "2024-08-25T08:43:16.611Z"
   },
   {
    "duration": 4,
    "start_time": "2024-08-25T08:43:16.686Z"
   },
   {
    "duration": 14,
    "start_time": "2024-08-25T08:43:16.691Z"
   },
   {
    "duration": 4208,
    "start_time": "2024-08-25T08:47:37.640Z"
   },
   {
    "duration": 97,
    "start_time": "2024-08-25T08:47:41.850Z"
   },
   {
    "duration": 4,
    "start_time": "2024-08-25T08:47:41.949Z"
   },
   {
    "duration": 48,
    "start_time": "2024-08-25T08:47:41.955Z"
   },
   {
    "duration": 659,
    "start_time": "2024-08-25T08:47:42.005Z"
   },
   {
    "duration": 4,
    "start_time": "2024-08-25T08:47:42.666Z"
   },
   {
    "duration": 5,
    "start_time": "2024-08-25T08:47:42.671Z"
   },
   {
    "duration": 14,
    "start_time": "2024-08-25T08:47:42.677Z"
   },
   {
    "duration": 5,
    "start_time": "2024-08-25T08:47:42.692Z"
   },
   {
    "duration": 4,
    "start_time": "2024-08-25T08:47:42.699Z"
   },
   {
    "duration": 9,
    "start_time": "2024-08-25T08:47:42.705Z"
   },
   {
    "duration": 855,
    "start_time": "2024-08-25T08:47:42.716Z"
   },
   {
    "duration": 14,
    "start_time": "2024-08-25T08:47:43.573Z"
   },
   {
    "duration": 21,
    "start_time": "2024-08-25T08:47:43.590Z"
   },
   {
    "duration": 14,
    "start_time": "2024-08-25T08:47:43.612Z"
   },
   {
    "duration": 113,
    "start_time": "2024-08-25T08:47:43.628Z"
   },
   {
    "duration": 59,
    "start_time": "2024-08-25T08:47:43.746Z"
   },
   {
    "duration": 3,
    "start_time": "2024-08-25T08:47:43.807Z"
   },
   {
    "duration": 9,
    "start_time": "2024-08-25T08:47:43.812Z"
   },
   {
    "duration": 2146288,
    "start_time": "2024-08-25T08:47:43.823Z"
   },
   {
    "duration": 549193,
    "start_time": "2024-08-25T09:23:30.112Z"
   },
   {
    "duration": 73,
    "start_time": "2024-08-25T09:32:39.307Z"
   },
   {
    "duration": 0,
    "start_time": "2024-08-25T09:32:39.382Z"
   },
   {
    "duration": 0,
    "start_time": "2024-08-25T09:32:39.383Z"
   },
   {
    "duration": 0,
    "start_time": "2024-08-25T09:32:39.384Z"
   },
   {
    "duration": 0,
    "start_time": "2024-08-25T09:32:39.385Z"
   },
   {
    "duration": 0,
    "start_time": "2024-08-25T09:32:39.386Z"
   },
   {
    "duration": 0,
    "start_time": "2024-08-25T09:32:39.388Z"
   },
   {
    "duration": 0,
    "start_time": "2024-08-25T09:32:39.389Z"
   },
   {
    "duration": 5048,
    "start_time": "2024-08-25T10:55:44.833Z"
   },
   {
    "duration": 92,
    "start_time": "2024-08-25T10:55:49.884Z"
   },
   {
    "duration": 4,
    "start_time": "2024-08-25T10:55:49.977Z"
   },
   {
    "duration": 46,
    "start_time": "2024-08-25T10:55:49.982Z"
   },
   {
    "duration": 640,
    "start_time": "2024-08-25T10:55:50.030Z"
   },
   {
    "duration": 5,
    "start_time": "2024-08-25T10:55:50.672Z"
   },
   {
    "duration": 11,
    "start_time": "2024-08-25T10:55:50.679Z"
   },
   {
    "duration": 5,
    "start_time": "2024-08-25T10:55:50.691Z"
   },
   {
    "duration": 13,
    "start_time": "2024-08-25T10:55:50.697Z"
   },
   {
    "duration": 6,
    "start_time": "2024-08-25T10:55:50.712Z"
   },
   {
    "duration": 5,
    "start_time": "2024-08-25T10:55:50.720Z"
   },
   {
    "duration": 24,
    "start_time": "2024-08-25T10:55:50.726Z"
   },
   {
    "duration": 16,
    "start_time": "2024-08-25T10:55:50.752Z"
   },
   {
    "duration": 910,
    "start_time": "2024-08-25T10:55:50.770Z"
   },
   {
    "duration": 15,
    "start_time": "2024-08-25T10:55:51.682Z"
   },
   {
    "duration": 34,
    "start_time": "2024-08-25T10:55:51.698Z"
   },
   {
    "duration": 6,
    "start_time": "2024-08-25T10:55:51.734Z"
   },
   {
    "duration": 115,
    "start_time": "2024-08-25T10:55:51.746Z"
   },
   {
    "duration": 60,
    "start_time": "2024-08-25T10:55:51.862Z"
   },
   {
    "duration": 3,
    "start_time": "2024-08-25T10:55:51.924Z"
   },
   {
    "duration": 4,
    "start_time": "2024-08-25T10:55:51.946Z"
   },
   {
    "duration": 2220963,
    "start_time": "2024-08-25T10:55:51.951Z"
   },
   {
    "duration": 555341,
    "start_time": "2024-08-25T11:32:52.916Z"
   },
   {
    "duration": 953,
    "start_time": "2024-08-25T11:42:08.259Z"
   },
   {
    "duration": 0,
    "start_time": "2024-08-25T11:42:09.214Z"
   },
   {
    "duration": 0,
    "start_time": "2024-08-25T11:42:09.215Z"
   },
   {
    "duration": 0,
    "start_time": "2024-08-25T11:42:09.216Z"
   },
   {
    "duration": 0,
    "start_time": "2024-08-25T11:42:09.217Z"
   },
   {
    "duration": 0,
    "start_time": "2024-08-25T11:42:09.218Z"
   },
   {
    "duration": 0,
    "start_time": "2024-08-25T11:42:09.219Z"
   },
   {
    "duration": 0,
    "start_time": "2024-08-25T11:42:09.220Z"
   },
   {
    "duration": 0,
    "start_time": "2024-08-25T11:42:09.221Z"
   },
   {
    "duration": 0,
    "start_time": "2024-08-25T11:42:09.222Z"
   },
   {
    "duration": 10,
    "start_time": "2024-08-25T11:44:41.599Z"
   },
   {
    "duration": 699,
    "start_time": "2024-08-25T11:51:59.009Z"
   },
   {
    "duration": 183,
    "start_time": "2024-08-25T11:52:14.580Z"
   },
   {
    "duration": 180,
    "start_time": "2024-08-25T11:52:20.530Z"
   },
   {
    "duration": 303,
    "start_time": "2024-08-25T11:52:39.114Z"
   },
   {
    "duration": 91,
    "start_time": "2024-08-25T11:52:43.248Z"
   },
   {
    "duration": 7,
    "start_time": "2024-08-25T11:53:04.682Z"
   },
   {
    "duration": 31,
    "start_time": "2024-08-25T11:53:17.287Z"
   },
   {
    "duration": 0,
    "start_time": "2024-08-25T11:53:17.320Z"
   },
   {
    "duration": 0,
    "start_time": "2024-08-25T11:53:17.321Z"
   },
   {
    "duration": 3,
    "start_time": "2024-08-25T11:54:09.264Z"
   },
   {
    "duration": 4,
    "start_time": "2024-08-25T11:54:17.015Z"
   },
   {
    "duration": 4,
    "start_time": "2024-08-25T11:54:19.824Z"
   },
   {
    "duration": 3,
    "start_time": "2024-08-25T11:54:28.039Z"
   },
   {
    "duration": 3648,
    "start_time": "2024-08-25T11:54:31.239Z"
   },
   {
    "duration": 1383,
    "start_time": "2024-08-25T11:54:34.888Z"
   },
   {
    "duration": 74,
    "start_time": "2024-08-25T11:54:42.736Z"
   },
   {
    "duration": 8,
    "start_time": "2024-08-25T11:55:31.734Z"
   },
   {
    "duration": 11,
    "start_time": "2024-08-25T11:55:35.183Z"
   },
   {
    "duration": 3746,
    "start_time": "2024-08-25T11:55:35.197Z"
   },
   {
    "duration": 1381,
    "start_time": "2024-08-25T11:55:38.946Z"
   },
   {
    "duration": 208818,
    "start_time": "2024-08-25T11:55:40.329Z"
   },
   {
    "duration": 17818,
    "start_time": "2024-08-25T11:59:12.741Z"
   },
   {
    "duration": 3,
    "start_time": "2024-08-25T11:59:30.561Z"
   },
   {
    "duration": 75,
    "start_time": "2024-08-25T11:59:30.566Z"
   },
   {
    "duration": 7,
    "start_time": "2024-08-25T12:00:44.548Z"
   },
   {
    "duration": 33,
    "start_time": "2024-08-25T12:00:44.557Z"
   },
   {
    "duration": 17276,
    "start_time": "2024-08-25T12:01:02.594Z"
   },
   {
    "duration": 7,
    "start_time": "2024-08-25T12:05:20.707Z"
   },
   {
    "duration": 25302,
    "start_time": "2024-08-25T12:05:27.712Z"
   },
   {
    "duration": 3,
    "start_time": "2024-08-25T12:05:59.202Z"
   },
   {
    "duration": 27,
    "start_time": "2024-08-25T12:06:01.514Z"
   },
   {
    "duration": 9,
    "start_time": "2024-08-25T12:08:47.561Z"
   },
   {
    "duration": 3,
    "start_time": "2024-08-25T12:08:54.647Z"
   },
   {
    "duration": 27,
    "start_time": "2024-08-25T12:08:57.289Z"
   },
   {
    "duration": 3,
    "start_time": "2024-08-25T12:11:47.574Z"
   },
   {
    "duration": 23,
    "start_time": "2024-08-25T12:11:50.007Z"
   },
   {
    "duration": 3,
    "start_time": "2024-08-25T12:13:30.270Z"
   },
   {
    "duration": 2203,
    "start_time": "2024-08-25T12:13:32.848Z"
   },
   {
    "duration": 23,
    "start_time": "2024-08-25T12:17:29.396Z"
   },
   {
    "duration": 4,
    "start_time": "2024-08-25T12:18:06.845Z"
   },
   {
    "duration": 4,
    "start_time": "2024-08-25T12:18:22.403Z"
   },
   {
    "duration": 20,
    "start_time": "2024-08-25T12:24:27.848Z"
   },
   {
    "duration": 91398,
    "start_time": "2024-08-25T12:24:34.054Z"
   },
   {
    "duration": 17153,
    "start_time": "2024-08-25T12:26:05.454Z"
   },
   {
    "duration": 4,
    "start_time": "2024-08-25T12:26:22.608Z"
   },
   {
    "duration": 3,
    "start_time": "2024-08-25T12:26:38.079Z"
   },
   {
    "duration": 2697,
    "start_time": "2024-08-25T12:26:41.356Z"
   },
   {
    "duration": 5,
    "start_time": "2024-08-25T12:29:47.670Z"
   },
   {
    "duration": 5,
    "start_time": "2024-08-25T12:30:01.372Z"
   },
   {
    "duration": 17188,
    "start_time": "2024-08-25T12:30:11.584Z"
   },
   {
    "duration": 4,
    "start_time": "2024-08-25T12:35:10.945Z"
   },
   {
    "duration": 3,
    "start_time": "2024-08-25T12:35:40.145Z"
   },
   {
    "duration": 3633,
    "start_time": "2024-08-25T12:35:40.150Z"
   },
   {
    "duration": 1447,
    "start_time": "2024-08-25T12:35:43.785Z"
   },
   {
    "duration": 4340,
    "start_time": "2024-08-25T12:41:07.987Z"
   },
   {
    "duration": 105,
    "start_time": "2024-08-25T12:41:12.329Z"
   },
   {
    "duration": 10,
    "start_time": "2024-08-25T12:41:12.436Z"
   },
   {
    "duration": 46,
    "start_time": "2024-08-25T12:41:12.447Z"
   },
   {
    "duration": 748,
    "start_time": "2024-08-25T12:41:12.496Z"
   },
   {
    "duration": 4,
    "start_time": "2024-08-25T12:41:13.246Z"
   },
   {
    "duration": 10,
    "start_time": "2024-08-25T12:41:13.251Z"
   },
   {
    "duration": 6,
    "start_time": "2024-08-25T12:41:13.262Z"
   },
   {
    "duration": 5,
    "start_time": "2024-08-25T12:41:13.270Z"
   },
   {
    "duration": 6,
    "start_time": "2024-08-25T12:41:13.276Z"
   },
   {
    "duration": 7,
    "start_time": "2024-08-25T12:41:13.283Z"
   },
   {
    "duration": 15,
    "start_time": "2024-08-25T12:41:13.291Z"
   },
   {
    "duration": 919,
    "start_time": "2024-08-25T12:41:13.307Z"
   },
   {
    "duration": 18,
    "start_time": "2024-08-25T12:41:14.230Z"
   },
   {
    "duration": 21,
    "start_time": "2024-08-25T12:41:14.250Z"
   },
   {
    "duration": 15,
    "start_time": "2024-08-25T12:41:14.273Z"
   },
   {
    "duration": 132,
    "start_time": "2024-08-25T12:41:14.290Z"
   },
   {
    "duration": 74,
    "start_time": "2024-08-25T12:41:14.424Z"
   },
   {
    "duration": 5,
    "start_time": "2024-08-25T12:41:14.499Z"
   },
   {
    "duration": 12,
    "start_time": "2024-08-25T12:41:14.506Z"
   },
   {
    "duration": 4338,
    "start_time": "2024-08-25T12:47:58.025Z"
   },
   {
    "duration": 93,
    "start_time": "2024-08-25T12:48:02.365Z"
   },
   {
    "duration": 3,
    "start_time": "2024-08-25T12:48:02.460Z"
   },
   {
    "duration": 49,
    "start_time": "2024-08-25T12:48:02.465Z"
   },
   {
    "duration": 721,
    "start_time": "2024-08-25T12:48:02.516Z"
   },
   {
    "duration": 5,
    "start_time": "2024-08-25T12:48:03.239Z"
   },
   {
    "duration": 5,
    "start_time": "2024-08-25T12:48:03.246Z"
   },
   {
    "duration": 17,
    "start_time": "2024-08-25T12:48:03.253Z"
   },
   {
    "duration": 18,
    "start_time": "2024-08-25T12:48:03.272Z"
   },
   {
    "duration": 26,
    "start_time": "2024-08-25T12:48:03.292Z"
   },
   {
    "duration": 26,
    "start_time": "2024-08-25T12:48:03.319Z"
   },
   {
    "duration": 11,
    "start_time": "2024-08-25T12:48:03.346Z"
   },
   {
    "duration": 921,
    "start_time": "2024-08-25T12:48:03.359Z"
   },
   {
    "duration": 18,
    "start_time": "2024-08-25T12:48:04.283Z"
   },
   {
    "duration": 38,
    "start_time": "2024-08-25T12:48:04.303Z"
   },
   {
    "duration": 8,
    "start_time": "2024-08-25T12:48:04.345Z"
   },
   {
    "duration": 130,
    "start_time": "2024-08-25T12:48:04.355Z"
   },
   {
    "duration": 93,
    "start_time": "2024-08-25T12:48:04.487Z"
   },
   {
    "duration": 5,
    "start_time": "2024-08-25T12:48:04.583Z"
   },
   {
    "duration": 8,
    "start_time": "2024-08-25T12:48:04.590Z"
   },
   {
    "duration": 4667,
    "start_time": "2024-08-25T13:06:01.131Z"
   },
   {
    "duration": 106,
    "start_time": "2024-08-25T13:06:05.800Z"
   },
   {
    "duration": 4,
    "start_time": "2024-08-25T13:06:05.907Z"
   },
   {
    "duration": 92,
    "start_time": "2024-08-25T13:06:05.913Z"
   },
   {
    "duration": 823,
    "start_time": "2024-08-25T13:06:06.009Z"
   },
   {
    "duration": 4,
    "start_time": "2024-08-25T13:06:06.834Z"
   },
   {
    "duration": 18,
    "start_time": "2024-08-25T13:06:06.840Z"
   },
   {
    "duration": 8,
    "start_time": "2024-08-25T13:06:06.860Z"
   },
   {
    "duration": 40,
    "start_time": "2024-08-25T13:06:06.870Z"
   },
   {
    "duration": 19,
    "start_time": "2024-08-25T13:06:06.911Z"
   },
   {
    "duration": 17,
    "start_time": "2024-08-25T13:06:06.931Z"
   },
   {
    "duration": 8,
    "start_time": "2024-08-25T13:06:06.950Z"
   },
   {
    "duration": 1082,
    "start_time": "2024-08-25T13:06:06.962Z"
   },
   {
    "duration": 25,
    "start_time": "2024-08-25T13:06:08.050Z"
   },
   {
    "duration": 22,
    "start_time": "2024-08-25T13:06:08.076Z"
   },
   {
    "duration": 6,
    "start_time": "2024-08-25T13:06:08.100Z"
   },
   {
    "duration": 167,
    "start_time": "2024-08-25T13:06:08.108Z"
   },
   {
    "duration": 83,
    "start_time": "2024-08-25T13:06:08.277Z"
   },
   {
    "duration": 12,
    "start_time": "2024-08-25T13:06:08.367Z"
   },
   {
    "duration": 4,
    "start_time": "2024-08-25T13:06:08.386Z"
   },
   {
    "duration": 2257979,
    "start_time": "2024-08-25T13:06:08.392Z"
   },
   {
    "duration": 567000,
    "start_time": "2024-08-25T13:43:46.373Z"
   },
   {
    "duration": 740,
    "start_time": "2024-08-25T13:53:13.375Z"
   },
   {
    "duration": 334,
    "start_time": "2024-08-25T13:53:14.116Z"
   },
   {
    "duration": 455,
    "start_time": "2024-08-25T13:53:14.452Z"
   },
   {
    "duration": 0,
    "start_time": "2024-08-25T13:53:14.909Z"
   },
   {
    "duration": 0,
    "start_time": "2024-08-25T13:53:14.910Z"
   },
   {
    "duration": 0,
    "start_time": "2024-08-25T13:53:14.911Z"
   },
   {
    "duration": 0,
    "start_time": "2024-08-25T13:53:14.913Z"
   },
   {
    "duration": 0,
    "start_time": "2024-08-25T13:53:14.914Z"
   },
   {
    "duration": 0,
    "start_time": "2024-08-25T13:53:14.915Z"
   },
   {
    "duration": 0,
    "start_time": "2024-08-25T13:53:14.916Z"
   },
   {
    "duration": 13,
    "start_time": "2024-08-25T14:19:56.016Z"
   },
   {
    "duration": 4,
    "start_time": "2024-08-25T14:20:01.311Z"
   },
   {
    "duration": 3699,
    "start_time": "2024-08-25T14:20:01.317Z"
   },
   {
    "duration": 1471,
    "start_time": "2024-08-25T14:20:05.018Z"
   },
   {
    "duration": 46417,
    "start_time": "2024-08-25T14:20:10.129Z"
   },
   {
    "duration": 19800,
    "start_time": "2024-08-25T14:20:56.548Z"
   },
   {
    "duration": 3,
    "start_time": "2024-08-25T14:21:16.350Z"
   },
   {
    "duration": 2402,
    "start_time": "2024-08-25T14:21:16.355Z"
   },
   {
    "duration": 4512,
    "start_time": "2024-08-30T07:48:52.098Z"
   },
   {
    "duration": 10397,
    "start_time": "2024-08-30T07:48:56.612Z"
   },
   {
    "duration": 0,
    "start_time": "2024-08-30T07:49:07.013Z"
   },
   {
    "duration": 0,
    "start_time": "2024-08-30T07:49:07.014Z"
   },
   {
    "duration": 0,
    "start_time": "2024-08-30T07:49:07.015Z"
   },
   {
    "duration": 0,
    "start_time": "2024-08-30T07:49:07.016Z"
   },
   {
    "duration": 0,
    "start_time": "2024-08-30T07:49:07.017Z"
   },
   {
    "duration": 0,
    "start_time": "2024-08-30T07:49:07.019Z"
   },
   {
    "duration": 0,
    "start_time": "2024-08-30T07:49:07.020Z"
   },
   {
    "duration": 0,
    "start_time": "2024-08-30T07:49:07.021Z"
   },
   {
    "duration": 0,
    "start_time": "2024-08-30T07:49:07.023Z"
   },
   {
    "duration": 0,
    "start_time": "2024-08-30T07:49:07.024Z"
   },
   {
    "duration": 0,
    "start_time": "2024-08-30T07:49:07.025Z"
   },
   {
    "duration": 0,
    "start_time": "2024-08-30T07:49:07.026Z"
   },
   {
    "duration": 0,
    "start_time": "2024-08-30T07:49:07.027Z"
   },
   {
    "duration": 0,
    "start_time": "2024-08-30T07:49:07.028Z"
   },
   {
    "duration": 0,
    "start_time": "2024-08-30T07:49:07.029Z"
   },
   {
    "duration": 0,
    "start_time": "2024-08-30T07:49:07.030Z"
   },
   {
    "duration": 0,
    "start_time": "2024-08-30T07:49:07.031Z"
   },
   {
    "duration": 0,
    "start_time": "2024-08-30T07:49:07.033Z"
   },
   {
    "duration": 0,
    "start_time": "2024-08-30T07:49:07.034Z"
   },
   {
    "duration": 0,
    "start_time": "2024-08-30T07:49:07.035Z"
   },
   {
    "duration": 0,
    "start_time": "2024-08-30T07:49:07.036Z"
   },
   {
    "duration": 0,
    "start_time": "2024-08-30T07:49:07.037Z"
   },
   {
    "duration": 0,
    "start_time": "2024-08-30T07:49:07.038Z"
   },
   {
    "duration": 0,
    "start_time": "2024-08-30T07:49:07.039Z"
   },
   {
    "duration": 0,
    "start_time": "2024-08-30T07:49:07.040Z"
   },
   {
    "duration": 1,
    "start_time": "2024-08-30T07:49:07.041Z"
   },
   {
    "duration": 0,
    "start_time": "2024-08-30T07:49:07.042Z"
   },
   {
    "duration": 0,
    "start_time": "2024-08-30T07:49:07.044Z"
   },
   {
    "duration": 0,
    "start_time": "2024-08-30T07:49:07.045Z"
   },
   {
    "duration": 0,
    "start_time": "2024-08-30T07:49:07.046Z"
   },
   {
    "duration": 4128,
    "start_time": "2024-08-30T07:49:40.305Z"
   },
   {
    "duration": 98,
    "start_time": "2024-08-30T07:49:44.435Z"
   },
   {
    "duration": 3,
    "start_time": "2024-08-30T07:49:44.535Z"
   },
   {
    "duration": 3727,
    "start_time": "2024-08-30T07:49:44.540Z"
   },
   {
    "duration": 744,
    "start_time": "2024-08-30T07:49:48.269Z"
   },
   {
    "duration": 4,
    "start_time": "2024-08-30T07:49:49.015Z"
   },
   {
    "duration": 4,
    "start_time": "2024-08-30T07:49:49.020Z"
   },
   {
    "duration": 14,
    "start_time": "2024-08-30T07:49:49.025Z"
   },
   {
    "duration": 14,
    "start_time": "2024-08-30T07:49:49.040Z"
   },
   {
    "duration": 5,
    "start_time": "2024-08-30T07:49:49.055Z"
   },
   {
    "duration": 6,
    "start_time": "2024-08-30T07:49:49.061Z"
   },
   {
    "duration": 7,
    "start_time": "2024-08-30T07:49:49.069Z"
   },
   {
    "duration": 3850,
    "start_time": "2024-08-30T07:49:49.077Z"
   },
   {
    "duration": 17,
    "start_time": "2024-08-30T07:49:52.930Z"
   },
   {
    "duration": 37,
    "start_time": "2024-08-30T07:49:52.948Z"
   },
   {
    "duration": 6,
    "start_time": "2024-08-30T07:49:52.987Z"
   },
   {
    "duration": 122,
    "start_time": "2024-08-30T07:49:52.995Z"
   },
   {
    "duration": 61,
    "start_time": "2024-08-30T07:49:53.119Z"
   },
   {
    "duration": 4,
    "start_time": "2024-08-30T07:49:53.182Z"
   },
   {
    "duration": 29,
    "start_time": "2024-08-30T07:49:53.187Z"
   }
  ],
  "kernelspec": {
   "display_name": "Python 3 (ipykernel)",
   "language": "python",
   "name": "python3"
  },
  "language_info": {
   "codemirror_mode": {
    "name": "ipython",
    "version": 3
   },
   "file_extension": ".py",
   "mimetype": "text/x-python",
   "name": "python",
   "nbconvert_exporter": "python",
   "pygments_lexer": "ipython3",
   "version": "3.9.18"
  },
  "toc": {
   "base_numbering": 1,
   "nav_menu": {},
   "number_sections": true,
   "sideBar": true,
   "skip_h1_title": true,
   "title_cell": "Содержание",
   "title_sidebar": "Contents",
   "toc_cell": true,
   "toc_position": {
    "height": "calc(100% - 180px)",
    "left": "10px",
    "top": "150px",
    "width": "302.391px"
   },
   "toc_section_display": true,
   "toc_window_display": false
  }
 },
 "nbformat": 4,
 "nbformat_minor": 4
}
